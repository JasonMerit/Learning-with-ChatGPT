{
 "cells": [
  {
   "cell_type": "code",
   "execution_count": 2,
   "metadata": {},
   "outputs": [],
   "source": [
    "# import sections from dev\\AL - experiment\\df_pickle\\sections.pkl\n",
    "import pickle\n",
    "with open('sections.pkl', 'rb') as f:\n",
    "    sections = pickle.load(f)\n"
   ]
  },
  {
   "cell_type": "code",
   "execution_count": 7,
   "metadata": {},
   "outputs": [
    {
     "name": "stdout",
     "output_type": "stream",
     "text": [
      "756321\n",
      "75529395\n"
     ]
    }
   ],
   "source": [
    "# Get total number of characters\n",
    "total_chars = 0\n",
    "for section in sections:\n",
    "    total_chars += len(section)\n",
    "print(total_chars)\n",
    "print(75529395)"
   ]
  }
 ],
 "metadata": {
  "kernelspec": {
   "display_name": "base",
   "language": "python",
   "name": "python3"
  },
  "language_info": {
   "codemirror_mode": {
    "name": "ipython",
    "version": 3
   },
   "file_extension": ".py",
   "mimetype": "text/x-python",
   "name": "python",
   "nbconvert_exporter": "python",
   "pygments_lexer": "ipython3",
   "version": "3.10.8"
  },
  "orig_nbformat": 4
 },
 "nbformat": 4,
 "nbformat_minor": 2
}
