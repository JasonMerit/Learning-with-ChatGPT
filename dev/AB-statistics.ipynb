{
 "cells": [
  {
   "cell_type": "code",
   "execution_count": 1,
   "metadata": {},
   "outputs": [
    {
     "data": {
      "text/html": [
       "<div>\n",
       "<style scoped>\n",
       "    .dataframe tbody tr th:only-of-type {\n",
       "        vertical-align: middle;\n",
       "    }\n",
       "\n",
       "    .dataframe tbody tr th {\n",
       "        vertical-align: top;\n",
       "    }\n",
       "\n",
       "    .dataframe thead th {\n",
       "        text-align: right;\n",
       "    }\n",
       "</style>\n",
       "<table border=\"1\" class=\"dataframe\">\n",
       "  <thead>\n",
       "    <tr style=\"text-align: right;\">\n",
       "      <th></th>\n",
       "      <th>short</th>\n",
       "      <th>question</th>\n",
       "      <th>medium</th>\n",
       "      <th>long</th>\n",
       "      <th>fetched</th>\n",
       "      <th>fetched_time</th>\n",
       "      <th>choice</th>\n",
       "      <th>answer_short</th>\n",
       "      <th>answer_medium</th>\n",
       "      <th>answer_long</th>\n",
       "    </tr>\n",
       "  </thead>\n",
       "  <tbody>\n",
       "    <tr>\n",
       "      <th>43</th>\n",
       "      <td>67 5.1.3 Basic rules of probability  69 5.1.4...</td>\n",
       "      <td>How are random numbers generated, and what is ...</td>\n",
       "      <td>67 5.1.3 Basic rules of probability  69 5.1.4...</td>\n",
       "      <td>67 5.1.3 Basic rules of probability  69 5.1.4...</td>\n",
       "      <td>True</td>\n",
       "      <td>1686494949</td>\n",
       "      <td>short</td>\n",
       "      <td>Random numbers are generated using various alg...</td>\n",
       "      <td>Random numbers are generated using various alg...</td>\n",
       "      <td>Random numbers are generated using algorithms ...</td>\n",
       "    </tr>\n",
       "    <tr>\n",
       "      <th>68</th>\n",
       "      <td>282 17 Ensemble methods  285 17.1 Introductio...</td>\n",
       "      <td>What are the practical issues with the K-means...</td>\n",
       "      <td>243 14.1 Least squares regularization 243 14....</td>\n",
       "      <td>243 14.1 Least squares regularization 243 14....</td>\n",
       "      <td>True</td>\n",
       "      <td>1686499593</td>\n",
       "      <td>medium</td>\n",
       "      <td>The practical issues with the K-means algorith...</td>\n",
       "      <td>The K-means algorithm is a popular clustering ...</td>\n",
       "      <td>The practical issues with the K-means algorith...</td>\n",
       "    </tr>\n",
       "    <tr>\n",
       "      <th>100</th>\n",
       "      <td>We might still think these tasks, impressive ...</td>\n",
       "      <td>Who is Susi and what is her profession?</td>\n",
       "      <td>We might still think these tasks, impressive ...</td>\n",
       "      <td>We might still think these tasks, impressive ...</td>\n",
       "      <td>True</td>\n",
       "      <td>1686484446</td>\n",
       "      <td>long</td>\n",
       "      <td>Susi is an electrical engineer who is in charg...</td>\n",
       "      <td>Susi is an electrical engineer who is in charg...</td>\n",
       "      <td>Susi is an electrical engineer who is in charg...</td>\n",
       "    </tr>\n",
       "  </tbody>\n",
       "</table>\n",
       "</div>"
      ],
      "text/plain": [
       "                                                 short  \\\n",
       "43    67 5.1.3 Basic rules of probability  69 5.1.4...   \n",
       "68    282 17 Ensemble methods  285 17.1 Introductio...   \n",
       "100   We might still think these tasks, impressive ...   \n",
       "\n",
       "                                              question  \\\n",
       "43   How are random numbers generated, and what is ...   \n",
       "68   What are the practical issues with the K-means...   \n",
       "100            Who is Susi and what is her profession?   \n",
       "\n",
       "                                                medium  \\\n",
       "43    67 5.1.3 Basic rules of probability  69 5.1.4...   \n",
       "68    243 14.1 Least squares regularization 243 14....   \n",
       "100   We might still think these tasks, impressive ...   \n",
       "\n",
       "                                                  long  fetched  fetched_time  \\\n",
       "43    67 5.1.3 Basic rules of probability  69 5.1.4...     True    1686494949   \n",
       "68    243 14.1 Least squares regularization 243 14....     True    1686499593   \n",
       "100   We might still think these tasks, impressive ...     True    1686484446   \n",
       "\n",
       "     choice                                       answer_short  \\\n",
       "43    short  Random numbers are generated using various alg...   \n",
       "68   medium  The practical issues with the K-means algorith...   \n",
       "100    long  Susi is an electrical engineer who is in charg...   \n",
       "\n",
       "                                         answer_medium  \\\n",
       "43   Random numbers are generated using various alg...   \n",
       "68   The K-means algorithm is a popular clustering ...   \n",
       "100  Susi is an electrical engineer who is in charg...   \n",
       "\n",
       "                                           answer_long  \n",
       "43   Random numbers are generated using algorithms ...  \n",
       "68   The practical issues with the K-means algorith...  \n",
       "100  Susi is an electrical engineer who is in charg...  "
      ]
     },
     "execution_count": 1,
     "metadata": {},
     "output_type": "execute_result"
    }
   ],
   "source": [
    "import pickle\n",
    "with open('abc-test-results.pkl', 'rb') as f:\n",
    "    AB_statistics = pickle.load(f)\n",
    "AB_statistics.head(3)"
   ]
  },
  {
   "cell_type": "code",
   "execution_count": 2,
   "metadata": {},
   "outputs": [],
   "source": [
    "choices = AB_statistics['choice'].value_counts()\n",
    "long, medium, short = choices / 100\n",
    "results = [short, medium, long]"
   ]
  },
  {
   "cell_type": "code",
   "execution_count": 3,
   "metadata": {},
   "outputs": [
    {
     "data": {
      "text/plain": [
       "[0.29, 0.31, 0.4]"
      ]
     },
     "execution_count": 3,
     "metadata": {},
     "output_type": "execute_result"
    }
   ],
   "source": [
    "results"
   ]
  },
  {
   "cell_type": "code",
   "execution_count": 51,
   "metadata": {},
   "outputs": [
    {
     "data": {
      "image/png": "[encoded data removed]",
      "text/plain": [
       "<Figure size 640x480 with 1 Axes>"
      ]
     },
     "metadata": {},
     "output_type": "display_data"
    },
    {
     "data": {
      "text/plain": [
       "<Figure size 640x480 with 0 Axes>"
      ]
     },
     "metadata": {},
     "output_type": "display_data"
    }
   ],
   "source": [
    "import matplotlib.pyplot as plt\n",
    "import numpy as np\n",
    "\n",
    "def errorbar(data):\n",
    "    CI = [1.96 * np.sqrt(x * (1-x) / 100) for x in data]\n",
    "    width = 0.1\n",
    "    for i in range(len(data)):\n",
    "        plt.plot([i, i], [data[i]-CI[i], data[i]+CI[i]], color='black')\n",
    "        plt.plot([i-width, i+width], [data[i]+CI[i], data[i]+CI[i]], color='black')\n",
    "        plt.plot([i-width, i+width], [data[i]-CI[i], data[i]-CI[i]], color='black')\n",
    "    plt.bar(['Short', 'Medium', 'Long'], results)\n",
    "\n",
    "errorbar(results)\n",
    "plt.title('A/B test distribution')\n",
    "plt.ylabel('Proportion')\n",
    "plt.show()\n",
    "\n",
    "# Save as png\n",
    "plt.savefig('AB-test-distribution.png')\n"
   ]
  }
 ],
 "metadata": {
  "kernelspec": {
   "display_name": "cuda_env",
   "language": "python",
   "name": "python3"
  },
  "language_info": {
   "codemirror_mode": {
    "name": "ipython",
    "version": 3
   },
   "file_extension": ".py",
   "mimetype": "text/x-python",
   "name": "python",
   "nbconvert_exporter": "python",
   "pygments_lexer": "ipython3",
   "version": "3.10.10"
  },
  "orig_nbformat": 4
 },
 "nbformat": 4,
 "nbformat_minor": 2
}
