{
 "cells": [
  {
   "cell_type": "code",
   "execution_count": 2,
   "metadata": {},
   "outputs": [],
   "source": [
    "import numpy as np\n",
    "import pandas as pd\n",
    "import pickle"
   ]
  },
  {
   "cell_type": "code",
   "execution_count": 10,
   "metadata": {},
   "outputs": [
    {
     "ename": "OSError",
     "evalue": "[WinError 182] Operativsystemet kan ikke køre %1. Error loading \"c:\\Users\\mathi\\anaconda3\\envs\\new\\lib\\site-packages\\torch\\lib\\shm.dll\" or one of its dependencies.",
     "output_type": "error",
     "traceback": [
      "\u001b[1;31m---------------------------------------------------------------------------\u001b[0m",
      "\u001b[1;31mOSError\u001b[0m                                   Traceback (most recent call last)",
      "Cell \u001b[1;32mIn[10], line 2\u001b[0m\n\u001b[0;32m      1\u001b[0m \u001b[39mwith\u001b[39;00m \u001b[39mopen\u001b[39m(\u001b[39m'\u001b[39m\u001b[39m../AL - experiment/df_pickle/df_context.pkl\u001b[39m\u001b[39m'\u001b[39m, \u001b[39m'\u001b[39m\u001b[39mrb\u001b[39m\u001b[39m'\u001b[39m) \u001b[39mas\u001b[39;00m f:\n\u001b[1;32m----> 2\u001b[0m     df_context \u001b[39m=\u001b[39m pickle\u001b[39m.\u001b[39;49mload(f)\n",
      "File \u001b[1;32mc:\\Users\\mathi\\anaconda3\\envs\\new\\lib\\site-packages\\torch\\__init__.py:128\u001b[0m\n\u001b[0;32m    126\u001b[0m     err \u001b[39m=\u001b[39m ctypes\u001b[39m.\u001b[39mWinError(last_error)\n\u001b[0;32m    127\u001b[0m     err\u001b[39m.\u001b[39mstrerror \u001b[39m+\u001b[39m\u001b[39m=\u001b[39m \u001b[39mf\u001b[39m\u001b[39m'\u001b[39m\u001b[39m Error loading \u001b[39m\u001b[39m\"\u001b[39m\u001b[39m{\u001b[39;00mdll\u001b[39m}\u001b[39;00m\u001b[39m\"\u001b[39m\u001b[39m or one of its dependencies.\u001b[39m\u001b[39m'\u001b[39m\n\u001b[1;32m--> 128\u001b[0m     \u001b[39mraise\u001b[39;00m err\n\u001b[0;32m    129\u001b[0m \u001b[39melif\u001b[39;00m res \u001b[39mis\u001b[39;00m \u001b[39mnot\u001b[39;00m \u001b[39mNone\u001b[39;00m:\n\u001b[0;32m    130\u001b[0m     is_loaded \u001b[39m=\u001b[39m \u001b[39mTrue\u001b[39;00m\n",
      "\u001b[1;31mOSError\u001b[0m: [WinError 182] Operativsystemet kan ikke køre %1. Error loading \"c:\\Users\\mathi\\anaconda3\\envs\\new\\lib\\site-packages\\torch\\lib\\shm.dll\" or one of its dependencies."
     ]
    }
   ],
   "source": [
    "with open('../AL - experiment/df_pickle/df_context.pkl', 'rb') as f:\n",
    "    df_context = pickle.load(f)"
   ]
  },
  {
   "cell_type": "code",
   "execution_count": 11,
   "metadata": {},
   "outputs": [],
   "source": [
    "with open('./question-context-20.pkl', 'rb') as f:\n",
    "    df_20 = pickle.load(f)\n",
    "df_20.reset_index(inplace=True)"
   ]
  },
  {
   "cell_type": "code",
   "execution_count": 4,
   "metadata": {},
   "outputs": [],
   "source": [
    "from sentence_transformers import SentenceTransformer, util"
   ]
  },
  {
   "cell_type": "code",
   "execution_count": 5,
   "metadata": {},
   "outputs": [],
   "source": [
    "model = SentenceTransformer('sentence-transformers/multi-qa-mpnet-base-dot-v1')"
   ]
  },
  {
   "cell_type": "code",
   "execution_count": 12,
   "metadata": {},
   "outputs": [
    {
     "data": {
      "text/plain": [
       "array([\"What was the subject of Alan Turing's famous essay?\",\n",
       "       'How did Alan Turing suggest we approach the question of building intelligent machines?',\n",
       "       'What did Alan Turing propose as an alternative to defining intelligence?',\n",
       "       ...,\n",
       "       'Who is credited with first using mixture models to analyze the length of crabs?',\n",
       "       'When was the EM algorithm first named?',\n",
       "       'What is the goal of density estimation and how is it relevant in practical applications?'],\n",
       "      dtype=object)"
      ]
     },
     "execution_count": 12,
     "metadata": {},
     "output_type": "execute_result"
    }
   ],
   "source": [
    "df_20['question'].unique()"
   ]
  },
  {
   "cell_type": "code",
   "execution_count": 13,
   "metadata": {},
   "outputs": [],
   "source": [
    "# context_embeddings = {ctx: model.encode(ctx) for ctx in df_20['context'].unique()}\n",
    "# question_embeddings = {q: model.encode(q) for q in df_20['question'].unique()}\n",
    "# with open('./context_embeddings.pkl', 'wb') as f:\n",
    "#     f.write(pickle.dumps(context_embeddings))\n",
    "# with open('./question_embeddings.pkl', 'wb') as f:\n",
    "#     f.write(pickle.dumps(question_embeddings))\n",
    "with open('./context_embeddings.pkl', 'rb') as f:\n",
    "    context_embeddings = pickle.loads(f.read())\n",
    "with open('./question_embeddings.pkl', 'rb') as f:\n",
    "    question_embeddings = pickle.loads(f.read())"
   ]
  },
  {
   "cell_type": "code",
   "execution_count": 14,
   "metadata": {},
   "outputs": [
    {
     "data": {
      "text/plain": [
       "3198"
      ]
     },
     "execution_count": 14,
     "metadata": {},
     "output_type": "execute_result"
    }
   ],
   "source": [
    "from collections import defaultdict\n",
    "\n",
    "is_added = defaultdict(lambda: 0)\n",
    "\n",
    "contexts = df_20['context'].unique()\n",
    "data = []\n",
    "\n",
    "for i,row in df_20.iterrows():\n",
    "    if is_added[row['question']]:\n",
    "        continue\n",
    "\n",
    "    dft = pd.DataFrame(columns=['context', 'question', 'label'])\n",
    "    dft['context'] = contexts\n",
    "    dft['question'] = row['question']\n",
    "    dft['label'] = 0\n",
    "\n",
    "    #dft.loc[dft['context']==row['context'],'label'] = 1\n",
    "\n",
    "    for ctx in df_20.loc[df_20['question'] == row['question'],'context']:\n",
    "        # if int(dft.loc[dft['context']==ctx,'label']) == 1:\n",
    "        #     print(\"AASASASSASAS\")\n",
    "        dft.loc[dft['context']==ctx,'label'] = 1\n",
    "\n",
    "    data.append(dft)\n",
    "\n",
    "    is_added[row['question']] = 1\n",
    "df = pd.concat(data, ignore_index=True)\n",
    "sum(df['label'])"
   ]
  },
  {
   "cell_type": "code",
   "execution_count": 15,
   "metadata": {},
   "outputs": [
    {
     "data": {
      "text/html": [
       "<div>\n",
       "<style scoped>\n",
       "    .dataframe tbody tr th:only-of-type {\n",
       "        vertical-align: middle;\n",
       "    }\n",
       "\n",
       "    .dataframe tbody tr th {\n",
       "        vertical-align: top;\n",
       "    }\n",
       "\n",
       "    .dataframe thead th {\n",
       "        text-align: right;\n",
       "    }\n",
       "</style>\n",
       "<table border=\"1\" class=\"dataframe\">\n",
       "  <thead>\n",
       "    <tr style=\"text-align: right;\">\n",
       "      <th></th>\n",
       "      <th>context</th>\n",
       "      <th>question</th>\n",
       "      <th>label</th>\n",
       "    </tr>\n",
       "  </thead>\n",
       "  <tbody>\n",
       "    <tr>\n",
       "      <th>0</th>\n",
       "      <td>How can we build intelligent machines? More t...</td>\n",
       "      <td>What was the subject of Alan Turing's famous e...</td>\n",
       "      <td>1</td>\n",
       "    </tr>\n",
       "    <tr>\n",
       "      <th>1</th>\n",
       "      <td>Machine learning is the implementation of Tur...</td>\n",
       "      <td>What was the subject of Alan Turing's famous e...</td>\n",
       "      <td>0</td>\n",
       "    </tr>\n",
       "    <tr>\n",
       "      <th>2</th>\n",
       "      <td>Data mining refers to the discovery of patter...</td>\n",
       "      <td>What was the subject of Alan Turing's famous e...</td>\n",
       "      <td>0</td>\n",
       "    </tr>\n",
       "    <tr>\n",
       "      <th>3</th>\n",
       "      <td>Artificial intelligence is the construction o...</td>\n",
       "      <td>What was the subject of Alan Turing's famous e...</td>\n",
       "      <td>0</td>\n",
       "    </tr>\n",
       "    <tr>\n",
       "      <th>4</th>\n",
       "      <td>Machine learning draws on a number of discipl...</td>\n",
       "      <td>What was the subject of Alan Turing's famous e...</td>\n",
       "      <td>0</td>\n",
       "    </tr>\n",
       "    <tr>\n",
       "      <th>...</th>\n",
       "      <td>...</td>\n",
       "      <td>...</td>\n",
       "      <td>...</td>\n",
       "    </tr>\n",
       "    <tr>\n",
       "      <th>506395</th>\n",
       "      <td>10.1.3 Cross-validation for quantifying genera...</td>\n",
       "      <td>What is the goal of density estimation and how...</td>\n",
       "      <td>0</td>\n",
       "    </tr>\n",
       "    <tr>\n",
       "      <th>506396</th>\n",
       "      <td>10.1.4 Cross-validation for model selection We...</td>\n",
       "      <td>What is the goal of density estimation and how...</td>\n",
       "      <td>0</td>\n",
       "    </tr>\n",
       "    <tr>\n",
       "      <th>506397</th>\n",
       "      <td>10.1.5 Two-layer cross-validation Let’s turn t...</td>\n",
       "      <td>What is the goal of density estimation and how...</td>\n",
       "      <td>0</td>\n",
       "    </tr>\n",
       "    <tr>\n",
       "      <th>506398</th>\n",
       "      <td>The Apriori algorithm is very efficient at ide...</td>\n",
       "      <td>What is the goal of density estimation and how...</td>\n",
       "      <td>0</td>\n",
       "    </tr>\n",
       "    <tr>\n",
       "      <th>506399</th>\n",
       "      <td>Our third measure of cluster similarity is ba...</td>\n",
       "      <td>What is the goal of density estimation and how...</td>\n",
       "      <td>1</td>\n",
       "    </tr>\n",
       "  </tbody>\n",
       "</table>\n",
       "<p>506400 rows × 3 columns</p>\n",
       "</div>"
      ],
      "text/plain": [
       "                                                  context  \\\n",
       "0        How can we build intelligent machines? More t...   \n",
       "1        Machine learning is the implementation of Tur...   \n",
       "2        Data mining refers to the discovery of patter...   \n",
       "3        Artificial intelligence is the construction o...   \n",
       "4        Machine learning draws on a number of discipl...   \n",
       "...                                                   ...   \n",
       "506395  10.1.3 Cross-validation for quantifying genera...   \n",
       "506396  10.1.4 Cross-validation for model selection We...   \n",
       "506397  10.1.5 Two-layer cross-validation Let’s turn t...   \n",
       "506398  The Apriori algorithm is very efficient at ide...   \n",
       "506399   Our third measure of cluster similarity is ba...   \n",
       "\n",
       "                                                 question  label  \n",
       "0       What was the subject of Alan Turing's famous e...      1  \n",
       "1       What was the subject of Alan Turing's famous e...      0  \n",
       "2       What was the subject of Alan Turing's famous e...      0  \n",
       "3       What was the subject of Alan Turing's famous e...      0  \n",
       "4       What was the subject of Alan Turing's famous e...      0  \n",
       "...                                                   ...    ...  \n",
       "506395  What is the goal of density estimation and how...      0  \n",
       "506396  What is the goal of density estimation and how...      0  \n",
       "506397  What is the goal of density estimation and how...      0  \n",
       "506398  What is the goal of density estimation and how...      0  \n",
       "506399  What is the goal of density estimation and how...      1  \n",
       "\n",
       "[506400 rows x 3 columns]"
      ]
     },
     "execution_count": 15,
     "metadata": {},
     "output_type": "execute_result"
    }
   ],
   "source": [
    "df"
   ]
  },
  {
   "attachments": {},
   "cell_type": "markdown",
   "metadata": {},
   "source": [
    "# Models"
   ]
  },
  {
   "cell_type": "code",
   "execution_count": 16,
   "metadata": {},
   "outputs": [],
   "source": [
    "n_test_q = int(0.25*len(df['question'].unique()))\n",
    "test_q = np.random.choice(df['question'].unique(), n_test_q, replace=False)\n",
    "\n",
    "n_test_ctx = int(0.25*len(df['context'].unique()))\n",
    "test_ctx = np.random.choice(df['context'].unique(), n_test_ctx, replace=False)\n",
    "\n",
    "df_test = df.loc[df['question'].isin(test_q)].loc[df['context'].isin(test_ctx)]\n",
    "df_test.reset_index(inplace=True, drop=True)\n",
    "df_train = df.loc[~df['question'].isin(test_q)].loc[~df['context'].isin(test_ctx)]\n",
    "df_train.reset_index(inplace=True, drop=True)\n",
    "\n",
    "df_test_all_ctx = df.loc[df['question'].isin(test_q)]\n",
    "df_test_all_ctx.reset_index(inplace=True, drop=True)\n",
    "df_train_all_ctx =  df.loc[~df['question'].isin(test_q)]\n",
    "df_train_all_ctx.reset_index(inplace=True, drop=True)"
   ]
  },
  {
   "cell_type": "code",
   "execution_count": 17,
   "metadata": {},
   "outputs": [],
   "source": [
    "X_train = np.array([np.concatenate((context_embeddings[ctx],question_embeddings[q])) for ctx,q in zip(df_train['context'].values, df_train['question'].values)])\n",
    "y_train = np.array([i for i in df_train['label'].values])\n",
    "\n",
    "X_test = np.array([np.concatenate((context_embeddings[ctx],question_embeddings[q])) for ctx,q in zip(df_test['context'].values, df_test['question'].values)])\n",
    "y_test = np.array([i for i in df_test['label'].values])\n",
    "\n",
    "\n",
    "X_train_all_ctx = np.array([np.concatenate((context_embeddings[ctx],question_embeddings[q])) for ctx,q in zip(df_train_all_ctx['context'].values, df_train_all_ctx['question'].values)])\n",
    "y_train_all_ctx = np.array([i for i in df_train_all_ctx['label'].values])\n",
    "\n",
    "X_test_all_ctx = np.array([np.concatenate((context_embeddings[ctx],question_embeddings[q])) for ctx,q in zip(df_test_all_ctx['context'].values, df_test_all_ctx['question'].values)])\n",
    "y_test_all_ctx = np.array([i for i in df_test_all_ctx['label'].values])"
   ]
  },
  {
   "cell_type": "code",
   "execution_count": 18,
   "metadata": {},
   "outputs": [],
   "source": [
    "idx_train = np.random.permutation(len(X_train))\n",
    "X_train = X_train[idx_train]\n",
    "y_train = y_train[idx_train]\n",
    "\n",
    "idx_test = np.random.permutation(len(X_test))\n",
    "X_test = X_train[idx_test]\n",
    "y_test = y_train[idx_test]\n",
    "\n",
    "idx_train_all_ctx = np.random.permutation(len(X_train_all_ctx))\n",
    "X_train_all_ctx = X_train_all_ctx[idx_train_all_ctx]\n",
    "y_train_all_ctx = y_train_all_ctx[idx_train_all_ctx]\n",
    "\n",
    "idx_test_all_ctx = np.random.permutation(len(X_test_all_ctx))\n",
    "X_test_all_ctx = X_test_all_ctx[idx_test_all_ctx]\n",
    "y_test_all_ctx = y_test_all_ctx[idx_test_all_ctx]"
   ]
  },
  {
   "attachments": {},
   "cell_type": "markdown",
   "metadata": {},
   "source": [
    "### Neural Network"
   ]
  },
  {
   "cell_type": "code",
   "execution_count": 19,
   "metadata": {},
   "outputs": [],
   "source": [
    "from keras.models import Sequential\n",
    "from keras.layers import Dense, Dropout\n",
    "import matplotlib.pyplot as plt"
   ]
  },
  {
   "cell_type": "code",
   "execution_count": 2,
   "metadata": {},
   "outputs": [],
   "source": [
    "neural_net = Sequential()\n",
    "neural_net.add(Dense(768, input_dim=768*2, activation='relu'))\n",
    "neural_net.add(Dense(384, activation='relu'))\n",
    "#neural_net.add(Dropout(rate=0.2))\n",
    "#neural_net.add(Dense(256, activation='relu'))\n",
    "neural_net.add(Dense(1, activation='sigmoid'))\n",
    "\n",
    "neural_net.compile(loss='binary_crossentropy', optimizer='adam', metrics=['accuracy'])"
   ]
  },
  {
   "cell_type": "code",
   "execution_count": 20,
   "metadata": {},
   "outputs": [],
   "source": [
    "import tensorflow as tf\n",
    "class BatchBalancerSequence(tf.keras.utils.Sequence):\n",
    "\n",
    "    def __init__(self, x_set, y_set, batch_size):\n",
    "        self.x_p = x_set[y_set==1]\n",
    "        self.x_n = x_set[y_set==0]\n",
    "        self.batch_size = batch_size\n",
    "        self.batch_size_n = batch_size//2\n",
    "\n",
    "    def __len__(self):\n",
    "        #For each n y=0 we will oversample with n y=1\n",
    "        return int(np.ceil(len(self.x_n)*2 / self.batch_size))\n",
    "\n",
    "    def __getitem__(self, idx):\n",
    "        low = idx * self.batch_size_n\n",
    "        # Cap upper bound at array length; the last batch may be smaller\n",
    "        # if the total number of items is not a multiple of batch size.\n",
    "        high = min(low + self.batch_size_n, len(self.x_n))\n",
    "        batch_x = self.x_n[low:high]\n",
    "        n_neg = len(batch_x)\n",
    "        batch_y = [0]*n_neg\n",
    "        \n",
    "        x_p_idx = np.random.choice(len(self.x_p), n_neg, replace=False)\n",
    "        batch_x = np.concatenate((batch_x, self.x_p[x_p_idx]))\n",
    "        batch_y = np.append(batch_y, [1]*n_neg)\n",
    "\n",
    "        return batch_x, batch_y"
   ]
  },
  {
   "cell_type": "code",
   "execution_count": 14,
   "metadata": {},
   "outputs": [
    {
     "name": "stdout",
     "output_type": "stream",
     "text": [
      "Epoch 1/10\n",
      "5898/5898 [==============================] - 77s 13ms/step - loss: 0.0630 - accuracy: 0.9784\n",
      "Epoch 2/10\n",
      "5898/5898 [==============================] - 76s 13ms/step - loss: 0.0210 - accuracy: 0.9942\n",
      "Epoch 3/10\n",
      "5898/5898 [==============================] - 77s 13ms/step - loss: 0.0137 - accuracy: 0.9962\n",
      "Epoch 4/10\n",
      "5898/5898 [==============================] - 77s 13ms/step - loss: 0.0097 - accuracy: 0.9974\n",
      "Epoch 5/10\n",
      "5898/5898 [==============================] - 82s 14ms/step - loss: 0.0073 - accuracy: 0.9980\n",
      "Epoch 6/10\n",
      "5898/5898 [==============================] - 62s 11ms/step - loss: 0.0061 - accuracy: 0.9983\n",
      "Epoch 7/10\n",
      "5898/5898 [==============================] - 56s 9ms/step - loss: 0.0050 - accuracy: 0.9986\n",
      "Epoch 8/10\n",
      "5898/5898 [==============================] - 56s 9ms/step - loss: 0.0044 - accuracy: 0.9988\n",
      "Epoch 9/10\n",
      "5898/5898 [==============================] - 56s 10ms/step - loss: 0.0038 - accuracy: 0.9990\n",
      "Epoch 10/10\n",
      "5898/5898 [==============================] - 54s 9ms/step - loss: 0.0036 - accuracy: 0.9991\n"
     ]
    }
   ],
   "source": [
    "history = neural_net.fit(BatchBalancerSequence(X_train_all_ctx, y_train_all_ctx, 128), epochs=10)"
   ]
  },
  {
   "cell_type": "code",
   "execution_count": 17,
   "metadata": {},
   "outputs": [
    {
     "data": {
      "text/plain": [
       "[<matplotlib.lines.Line2D at 0x1f2799eb4c0>]"
      ]
     },
     "execution_count": 17,
     "metadata": {},
     "output_type": "execute_result"
    },
    {
     "data": {
      "image/png": "[encoded data removed]",
      "text/plain": [
       "<Figure size 432x288 with 1 Axes>"
      ]
     },
     "metadata": {
      "needs_background": "light"
     },
     "output_type": "display_data"
    }
   ],
   "source": [
    "plt.plot(history.history['loss'])"
   ]
  },
  {
   "cell_type": "code",
   "execution_count": 18,
   "metadata": {},
   "outputs": [
    {
     "data": {
      "text/plain": [
       "[<matplotlib.lines.Line2D at 0x1f27a2bded0>]"
      ]
     },
     "execution_count": 18,
     "metadata": {},
     "output_type": "execute_result"
    },
    {
     "data": {
      "image/png": "[encoded data removed]",
      "text/plain": [
       "<Figure size 432x288 with 1 Axes>"
      ]
     },
     "metadata": {
      "needs_background": "light"
     },
     "output_type": "display_data"
    }
   ],
   "source": [
    "plt.plot(history.history['accuracy'])"
   ]
  },
  {
   "attachments": {},
   "cell_type": "markdown",
   "metadata": {},
   "source": [
    "#### Croos validation"
   ]
  },
  {
   "cell_type": "code",
   "execution_count": 31,
   "metadata": {},
   "outputs": [],
   "source": [
    "neural_net1 = Sequential()\n",
    "neural_net1.add(Dense(768, input_dim=768*2, activation='relu'))\n",
    "neural_net1.add(Dense(768/2, activation='relu'))\n",
    "neural_net1.add(Dense(1, activation='sigmoid'))\n",
    "neural_net1.compile(loss='binary_crossentropy', optimizer='adam', metrics=['accuracy'])\n",
    "\n",
    "neural_net2 = Sequential()\n",
    "neural_net2.add(Dense(768*3, input_dim=768*2, activation='relu'))\n",
    "neural_net2.add(Dense(768*3/2, activation='relu'))\n",
    "neural_net2.add(Dense(1, activation='sigmoid'))\n",
    "neural_net2.compile(loss='binary_crossentropy', optimizer='adam', metrics=['accuracy'])\n",
    "\n",
    "neural_net3 = Sequential()\n",
    "neural_net3.add(Dense(768, input_dim=768*2, activation='relu'))\n",
    "neural_net3.add(Dense(768+768/2, activation='relu'))\n",
    "neural_net3.add(Dense(1, activation='sigmoid'))\n",
    "neural_net3.compile(loss='binary_crossentropy', optimizer='adam', metrics=['accuracy'])"
   ]
  },
  {
   "cell_type": "code",
   "execution_count": 33,
   "metadata": {},
   "outputs": [],
   "source": [
    "X_all = np.array([np.concatenate((context_embeddings[ctx],question_embeddings[q])) for ctx,q in zip(df['context'].values, df['question'].values)])\n",
    "y_all = np.array([i for i in df['label'].values])\n",
    "\n",
    "q_u = df['question'].unique()"
   ]
  },
  {
   "cell_type": "code",
   "execution_count": 40,
   "metadata": {},
   "outputs": [
    {
     "name": "stdout",
     "output_type": "stream",
     "text": [
      "Cross-validation fold: 1/5\n",
      "Epoch 1/10\n",
      "6291/6291 [==============================] - 61s 10ms/step - loss: 0.0015 - accuracy: 0.9996\n",
      "Epoch 2/10\n",
      "6291/6291 [==============================] - 67s 11ms/step - loss: 0.0015 - accuracy: 0.9996\n",
      "Epoch 3/10\n",
      "6291/6291 [==============================] - 70s 11ms/step - loss: 0.0013 - accuracy: 0.9996\n",
      "Epoch 4/10\n",
      "6291/6291 [==============================] - 73s 12ms/step - loss: 0.0013 - accuracy: 0.9997\n",
      "Epoch 5/10\n",
      "6291/6291 [==============================] - 71s 11ms/step - loss: 0.0012 - accuracy: 0.9997\n",
      "Epoch 6/10\n",
      "6291/6291 [==============================] - 72s 12ms/step - loss: 0.0013 - accuracy: 0.9997\n",
      "Epoch 7/10\n",
      "6291/6291 [==============================] - 71s 11ms/step - loss: 0.0013 - accuracy: 0.9997\n",
      "Epoch 8/10\n",
      "6291/6291 [==============================] - 70s 11ms/step - loss: 0.0011 - accuracy: 0.9997\n",
      "Epoch 9/10\n",
      "6291/6291 [==============================] - 68s 11ms/step - loss: 0.0013 - accuracy: 0.9997\n",
      "Epoch 10/10\n",
      "6291/6291 [==============================] - 68s 11ms/step - loss: 0.0012 - accuracy: 0.9997\n",
      "3165/3165 [==============================] - 10s 3ms/step - loss: 0.0687 - accuracy: 0.9942\n",
      "Epoch 1/10\n",
      "6291/6291 [==============================] - 215s 34ms/step - loss: 0.0032 - accuracy: 0.9992\n",
      "Epoch 2/10\n",
      "6291/6291 [==============================] - 218s 35ms/step - loss: 0.0027 - accuracy: 0.9993\n",
      "Epoch 3/10\n",
      "6291/6291 [==============================] - 237s 38ms/step - loss: 0.0026 - accuracy: 0.9993\n",
      "Epoch 4/10\n",
      "6291/6291 [==============================] - 310s 49ms/step - loss: 0.0023 - accuracy: 0.9994\n",
      "Epoch 5/10\n",
      "6291/6291 [==============================] - 317s 50ms/step - loss: 0.0023 - accuracy: 0.9994\n",
      "Epoch 6/10\n",
      "6291/6291 [==============================] - 324s 52ms/step - loss: 0.0021 - accuracy: 0.9995\n",
      "Epoch 7/10\n",
      "6291/6291 [==============================] - 321s 51ms/step - loss: 0.0021 - accuracy: 0.9995\n",
      "Epoch 8/10\n",
      "6291/6291 [==============================] - 326s 52ms/step - loss: 0.0019 - accuracy: 0.9995\n",
      "Epoch 9/10\n",
      "6291/6291 [==============================] - 333s 53ms/step - loss: 0.0018 - accuracy: 0.9996\n",
      "Epoch 10/10\n",
      "6291/6291 [==============================] - 331s 53ms/step - loss: 0.0018 - accuracy: 0.9996\n",
      "3165/3165 [==============================] - 32s 10ms/step - loss: 0.0759 - accuracy: 0.9943\n",
      "Epoch 1/10\n",
      "6291/6291 [==============================] - 147s 23ms/step - loss: 0.1026 - accuracy: 0.9603\n",
      "Epoch 2/10\n",
      "6291/6291 [==============================] - 148s 24ms/step - loss: 0.0247 - accuracy: 0.9929\n",
      "Epoch 3/10\n",
      "6291/6291 [==============================] - 147s 23ms/step - loss: 0.0152 - accuracy: 0.9958\n",
      "Epoch 4/10\n",
      "6291/6291 [==============================] - 150s 24ms/step - loss: 0.0106 - accuracy: 0.9970\n",
      "Epoch 5/10\n",
      "6291/6291 [==============================] - 151s 24ms/step - loss: 0.0080 - accuracy: 0.9977\n",
      "Epoch 6/10\n",
      "6291/6291 [==============================] - 152s 24ms/step - loss: 0.0067 - accuracy: 0.9982\n",
      "Epoch 7/10\n",
      "6291/6291 [==============================] - 94s 15ms/step - loss: 0.0053 - accuracy: 0.9985\n",
      "Epoch 8/10\n",
      "6291/6291 [==============================] - 115s 18ms/step - loss: 0.0048 - accuracy: 0.9986\n",
      "Epoch 9/10\n",
      "6291/6291 [==============================] - 154s 24ms/step - loss: 0.0041 - accuracy: 0.9989\n",
      "Epoch 10/10\n",
      "6291/6291 [==============================] - 155s 25ms/step - loss: 0.0039 - accuracy: 0.9990\n",
      "3165/3165 [==============================] - 23s 7ms/step - loss: 0.0524 - accuracy: 0.9930\n",
      "Cross-validation fold: 2/5\n",
      "Epoch 1/10\n",
      "6291/6291 [==============================] - 124s 20ms/step - loss: 0.0120 - accuracy: 0.9968\n",
      "Epoch 2/10\n",
      "6291/6291 [==============================] - 129s 20ms/step - loss: 0.0036 - accuracy: 0.9991\n",
      "Epoch 3/10\n",
      "6291/6291 [==============================] - 130s 21ms/step - loss: 0.0024 - accuracy: 0.9994\n",
      "Epoch 4/10\n",
      "6291/6291 [==============================] - 131s 21ms/step - loss: 0.0021 - accuracy: 0.9995\n",
      "Epoch 5/10\n",
      "6291/6291 [==============================] - 132s 21ms/step - loss: 0.0019 - accuracy: 0.9995\n",
      "Epoch 6/10\n",
      "6291/6291 [==============================] - 129s 21ms/step - loss: 0.0018 - accuracy: 0.9996\n",
      "Epoch 7/10\n",
      "6291/6291 [==============================] - 139s 22ms/step - loss: 0.0017 - accuracy: 0.9996\n",
      "Epoch 8/10\n",
      "6291/6291 [==============================] - 129s 20ms/step - loss: 0.0015 - accuracy: 0.9996\n",
      "Epoch 9/10\n",
      "6291/6291 [==============================] - 129s 20ms/step - loss: 0.0016 - accuracy: 0.9997\n",
      "Epoch 10/10\n",
      "6291/6291 [==============================] - 131s 21ms/step - loss: 0.0014 - accuracy: 0.9997\n",
      "3165/3165 [==============================] - 22s 7ms/step - loss: 0.0070 - accuracy: 0.9986\n",
      "Epoch 1/10\n",
      "6291/6291 [==============================] - 344s 55ms/step - loss: 0.0118 - accuracy: 0.9969\n",
      "Epoch 2/10\n",
      "6291/6291 [==============================] - 351s 56ms/step - loss: 0.0038 - accuracy: 0.9991\n",
      "Epoch 3/10\n",
      "6291/6291 [==============================] - 351s 56ms/step - loss: 0.0029 - accuracy: 0.9993\n",
      "Epoch 4/10\n",
      "6291/6291 [==============================] - 351s 56ms/step - loss: 0.0022 - accuracy: 0.9994\n",
      "Epoch 5/10\n",
      "6291/6291 [==============================] - 350s 56ms/step - loss: 0.0022 - accuracy: 0.9995\n",
      "Epoch 6/10\n",
      "6291/6291 [==============================] - 340s 54ms/step - loss: 0.0021 - accuracy: 0.9995\n",
      "Epoch 7/10\n",
      "6291/6291 [==============================] - 345s 55ms/step - loss: 0.0018 - accuracy: 0.9996\n",
      "Epoch 8/10\n",
      "6291/6291 [==============================] - 358s 57ms/step - loss: 0.0020 - accuracy: 0.9995\n",
      "Epoch 9/10\n",
      "6291/6291 [==============================] - 340s 54ms/step - loss: 0.0017 - accuracy: 0.9996\n",
      "Epoch 10/10\n",
      "6291/6291 [==============================] - 290s 46ms/step - loss: 0.0018 - accuracy: 0.9996\n",
      "3165/3165 [==============================] - 23s 7ms/step - loss: 0.0070 - accuracy: 0.9985\n",
      "Epoch 1/10\n",
      "6291/6291 [==============================] - 111s 18ms/step - loss: 0.0134 - accuracy: 0.9964\n",
      "Epoch 2/10\n",
      "6291/6291 [==============================] - 162s 26ms/step - loss: 0.0052 - accuracy: 0.9986\n",
      "Epoch 3/10\n",
      "6291/6291 [==============================] - 162s 26ms/step - loss: 0.0042 - accuracy: 0.9989\n",
      "Epoch 4/10\n",
      "6291/6291 [==============================] - 159s 25ms/step - loss: 0.0037 - accuracy: 0.9990\n",
      "Epoch 5/10\n",
      "6291/6291 [==============================] - 152s 24ms/step - loss: 0.0032 - accuracy: 0.9992\n",
      "Epoch 6/10\n",
      "6291/6291 [==============================] - 159s 25ms/step - loss: 0.0027 - accuracy: 0.9993\n",
      "Epoch 7/10\n",
      "6291/6291 [==============================] - 151s 24ms/step - loss: 0.0028 - accuracy: 0.9993\n",
      "Epoch 8/10\n",
      "6291/6291 [==============================] - 131s 21ms/step - loss: 0.0024 - accuracy: 0.9994\n",
      "Epoch 9/10\n",
      "6291/6291 [==============================] - 152s 24ms/step - loss: 0.0023 - accuracy: 0.9994\n",
      "Epoch 10/10\n",
      "6291/6291 [==============================] - 158s 25ms/step - loss: 0.0024 - accuracy: 0.9994\n",
      "3165/3165 [==============================] - 22s 7ms/step - loss: 0.0127 - accuracy: 0.9975\n",
      "Cross-validation fold: 3/5\n",
      "Epoch 1/10\n",
      "6291/6291 [==============================] - 128s 20ms/step - loss: 0.0030 - accuracy: 0.9993\n",
      "Epoch 2/10\n",
      "6291/6291 [==============================] - 125s 20ms/step - loss: 0.0016 - accuracy: 0.9996\n",
      "Epoch 3/10\n",
      "6291/6291 [==============================] - 117s 19ms/step - loss: 0.0016 - accuracy: 0.9996\n",
      "Epoch 4/10\n",
      "6291/6291 [==============================] - 117s 19ms/step - loss: 0.0013 - accuracy: 0.9997\n",
      "Epoch 5/10\n",
      "6291/6291 [==============================] - 117s 19ms/step - loss: 0.0014 - accuracy: 0.9997\n",
      "Epoch 6/10\n",
      "6291/6291 [==============================] - 78s 12ms/step - loss: 0.0013 - accuracy: 0.9997\n",
      "Epoch 7/10\n",
      "6291/6291 [==============================] - 43s 7ms/step - loss: 0.0011 - accuracy: 0.9998\n",
      "Epoch 8/10\n",
      "6291/6291 [==============================] - 45s 7ms/step - loss: 0.0011 - accuracy: 0.9997\n",
      "Epoch 9/10\n",
      "6291/6291 [==============================] - 46s 7ms/step - loss: 0.0010 - accuracy: 0.9998\n",
      "Epoch 10/10\n",
      "6291/6291 [==============================] - 47s 7ms/step - loss: 8.9326e-04 - accuracy: 0.9998\n",
      "3165/3165 [==============================] - 7s 2ms/step - loss: 0.0025 - accuracy: 0.9993\n",
      "Epoch 1/10\n",
      "6291/6291 [==============================] - 147s 23ms/step - loss: 0.0033 - accuracy: 0.9993\n",
      "Epoch 2/10\n",
      "6291/6291 [==============================] - 159s 25ms/step - loss: 0.0019 - accuracy: 0.9996\n",
      "Epoch 3/10\n",
      "6291/6291 [==============================] - 173s 28ms/step - loss: 0.0021 - accuracy: 0.9995\n",
      "Epoch 4/10\n",
      "6291/6291 [==============================] - 173s 27ms/step - loss: 0.0015 - accuracy: 0.9997\n",
      "Epoch 5/10\n",
      "6291/6291 [==============================] - 173s 27ms/step - loss: 0.0016 - accuracy: 0.9996\n",
      "Epoch 6/10\n",
      "6291/6291 [==============================] - 173s 28ms/step - loss: 0.0014 - accuracy: 0.9997\n",
      "Epoch 7/10\n",
      "6291/6291 [==============================] - 175s 28ms/step - loss: 0.0016 - accuracy: 0.9997\n",
      "Epoch 8/10\n",
      "6291/6291 [==============================] - 176s 28ms/step - loss: 0.0015 - accuracy: 0.9996\n",
      "Epoch 9/10\n",
      "6291/6291 [==============================] - 179s 29ms/step - loss: 0.0015 - accuracy: 0.9997\n",
      "Epoch 10/10\n",
      "6291/6291 [==============================] - 184s 29ms/step - loss: 0.0014 - accuracy: 0.9997\n",
      "3165/3165 [==============================] - 16s 5ms/step - loss: 0.0032 - accuracy: 0.9992\n",
      "Epoch 1/10\n",
      "6291/6291 [==============================] - 75s 12ms/step - loss: 0.0047 - accuracy: 0.9988\n",
      "Epoch 2/10\n",
      "6291/6291 [==============================] - 75s 12ms/step - loss: 0.0025 - accuracy: 0.9994\n",
      "Epoch 3/10\n",
      "6291/6291 [==============================] - 77s 12ms/step - loss: 0.0024 - accuracy: 0.9994\n",
      "Epoch 4/10\n",
      "6291/6291 [==============================] - 75s 12ms/step - loss: 0.0021 - accuracy: 0.9995\n",
      "Epoch 5/10\n",
      "6291/6291 [==============================] - 77s 12ms/step - loss: 0.0021 - accuracy: 0.9995\n",
      "Epoch 6/10\n",
      "6291/6291 [==============================] - 76s 12ms/step - loss: 0.0019 - accuracy: 0.9995\n",
      "Epoch 7/10\n",
      "6291/6291 [==============================] - 76s 12ms/step - loss: 0.0018 - accuracy: 0.9996\n",
      "Epoch 8/10\n",
      "6291/6291 [==============================] - 77s 12ms/step - loss: 0.0018 - accuracy: 0.9996\n",
      "Epoch 9/10\n",
      "6291/6291 [==============================] - 77s 12ms/step - loss: 0.0017 - accuracy: 0.9996\n",
      "Epoch 10/10\n",
      "6291/6291 [==============================] - 77s 12ms/step - loss: 0.0014 - accuracy: 0.9997\n",
      "3165/3165 [==============================] - 9s 3ms/step - loss: 0.0061 - accuracy: 0.9988\n",
      "Cross-validation fold: 4/5\n",
      "Epoch 1/10\n",
      "6291/6291 [==============================] - 64s 10ms/step - loss: 0.0016 - accuracy: 0.9996\n",
      "Epoch 2/10\n",
      "6291/6291 [==============================] - 61s 10ms/step - loss: 0.0012 - accuracy: 0.9997\n",
      "Epoch 3/10\n",
      "6291/6291 [==============================] - 61s 10ms/step - loss: 0.0010 - accuracy: 0.9998\n",
      "Epoch 4/10\n",
      "6291/6291 [==============================] - 61s 10ms/step - loss: 0.0010 - accuracy: 0.9998\n",
      "Epoch 5/10\n",
      "6291/6291 [==============================] - 62s 10ms/step - loss: 9.6839e-04 - accuracy: 0.9998\n",
      "Epoch 6/10\n",
      "6291/6291 [==============================] - 61s 10ms/step - loss: 8.4050e-04 - accuracy: 0.9998\n",
      "Epoch 7/10\n",
      "6291/6291 [==============================] - 61s 10ms/step - loss: 0.0011 - accuracy: 0.9998\n",
      "Epoch 8/10\n",
      "6291/6291 [==============================] - 60s 10ms/step - loss: 9.7173e-04 - accuracy: 0.9998\n",
      "Epoch 9/10\n",
      "6291/6291 [==============================] - 61s 10ms/step - loss: 0.0010 - accuracy: 0.9998\n",
      "Epoch 10/10\n",
      "6291/6291 [==============================] - 61s 10ms/step - loss: 7.6438e-04 - accuracy: 0.9998\n",
      "3165/3165 [==============================] - 9s 3ms/step - loss: 0.0023 - accuracy: 0.9994\n",
      "Epoch 1/10\n",
      "6291/6291 [==============================] - 187s 30ms/step - loss: 0.0019 - accuracy: 0.9996\n",
      "Epoch 2/10\n",
      "6291/6291 [==============================] - 186s 30ms/step - loss: 0.0014 - accuracy: 0.9997\n",
      "Epoch 3/10\n",
      "6291/6291 [==============================] - 187s 30ms/step - loss: 0.0016 - accuracy: 0.9997\n",
      "Epoch 4/10\n",
      "6291/6291 [==============================] - 185s 29ms/step - loss: 0.0014 - accuracy: 0.9997\n",
      "Epoch 5/10\n",
      "6291/6291 [==============================] - 187s 30ms/step - loss: 0.0013 - accuracy: 0.9997\n",
      "Epoch 6/10\n",
      "6291/6291 [==============================] - 186s 30ms/step - loss: 0.0014 - accuracy: 0.9997\n",
      "Epoch 7/10\n",
      "6291/6291 [==============================] - 187s 30ms/step - loss: 0.0012 - accuracy: 0.9997\n",
      "Epoch 8/10\n",
      "6291/6291 [==============================] - 187s 30ms/step - loss: 0.0014 - accuracy: 0.9997\n",
      "Epoch 9/10\n",
      "6291/6291 [==============================] - 187s 30ms/step - loss: 0.0010 - accuracy: 0.9998\n",
      "Epoch 10/10\n",
      "6291/6291 [==============================] - 187s 30ms/step - loss: 0.0011 - accuracy: 0.9998\n",
      "3165/3165 [==============================] - 17s 5ms/step - loss: 0.0019 - accuracy: 0.9996\n",
      "Epoch 1/10\n",
      "6291/6291 [==============================] - 80s 13ms/step - loss: 0.0026 - accuracy: 0.9994\n",
      "Epoch 2/10\n",
      "6291/6291 [==============================] - 79s 13ms/step - loss: 0.0016 - accuracy: 0.9996\n",
      "Epoch 3/10\n",
      "6291/6291 [==============================] - 79s 13ms/step - loss: 0.0016 - accuracy: 0.9996\n",
      "Epoch 4/10\n",
      "6291/6291 [==============================] - 79s 13ms/step - loss: 0.0015 - accuracy: 0.9997\n",
      "Epoch 5/10\n",
      "6291/6291 [==============================] - 80s 13ms/step - loss: 0.0014 - accuracy: 0.9997\n",
      "Epoch 6/10\n",
      "6291/6291 [==============================] - 79s 13ms/step - loss: 0.0018 - accuracy: 0.9996\n",
      "Epoch 7/10\n",
      "6291/6291 [==============================] - 80s 13ms/step - loss: 0.0012 - accuracy: 0.9997\n",
      "Epoch 8/10\n",
      "6291/6291 [==============================] - 80s 13ms/step - loss: 0.0014 - accuracy: 0.9997\n",
      "Epoch 9/10\n",
      "6291/6291 [==============================] - 80s 13ms/step - loss: 0.0015 - accuracy: 0.9997\n",
      "Epoch 10/10\n",
      "6291/6291 [==============================] - 79s 13ms/step - loss: 0.0016 - accuracy: 0.9997\n",
      "3165/3165 [==============================] - 10s 3ms/step - loss: 0.0041 - accuracy: 0.9991\n",
      "Cross-validation fold: 5/5\n"
     ]
    },
    {
     "ename": "MemoryError",
     "evalue": "Unable to allocate 6.00 KiB for an array with shape (1536,) and data type float32",
     "output_type": "error",
     "traceback": [
      "\u001b[1;31m---------------------------------------------------------------------------\u001b[0m",
      "\u001b[1;31mMemoryError\u001b[0m                               Traceback (most recent call last)",
      "Cell \u001b[1;32mIn[40], line 16\u001b[0m\n\u001b[0;32m     12\u001b[0m q_test \u001b[39m=\u001b[39m q_u[test_idx]\n\u001b[0;32m     14\u001b[0m df_ques_train \u001b[39m=\u001b[39m df[df[\u001b[39m'\u001b[39m\u001b[39mquestion\u001b[39m\u001b[39m'\u001b[39m]\u001b[39m.\u001b[39misin(q_train)]\n\u001b[1;32m---> 16\u001b[0m X_train_cv \u001b[39m=\u001b[39m np\u001b[39m.\u001b[39marray([np\u001b[39m.\u001b[39mconcatenate((context_embeddings[ctx],question_embeddings[q])) \u001b[39mfor\u001b[39;00m ctx,q \u001b[39min\u001b[39;00m \u001b[39mzip\u001b[39m(df_ques_train[\u001b[39m'\u001b[39m\u001b[39mcontext\u001b[39m\u001b[39m'\u001b[39m]\u001b[39m.\u001b[39mvalues, df_ques_train[\u001b[39m'\u001b[39m\u001b[39mquestion\u001b[39m\u001b[39m'\u001b[39m]\u001b[39m.\u001b[39mvalues)])\n\u001b[0;32m     17\u001b[0m y_train_cv \u001b[39m=\u001b[39m np\u001b[39m.\u001b[39marray([i \u001b[39mfor\u001b[39;00m i \u001b[39min\u001b[39;00m df_ques_train[\u001b[39m'\u001b[39m\u001b[39mlabel\u001b[39m\u001b[39m'\u001b[39m]\u001b[39m.\u001b[39mvalues])\n\u001b[0;32m     19\u001b[0m df_ques_test \u001b[39m=\u001b[39m df[df[\u001b[39m'\u001b[39m\u001b[39mquestion\u001b[39m\u001b[39m'\u001b[39m]\u001b[39m.\u001b[39misin(q_test)]\n",
      "Cell \u001b[1;32mIn[40], line 16\u001b[0m, in \u001b[0;36m<listcomp>\u001b[1;34m(.0)\u001b[0m\n\u001b[0;32m     12\u001b[0m q_test \u001b[39m=\u001b[39m q_u[test_idx]\n\u001b[0;32m     14\u001b[0m df_ques_train \u001b[39m=\u001b[39m df[df[\u001b[39m'\u001b[39m\u001b[39mquestion\u001b[39m\u001b[39m'\u001b[39m]\u001b[39m.\u001b[39misin(q_train)]\n\u001b[1;32m---> 16\u001b[0m X_train_cv \u001b[39m=\u001b[39m np\u001b[39m.\u001b[39marray([np\u001b[39m.\u001b[39;49mconcatenate((context_embeddings[ctx],question_embeddings[q])) \u001b[39mfor\u001b[39;00m ctx,q \u001b[39min\u001b[39;00m \u001b[39mzip\u001b[39m(df_ques_train[\u001b[39m'\u001b[39m\u001b[39mcontext\u001b[39m\u001b[39m'\u001b[39m]\u001b[39m.\u001b[39mvalues, df_ques_train[\u001b[39m'\u001b[39m\u001b[39mquestion\u001b[39m\u001b[39m'\u001b[39m]\u001b[39m.\u001b[39mvalues)])\n\u001b[0;32m     17\u001b[0m y_train_cv \u001b[39m=\u001b[39m np\u001b[39m.\u001b[39marray([i \u001b[39mfor\u001b[39;00m i \u001b[39min\u001b[39;00m df_ques_train[\u001b[39m'\u001b[39m\u001b[39mlabel\u001b[39m\u001b[39m'\u001b[39m]\u001b[39m.\u001b[39mvalues])\n\u001b[0;32m     19\u001b[0m df_ques_test \u001b[39m=\u001b[39m df[df[\u001b[39m'\u001b[39m\u001b[39mquestion\u001b[39m\u001b[39m'\u001b[39m]\u001b[39m.\u001b[39misin(q_test)]\n",
      "File \u001b[1;32m<__array_function__ internals>:180\u001b[0m, in \u001b[0;36mconcatenate\u001b[1;34m(*args, **kwargs)\u001b[0m\n",
      "\u001b[1;31mMemoryError\u001b[0m: Unable to allocate 6.00 KiB for an array with shape (1536,) and data type float32"
     ]
    }
   ],
   "source": [
    "from sklearn import model_selection\n",
    "K = 5\n",
    "CV = model_selection.KFold(n_splits=K, shuffle=True, random_state=42)\n",
    "k = 0\n",
    "errors = np.empty((K,3))\n",
    "acc = np.empty((K,3))\n",
    "\n",
    "for train_idx, test_idx in CV.split(q_u):\n",
    "    print('Cross-validation fold: {0}/{1}'.format(k+1, K))\n",
    "\n",
    "    q_train = q_u[train_idx]\n",
    "    q_test = q_u[test_idx]\n",
    "\n",
    "    df_ques_train = df[df['question'].isin(q_train)]\n",
    "\n",
    "    X_train_cv = np.array([np.concatenate((context_embeddings[ctx],question_embeddings[q])) for ctx,q in zip(df_ques_train['context'].values, df_ques_train['question'].values)])\n",
    "    y_train_cv = np.array([i for i in df_ques_train['label'].values])\n",
    "\n",
    "    df_ques_test = df[df['question'].isin(q_test)]\n",
    "    X_test_cv = np.array([np.concatenate((context_embeddings[ctx],question_embeddings[q])) for ctx,q in zip(df_ques_test['context'].values, df_ques_test['question'].values)])\n",
    "    y_test_cv = np.array([i for i in df_ques_test['label'].values])\n",
    "\n",
    "    neural_net1.fit(BatchBalancerSequence(X_train_cv, y_train_cv, 128), epochs=10)\n",
    "    eval1 = neural_net1.evaluate(X_test_cv, y_test_cv)\n",
    "    errors[k, 0], acc[k, 0] = eval1[0], eval1[1]\n",
    "    neural_net2.fit(BatchBalancerSequence(X_train_cv, y_train_cv, 128), epochs=10)\n",
    "    eval2 = neural_net2.evaluate(X_test_cv, y_test_cv)\n",
    "    errors[k, 1], acc[k, 1] = eval2[0], eval2[1]\n",
    "    neural_net3.fit(BatchBalancerSequence(X_train_cv, y_train_cv, 128), epochs=10)\n",
    "    eval3 = neural_net3.evaluate(X_test_cv, y_test_cv)\n",
    "    errors[k, 2], acc[k, 2] = eval3[0], eval3[1]\n",
    "    \n",
    "    k += 1"
   ]
  },
  {
   "cell_type": "code",
   "execution_count": 9,
   "metadata": {},
   "outputs": [],
   "source": [
    "# with open('./data/nn_errors.pkl', 'wb') as f:\n",
    "#     f.write(pickle.dumps(errors))\n",
    "# with open('./data/nn_acc.pkl', 'wb') as f:\n",
    "#     f.write(pickle.dumps(acc))\n",
    "\n",
    "with open('./data/nn_acc.pkl', 'rb') as f:\n",
    "    acc = pickle.loads(f.read())\n",
    "with open('./data/nn_errors.pkl', 'rb') as f:\n",
    "    errors = pickle.loads(f.read())"
   ]
  },
  {
   "cell_type": "code",
   "execution_count": 10,
   "metadata": {},
   "outputs": [
    {
     "data": {
      "text/plain": [
       "array([[6.86854944e-002, 7.59169906e-002, 5.24166562e-002],\n",
       "       [7.01776939e-003, 7.02429237e-003, 1.26838032e-002],\n",
       "       [2.48478190e-003, 3.16644879e-003, 6.08132966e-003],\n",
       "       [2.25971616e-003, 1.87655864e-003, 4.12425771e-003],\n",
       "       [            nan, 3.51274184e-315, 4.45854211e-316]])"
      ]
     },
     "execution_count": 10,
     "metadata": {},
     "output_type": "execute_result"
    }
   ],
   "source": [
    "errors"
   ]
  },
  {
   "cell_type": "code",
   "execution_count": 11,
   "metadata": {},
   "outputs": [
    {
     "data": {
      "text/plain": [
       "array([[0.99423379, 0.99432266, 0.99301934],\n",
       "       [0.99860781, 0.99847949, 0.99751186],\n",
       "       [0.99932861, 0.9991706 , 0.99882501],\n",
       "       [0.99943721, 0.99957544, 0.99914098],\n",
       "       [0.        , 0.        , 0.        ]])"
      ]
     },
     "execution_count": 11,
     "metadata": {},
     "output_type": "execute_result"
    }
   ],
   "source": [
    "acc"
   ]
  },
  {
   "cell_type": "code",
   "execution_count": 16,
   "metadata": {},
   "outputs": [],
   "source": [
    "errors = errors[:4]\n",
    "acc = acc[:4]"
   ]
  },
  {
   "cell_type": "code",
   "execution_count": 20,
   "metadata": {},
   "outputs": [
    {
     "name": "stdout",
     "output_type": "stream",
     "text": [
      "The optimal model structure is model 3, which has a test error of 0.018826511688530445\n",
      "The optimal model structure is model 1, which has a test accuracy of 0.9979018568992615\n"
     ]
    }
   ],
   "source": [
    "e_gen = np.mean(errors, axis=0)\n",
    "opt_model_e = np.argmin(e_gen)\n",
    "print(f\"The optimal model structure is model {opt_model_e+1}, which has a test error of {e_gen[opt_model_e]}\")\n",
    "\n",
    "a_gen = np.mean(acc, axis=0)\n",
    "opt_model_a = np.argmax(a_gen)\n",
    "print(f\"The optimal model structure is model {opt_model_a+1}, which has a test accuracy of {a_gen[opt_model_a]}\")"
   ]
  },
  {
   "attachments": {},
   "cell_type": "markdown",
   "metadata": {},
   "source": [
    "### Matrix model"
   ]
  },
  {
   "cell_type": "code",
   "execution_count": 33,
   "metadata": {},
   "outputs": [
    {
     "name": "stderr",
     "output_type": "stream",
     "text": [
      "100%|██████████| 44520/44520 [17:24<00:00, 42.64it/s]\n"
     ]
    }
   ],
   "source": [
    "import tensorflow as tf\n",
    "from tqdm import tqdm\n",
    "\n",
    "learning_rate = 0.025\n",
    "loss_list = []\n",
    "\n",
    "T = tf.Variable(np.ones(X_train.shape[1]//2))\n",
    "\n",
    "len_train = X_train.shape[0]\n",
    "\n",
    "optimizer = tf.keras.optimizers.SGD(learning_rate=learning_rate)\n",
    "\n",
    "\n",
    "batch_size = 128\n",
    "itt = int(np.ceil(len_train/batch_size))\n",
    "\n",
    "n_epochs = 20\n",
    "\n",
    "with tqdm(total=itt*n_epochs) as pbar:\n",
    "    for _ in range(n_epochs):\n",
    "        for i in range(1,itt+1):\n",
    "            low = (i-1)*batch_size\n",
    "            high = min(i*batch_size, len_train)\n",
    "\n",
    "            a = X_train[low:high,:1536//2]\n",
    "            b = X_train[low:high,1536//2:]\n",
    "\n",
    "            y_true = y_train[low:high]\n",
    "            \n",
    "            with tf.GradientTape() as tape:\n",
    "                tape.watch(T)  # Watch the variable T for gradient computation\n",
    "                W = tf.exp(1/2*T)\n",
    "                y_preds = (tf.math.reduce_sum((a*W)*(b*W), axis=1))/(tf.math.reduce_euclidean_norm(a*W, axis=1)*tf.math.reduce_euclidean_norm(b*W, axis=1))\n",
    "                loss = tf.math.reduce_mean(tf.square(y_true - y_preds))\n",
    "\n",
    "            gradients = tape.gradient(loss, T)\n",
    "            optimizer.apply_gradients([(gradients, T)])\n",
    "            loss_list.append(loss)\n",
    "            pbar.update(1)"
   ]
  },
  {
   "cell_type": "code",
   "execution_count": 37,
   "metadata": {},
   "outputs": [
    {
     "name": "stderr",
     "output_type": "stream",
     "text": [
      "100%|██████████| 58980/58980 [10:18<00:00, 95.41it/s] \n"
     ]
    }
   ],
   "source": [
    "import tensorflow as tf\n",
    "from tqdm import tqdm\n",
    "\n",
    "learning_rate = 0.05\n",
    "loss_list = []\n",
    "\n",
    "T = tf.Variable(np.ones(X_train_all_ctx.shape[1]//2))\n",
    "\n",
    "len_train_n = X_train_all_ctx.shape[0]\n",
    "\n",
    "optimizer = tf.keras.optimizers.SGD(learning_rate=learning_rate)\n",
    "\n",
    "\n",
    "batch_size = 128\n",
    "\n",
    "n_epochs = 10\n",
    "\n",
    "X_train_all_ctx_p = X_train_all_ctx[y_train_all_ctx==1]\n",
    "X_train_all_ctx_n = X_train_all_ctx[y_train_all_ctx==0]\n",
    "\n",
    "batch_size_n = batch_size//2\n",
    "\n",
    "len_train_n = len(X_train_all_ctx_n)\n",
    "\n",
    "itt = int(np.ceil(len_train_n/batch_size_n))\n",
    "\n",
    "with tqdm(total=itt*n_epochs) as pbar:\n",
    "    for _ in range(n_epochs):\n",
    "        for i in range(1,itt+1):\n",
    "            low = (i-1)*batch_size_n\n",
    "            high = min(i*batch_size_n, len_train_n)\n",
    "\n",
    "            batch_n = X_train_all_ctx_n[low:high]\n",
    "\n",
    "            x_p_idx = np.random.choice(len(X_train_all_ctx_p), len(batch_n), replace=False)\n",
    "\n",
    "            batch_p = X_train_all_ctx_p[x_p_idx]\n",
    "\n",
    "            batch = np.concatenate((batch_n, batch_p))\n",
    "\n",
    "            a = batch[:,:1536//2]\n",
    "            b = batch[:,1536//2:]\n",
    "\n",
    "            y_true = [0]*len(batch_n) + [1]*len(batch_p)\n",
    "            \n",
    "            with tf.GradientTape() as tape:\n",
    "                tape.watch(T)  # Watch the variable T for gradient computation\n",
    "                W = tf.exp(1/2*T)\n",
    "                y_preds = (tf.math.reduce_sum((a*W)*(b*W), axis=1))/(tf.math.reduce_euclidean_norm(a*W, axis=1)*tf.math.reduce_euclidean_norm(b*W, axis=1))\n",
    "                loss = tf.math.reduce_mean(tf.square(y_true - y_preds))\n",
    "\n",
    "            gradients = tape.gradient(loss, T)\n",
    "            optimizer.apply_gradients([(gradients, T)])\n",
    "            loss_list.append(loss)\n",
    "            pbar.update(1)"
   ]
  },
  {
   "cell_type": "code",
   "execution_count": 45,
   "metadata": {},
   "outputs": [
    {
     "data": {
      "text/plain": [
       "<tf.Variable 'Variable:0' shape=(768,) dtype=float64, numpy=\n",
       "array([0.94726423, 1.32759397, 0.90547992, 1.03495051, 1.16639474,\n",
       "       0.94798035, 1.06789458, 0.95509071, 1.05184637, 1.15497549,\n",
       "       0.95008918, 0.91818474, 0.98678413, 1.00991663, 1.0711024 ,\n",
       "       0.85347417, 1.02422015, 1.01565589, 1.1086513 , 0.97253828,\n",
       "       1.02980754, 0.99934046, 1.04508897, 0.98060236, 1.19079485,\n",
       "       0.84732694, 0.88331448, 1.0321626 , 0.97246772, 0.96681106,\n",
       "       1.04743284, 1.09421322, 0.94239307, 1.04292699, 1.00000001,\n",
       "       1.03328648, 0.99696331, 0.99392302, 1.04785253, 1.03651358,\n",
       "       1.02469957, 1.09344572, 0.98590137, 1.00217652, 0.97415456,\n",
       "       0.98687973, 1.00847893, 0.90477686, 1.06829363, 0.99391774,\n",
       "       1.00647615, 0.87966047, 0.97620871, 0.97979046, 1.17189696,\n",
       "       0.97999392, 1.07128916, 1.08432881, 1.05875475, 0.9853862 ,\n",
       "       1.02748076, 1.03766389, 1.01417481, 0.9529718 , 0.97684017,\n",
       "       0.98240161, 1.07078377, 0.85924206, 0.98436918, 0.94897687,\n",
       "       0.97603134, 0.97420962, 0.92084609, 1.00571393, 0.96190175,\n",
       "       1.04256869, 0.93643281, 0.96066148, 0.85846174, 1.0010628 ,\n",
       "       0.94535073, 1.03209957, 0.99812782, 0.93561361, 1.05971565,\n",
       "       1.22425403, 1.02520291, 0.94844909, 1.02592326, 0.86757713,\n",
       "       0.94392343, 0.9665658 , 0.97953201, 1.11045651, 1.30592829,\n",
       "       1.02489876, 0.9336093 , 1.03287752, 1.00997049, 0.98406518,\n",
       "       1.11078109, 1.01583484, 1.05675082, 1.01525195, 0.97216273,\n",
       "       1.25953937, 0.94016764, 1.1356024 , 0.98511656, 1.01459531,\n",
       "       0.89471861, 0.97460352, 0.96231483, 1.11827028, 1.03611784,\n",
       "       0.96752049, 1.15281984, 1.13738413, 1.10378355, 0.97571414,\n",
       "       0.94326309, 0.9943933 , 0.96169265, 0.99801172, 1.04082864,\n",
       "       1.12158692, 0.93103877, 1.04659296, 0.90957249, 0.9619647 ,\n",
       "       0.9548897 , 0.99048309, 0.9271288 , 0.90165713, 0.90777174,\n",
       "       0.9497602 , 0.88745984, 0.92063288, 1.00483329, 0.87472982,\n",
       "       1.0514063 , 1.04469203, 0.95873044, 0.96918887, 1.03398817,\n",
       "       0.9393632 , 1.00203768, 1.02192578, 0.97690788, 0.96719432,\n",
       "       1.10423404, 1.04500211, 0.88743625, 0.99160226, 1.11069113,\n",
       "       0.93677505, 0.90166947, 0.99487677, 0.87037779, 1.06858496,\n",
       "       1.00048969, 1.09682047, 1.02646358, 0.99380021, 0.9190578 ,\n",
       "       1.12657666, 0.95511346, 1.02664612, 0.95383417, 0.93648467,\n",
       "       1.05607273, 1.02056748, 0.94431906, 1.01018519, 1.04076827,\n",
       "       1.05220807, 1.16563516, 1.0419133 , 0.94530358, 1.05383131,\n",
       "       0.85856408, 0.75847798, 0.96117634, 1.07357258, 0.90231952,\n",
       "       1.01926423, 1.09105908, 1.14184922, 0.98554921, 1.01879307,\n",
       "       1.10405727, 0.89819801, 1.00145916, 1.027851  , 0.86696672,\n",
       "       0.93218879, 1.00897158, 1.01774797, 0.96434524, 0.89880511,\n",
       "       0.94657566, 1.05489704, 1.0109818 , 1.18681299, 0.9327549 ,\n",
       "       1.01019677, 0.97387155, 0.84481112, 1.09424751, 0.98774988,\n",
       "       1.05227378, 0.89557698, 0.97431026, 0.94890255, 0.96480863,\n",
       "       0.83365924, 1.00745599, 1.06950503, 0.93815566, 0.91896039,\n",
       "       0.96686802, 1.14406117, 1.47008759, 1.00030102, 1.12761839,\n",
       "       0.96842566, 0.96128005, 0.93886696, 0.95112646, 1.03034231,\n",
       "       0.99034837, 1.05982671, 0.96624908, 1.05236169, 1.0060097 ,\n",
       "       0.99989586, 0.95019779, 1.20471862, 0.97914641, 1.0573716 ,\n",
       "       1.06217845, 0.97719467, 0.97834625, 0.93012179, 0.9807053 ,\n",
       "       1.07380486, 1.30138686, 0.87651534, 0.92054822, 0.97142209,\n",
       "       1.00795404, 0.9584013 , 0.97605502, 0.96212871, 0.99551496,\n",
       "       0.99240738, 0.98217928, 1.04855725, 1.12139587, 0.94957198,\n",
       "       1.12721137, 1.00294236, 0.99070269, 1.00915063, 1.0652677 ,\n",
       "       1.0073903 , 0.92750995, 1.01325373, 1.01089897, 1.00211279,\n",
       "       0.97271836, 0.92634522, 0.94734703, 0.99383878, 1.0193771 ,\n",
       "       0.87846872, 0.94145916, 1.02694119, 0.91611527, 0.91205596,\n",
       "       0.93686632, 0.87643883, 0.96942711, 0.9572539 , 0.95400456,\n",
       "       0.96313822, 0.98693862, 1.21814127, 0.84070893, 0.98999869,\n",
       "       0.93934041, 0.99154052, 0.98585188, 1.02984999, 1.01016501,\n",
       "       1.09352516, 1.06848307, 1.06147879, 1.10081467, 0.86218002,\n",
       "       0.95400989, 0.98873816, 0.98455059, 0.96455802, 0.89486984,\n",
       "       1.11395093, 1.09137961, 1.01998059, 0.9880712 , 1.12570888,\n",
       "       1.01720226, 0.98355406, 0.83401474, 1.03404035, 1.04701866,\n",
       "       0.94616548, 1.10049603, 0.97084455, 0.95666883, 0.93729604,\n",
       "       1.00441471, 1.00094532, 0.96813137, 0.95384706, 0.97902554,\n",
       "       0.88854197, 0.91404415, 0.99528734, 1.0792057 , 1.0387492 ,\n",
       "       0.99275677, 1.03014579, 0.92489338, 0.93143579, 0.93429914,\n",
       "       0.99228199, 1.02052027, 1.16642564, 1.04067938, 0.95195908,\n",
       "       0.97848407, 0.92066376, 1.01784047, 1.20000387, 0.93742003,\n",
       "       0.99081452, 1.13124269, 0.95089111, 0.9786011 , 0.98229596,\n",
       "       0.93097896, 1.03227301, 0.98085803, 1.02223484, 0.93311211,\n",
       "       1.01288543, 0.95226009, 0.96026756, 0.94785832, 0.97038221,\n",
       "       1.05374733, 0.92623169, 1.07477758, 0.95234476, 0.91607793,\n",
       "       1.00843689, 0.99285167, 0.98735513, 1.00846332, 0.97793819,\n",
       "       1.06730601, 0.9248348 , 1.07532812, 1.00884506, 1.01192682,\n",
       "       1.20307938, 0.8892941 , 0.9972392 , 1.04083095, 0.94019991,\n",
       "       1.07925421, 1.04089884, 1.03869589, 0.9490676 , 0.87269018,\n",
       "       0.94459671, 0.94535991, 0.96232625, 0.85196334, 1.0238841 ,\n",
       "       0.9172802 , 1.13067993, 1.06160899, 0.87757772, 0.96139928,\n",
       "       0.96310423, 0.98621132, 1.03021377, 1.02611639, 0.96718312,\n",
       "       0.92171269, 0.94802315, 1.03284209, 0.87030538, 1.00608069,\n",
       "       1.03699107, 1.16174237, 0.93323635, 1.1731318 , 0.98154179,\n",
       "       1.15589755, 1.07577071, 1.06270058, 0.92493335, 1.00107777,\n",
       "       0.94044974, 0.95355505, 0.96859545, 0.96347235, 0.93109156,\n",
       "       0.90047227, 1.05471356, 0.96980585, 1.05138086, 0.87115038,\n",
       "       1.00454264, 0.93354483, 0.9089301 , 1.03901783, 0.98420805,\n",
       "       1.16944714, 1.00635993, 1.0675649 , 0.97856465, 0.8506765 ,\n",
       "       1.03074477, 0.96555546, 0.95751944, 0.98687622, 0.96985711,\n",
       "       0.99881896, 1.04860358, 0.96162137, 1.00541111, 1.03206382,\n",
       "       1.10049987, 0.96684749, 1.00239314, 0.950194  , 1.0453206 ,\n",
       "       0.95448194, 1.01484731, 1.08664972, 1.08960893, 1.00686232,\n",
       "       1.03154217, 0.95816155, 1.16412606, 0.97169952, 0.80569321,\n",
       "       0.99294863, 1.99807216, 1.02601796, 0.95708473, 1.00384534,\n",
       "       1.01247573, 1.10657871, 0.93405253, 0.97094894, 0.95384286,\n",
       "       0.94007011, 1.01111558, 1.00641929, 1.03571263, 0.93788769,\n",
       "       1.08625159, 0.88211196, 0.96716522, 1.020087  , 1.08056364,\n",
       "       0.96622773, 1.13347493, 0.97878172, 0.97938699, 0.979908  ,\n",
       "       0.8914382 , 0.93887063, 0.95970463, 0.99857203, 0.90836342,\n",
       "       1.03000862, 0.91055038, 1.06476188, 1.1369762 , 0.97103148,\n",
       "       0.99895636, 1.06234984, 0.90336302, 1.07920819, 1.12007673,\n",
       "       0.9834904 , 0.98898188, 0.91638945, 0.94994653, 0.90949557,\n",
       "       1.03457013, 0.83676407, 1.04306355, 0.9420161 , 1.36490236,\n",
       "       0.9571982 , 0.9760032 , 0.9817028 , 1.01565995, 0.88188387,\n",
       "       1.00096705, 1.00889691, 1.04493328, 1.03131767, 0.89272716,\n",
       "       1.03361422, 0.9797591 , 1.00882715, 0.92784738, 0.83518468,\n",
       "       1.00174548, 0.98406412, 1.01793869, 1.0529622 , 0.95154287,\n",
       "       1.08661348, 1.05989523, 0.92163882, 1.00753662, 1.03438946,\n",
       "       1.10967195, 0.92604898, 1.12825922, 0.98417836, 0.946224  ,\n",
       "       0.86184097, 0.90314009, 1.11370172, 1.01795191, 1.02012779,\n",
       "       1.066981  , 1.00212041, 0.99063538, 0.92559017, 0.84716211,\n",
       "       1.01265346, 1.1446945 , 0.93860682, 0.95178054, 1.02983654,\n",
       "       1.12909839, 0.94878891, 0.92762963, 1.02605387, 0.93868072,\n",
       "       0.97185643, 0.96695295, 0.99211231, 0.93320202, 1.06171192,\n",
       "       0.953187  , 0.9500516 , 1.0185673 , 0.9945564 , 0.97227404,\n",
       "       0.89497772, 0.97073822, 0.92927766, 0.95946869, 0.89701966,\n",
       "       0.88747093, 1.04771439, 0.95377707, 1.03258359, 1.00246247,\n",
       "       0.99274844, 1.02897893, 0.99190326, 0.9888451 , 0.94552969,\n",
       "       1.08491139, 0.963024  , 0.99070253, 0.99859936, 1.1262328 ,\n",
       "       1.02744276, 1.02898489, 1.01370393, 0.90156593, 0.93010199,\n",
       "       1.07275891, 1.03928633, 1.0314304 , 1.0369539 , 1.02699177,\n",
       "       0.99619295, 0.98831005, 1.02531912, 0.98866106, 1.02676553,\n",
       "       0.9042192 , 1.01037884, 0.92214977, 1.03115207, 1.03849135,\n",
       "       1.06460487, 0.917484  , 0.94296503, 0.93572577, 1.14775333,\n",
       "       0.98594181, 1.11454884, 1.0087055 , 0.97874596, 1.12922359,\n",
       "       0.93739346, 0.97730805, 1.02923305, 0.7921507 , 1.23120181,\n",
       "       1.07924635, 0.95519055, 1.13024551, 1.02629331, 1.20713663,\n",
       "       1.10180506, 1.00595812, 0.99588343, 0.97356111, 0.95600476,\n",
       "       1.05473383, 1.01645036, 1.02066049, 0.98369892, 1.0570456 ,\n",
       "       1.064154  , 0.88200413, 1.04487898, 0.99084738, 1.03292448,\n",
       "       0.94971909, 0.8769088 , 1.00470387, 0.96295024, 0.98285696,\n",
       "       1.09652703, 1.00664838, 0.95940729, 1.0269638 , 0.94963555,\n",
       "       0.98610625, 1.03083932, 0.97883184, 0.93557353, 0.90227998,\n",
       "       1.00787756, 0.73209287, 0.94714423, 0.99051889, 0.87196959,\n",
       "       1.0061913 , 0.93644843, 1.08955697, 0.94832363, 1.1183182 ,\n",
       "       0.95207299, 0.98098896, 1.00341886, 1.109707  , 0.91354379,\n",
       "       0.84470421, 0.93504667, 1.09529314, 0.9577875 , 1.05330453,\n",
       "       0.93571391, 0.93753347, 1.03554886, 1.19050216, 1.09486502,\n",
       "       1.08583769, 1.00298925, 0.95956024, 0.99941271, 0.91730645,\n",
       "       0.98455776, 1.02770901, 1.07055535, 0.88101606, 1.11485255,\n",
       "       0.91161809, 0.9317622 , 1.07279396, 1.11802055, 0.94209856,\n",
       "       0.93279105, 1.00238226, 0.94029688, 1.15465841, 1.17409516,\n",
       "       1.03848538, 0.9231149 , 0.98335093, 0.97668959, 1.02905231,\n",
       "       0.95814461, 1.01094353, 0.94959021, 0.92069315, 1.15149913,\n",
       "       0.95719802, 1.09046045, 0.9475786 , 0.86991856, 0.9033118 ,\n",
       "       1.22437475, 0.98023279, 1.09081719, 0.95236144, 0.96388913,\n",
       "       0.7816908 , 1.008232  , 0.9529888 , 0.95830351, 0.96684297,\n",
       "       1.1716862 , 0.95486438, 1.0784413 , 0.98505942, 0.79045673,\n",
       "       0.98195746, 1.1285069 , 0.99453053, 0.93866751, 0.9483472 ,\n",
       "       1.01682426, 1.03071217, 1.03550673, 0.98143386, 0.94234616,\n",
       "       0.95129356, 0.91673003, 1.02272181, 0.96696368, 0.90589429,\n",
       "       1.04668381, 0.98975942, 1.00809217, 0.92321096, 1.1524219 ,\n",
       "       1.01953005, 0.98895031, 0.95791397, 0.96438763, 1.14913853,\n",
       "       0.9387096 , 1.01198977, 1.00793897, 1.28189798, 0.98158322,\n",
       "       0.90743762, 1.13147514, 0.98606212])>"
      ]
     },
     "execution_count": 45,
     "metadata": {},
     "output_type": "execute_result"
    }
   ],
   "source": [
    "T"
   ]
  },
  {
   "cell_type": "code",
   "execution_count": 38,
   "metadata": {},
   "outputs": [],
   "source": [
    "loss_list_epochs = []\n",
    "for i in range(n_epochs):\n",
    "    loss_list_epochs.append(np.mean(loss_list[i*itt:(i+1)*itt]))"
   ]
  },
  {
   "cell_type": "code",
   "execution_count": 39,
   "metadata": {},
   "outputs": [
    {
     "data": {
      "text/plain": [
       "[<matplotlib.lines.Line2D at 0x1f326f2e890>]"
      ]
     },
     "execution_count": 39,
     "metadata": {},
     "output_type": "execute_result"
    },
    {
     "data": {
      "image/png": "[encoded data removed]",
      "text/plain": [
       "<Figure size 432x288 with 1 Axes>"
      ]
     },
     "metadata": {
      "needs_background": "light"
     },
     "output_type": "display_data"
    }
   ],
   "source": [
    "plt.title(\"Matrix model loss history\")\n",
    "plt.plot(loss_list_epochs)"
   ]
  },
  {
   "attachments": {},
   "cell_type": "markdown",
   "metadata": {},
   "source": [
    "## Test models"
   ]
  },
  {
   "cell_type": "code",
   "execution_count": 19,
   "metadata": {},
   "outputs": [
    {
     "name": "stdout",
     "output_type": "stream",
     "text": [
      "3955/3955 [==============================] - 9s 2ms/step\n"
     ]
    }
   ],
   "source": [
    "y_nn_preds = neural_net.predict(X_test_all_ctx)"
   ]
  },
  {
   "cell_type": "code",
   "execution_count": 20,
   "metadata": {},
   "outputs": [],
   "source": [
    "y_cosine_preds = [np.dot(a, b)/(np.linalg.norm(a)*np.linalg.norm(b)) for a,b in zip(X_test_all_ctx[:,:1536//2], X_test_all_ctx[:,1536//2:])]"
   ]
  },
  {
   "cell_type": "code",
   "execution_count": 40,
   "metadata": {},
   "outputs": [],
   "source": [
    "W = tf.exp(1/2*T).numpy()\n",
    "y_matrix_preds_batch_os = [((a*W).T@(b*W))/(np.linalg.norm(a*W)*np.linalg.norm(b*W)) for a,b in zip(X_test_all_ctx[:,:1536//2], X_test_all_ctx[:,1536//2:])]"
   ]
  },
  {
   "cell_type": "code",
   "execution_count": 60,
   "metadata": {},
   "outputs": [
    {
     "data": {
      "text/plain": [
       "<matplotlib.legend.Legend at 0x1f326f51fc0>"
      ]
     },
     "execution_count": 60,
     "metadata": {},
     "output_type": "execute_result"
    },
    {
     "data": {
      "image/png": "[encoded data removed]",
      "text/plain": [
       "<Figure size 1152x576 with 1 Axes>"
      ]
     },
     "metadata": {
      "needs_background": "light"
     },
     "output_type": "display_data"
    }
   ],
   "source": [
    "plt.figure(figsize=(16,8))\n",
    "plot_roc(\"NS\", y_test_all_ctx, y_nn_preds)\n",
    "#plot_roc(\"Matrix\", y_test_all_ctx, y_matrix_preds)\n",
    "plot_roc(\"Matrix\", y_test_all_ctx, y_matrix_preds_batch_os)\n",
    "plot_roc(\"Cosine\", y_test_all_ctx, y_cosine_preds)\n",
    "plt.legend(loc='lower right')"
   ]
  },
  {
   "cell_type": "code",
   "execution_count": 47,
   "metadata": {},
   "outputs": [],
   "source": [
    "W = tf.exp(1/2*T).numpy()\n",
    "y_matrix_preds = [((a*W).T@(b*W))/(np.linalg.norm(a*W)*np.linalg.norm(b*W)) for a,b in zip(X_test[:,:1536//2], X_test[:,1536//2:])]"
   ]
  },
  {
   "cell_type": "code",
   "execution_count": 48,
   "metadata": {},
   "outputs": [],
   "source": [
    "y_cosine_preds = [np.dot(a, b)/(np.linalg.norm(a)*np.linalg.norm(b)) for a,b in zip(X_test[:,:1536//2], X_test[:,1536//2:])]"
   ]
  },
  {
   "cell_type": "code",
   "execution_count": 59,
   "metadata": {},
   "outputs": [],
   "source": [
    "from sklearn.metrics import roc_curve, auc, roc_auc_score\n",
    "import matplotlib.pyplot as plt\n",
    "def plot_roc(name, labels, predictions, **kwargs):\n",
    "  fp, tp, _ = roc_curve(labels, predictions)\n",
    "\n",
    "  plt.plot(100*fp, 100*tp, label=f'{name} AUC: {roc_auc_score(labels, predictions):.3f}', linewidth=2, **kwargs)\n",
    "  plt.xlabel('False positives [%]')\n",
    "  plt.ylabel('True positives [%]')\n",
    "  plt.xlim([-0.5,100])\n",
    "  plt.ylim([0,100.5])\n",
    "  plt.grid(True)\n",
    "  ax = plt.gca()\n",
    "  ax.set_aspect('equal')"
   ]
  },
  {
   "cell_type": "code",
   "execution_count": 23,
   "metadata": {},
   "outputs": [
    {
     "data": {
      "text/plain": [
       "0.9143136551147619"
      ]
     },
     "execution_count": 23,
     "metadata": {},
     "output_type": "execute_result"
    }
   ],
   "source": [
    "roc_auc_score(y_test, y_cosine_preds)"
   ]
  },
  {
   "cell_type": "code",
   "execution_count": 21,
   "metadata": {},
   "outputs": [
    {
     "name": "stderr",
     "output_type": "stream",
     "text": [
      "c:\\Users\\Lauritz\\AppData\\Local\\Programs\\Python\\Python310\\lib\\site-packages\\sklearn\\metrics\\_ranking.py:1029: UndefinedMetricWarning: No positive samples in y_true, true positive value should be meaningless\n",
      "  warnings.warn(\n"
     ]
    },
    {
     "data": {
      "text/plain": [
       "nan"
      ]
     },
     "execution_count": 21,
     "metadata": {},
     "output_type": "execute_result"
    }
   ],
   "source": [
    "fpr, tpr, thresholds = roc_curve(y_test, y_cosine_preds, pos_label=2)\n",
    "auc(fpr, tpr)"
   ]
  },
  {
   "cell_type": "code",
   "execution_count": 50,
   "metadata": {},
   "outputs": [
    {
     "data": {
      "text/plain": [
       "<matplotlib.legend.Legend at 0x1e34ddb19c0>"
      ]
     },
     "execution_count": 50,
     "metadata": {},
     "output_type": "execute_result"
    },
    {
     "data": {
      "image/png": "[encoded data removed]",
      "text/plain": [
       "<Figure size 1152x576 with 1 Axes>"
      ]
     },
     "metadata": {
      "needs_background": "light"
     },
     "output_type": "display_data"
    }
   ],
   "source": [
    "plt.figure(figsize=(16,8))\n",
    "#plot_roc(\"NS\", y_test, y_nn_preds)\n",
    "plot_roc(\"Matrix\", y_test, y_matrix_preds)\n",
    "plot_roc(\"Cosine\", y_test, y_cosine_preds)\n",
    "plt.legend(loc='lower right')"
   ]
  },
  {
   "cell_type": "code",
   "execution_count": 29,
   "metadata": {},
   "outputs": [
    {
     "data": {
      "text/plain": [
       "<matplotlib.legend.Legend at 0x1e251c272b0>"
      ]
     },
     "execution_count": 29,
     "metadata": {},
     "output_type": "execute_result"
    },
    {
     "data": {
      "image/png": "[encoded data removed]",
      "text/plain": [
       "<Figure size 1152x576 with 1 Axes>"
      ]
     },
     "metadata": {
      "needs_background": "light"
     },
     "output_type": "display_data"
    }
   ],
   "source": [
    "plt.figure(figsize=(16,8))\n",
    "#plot_roc(\"NS\", y_test, y_nn_preds)\n",
    "plot_roc(\"Matrix\", y_test, y_matrix_preds)\n",
    "plot_roc(\"Cosine\", y_test, y_cosine_preds)\n",
    "plt.legend(loc='lower right')"
   ]
  },
  {
   "cell_type": "code",
   "execution_count": 17,
   "metadata": {},
   "outputs": [
    {
     "data": {
      "text/plain": [
       "<matplotlib.legend.Legend at 0x1e251801780>"
      ]
     },
     "execution_count": 17,
     "metadata": {},
     "output_type": "execute_result"
    },
    {
     "data": {
      "image/png": "[encoded data removed]",
      "text/plain": [
       "<Figure size 1152x576 with 1 Axes>"
      ]
     },
     "metadata": {
      "needs_background": "light"
     },
     "output_type": "display_data"
    }
   ],
   "source": [
    "plt.figure(figsize=(16,8))\n",
    "#plot_roc(\"NS\", y_test, y_nn_preds)\n",
    "plot_roc(\"Matrix\", y_test, y_matrix_preds)\n",
    "plot_roc(\"Cosine\", y_test, y_cosine_preds)\n",
    "plt.legend(loc='lower right')"
   ]
  },
  {
   "cell_type": "code",
   "execution_count": 188,
   "metadata": {},
   "outputs": [
    {
     "data": {
      "text/plain": [
       "<matplotlib.legend.Legend at 0x2c8f952f9a0>"
      ]
     },
     "execution_count": 188,
     "metadata": {},
     "output_type": "execute_result"
    },
    {
     "data": {
      "image/png": "[encoded data removed]",
      "text/plain": [
       "<Figure size 1152x576 with 1 Axes>"
      ]
     },
     "metadata": {
      "needs_background": "light"
     },
     "output_type": "display_data"
    }
   ],
   "source": [
    "plt.figure(figsize=(16,8))\n",
    "#plot_roc(\"NS\", y_test, y_nn_preds)\n",
    "plot_roc(\"Matrix\", y_test, y_matrix_preds)\n",
    "plot_roc(\"Cosine\", y_test, y_cosine_preds)\n",
    "plt.legend(loc='lower right')"
   ]
  },
  {
   "cell_type": "code",
   "execution_count": 20,
   "metadata": {},
   "outputs": [
    {
     "data": {
      "text/plain": [
       "<matplotlib.legend.Legend at 0x18cb0361120>"
      ]
     },
     "execution_count": 20,
     "metadata": {},
     "output_type": "execute_result"
    },
    {
     "data": {
      "image/png": "[encoded data removed]",
      "text/plain": [
       "<Figure size 1152x576 with 1 Axes>"
      ]
     },
     "metadata": {
      "needs_background": "light"
     },
     "output_type": "display_data"
    }
   ],
   "source": [
    "plt.figure(figsize=(16,8))\n",
    "#plot_roc(\"NS\", y_test, y_nn_preds)\n",
    "plot_roc(\"Matrix\", y_test, y_matrix_preds)\n",
    "plot_roc(\"Cosine\", y_test, y_cosine_preds)\n",
    "plt.legend(loc='lower right')"
   ]
  },
  {
   "cell_type": "code",
   "execution_count": 59,
   "metadata": {},
   "outputs": [
    {
     "data": {
      "text/plain": [
       "<matplotlib.legend.Legend at 0x2299714e290>"
      ]
     },
     "execution_count": 59,
     "metadata": {},
     "output_type": "execute_result"
    },
    {
     "data": {
      "image/png": "[encoded data removed]",
      "text/plain": [
       "<Figure size 1152x576 with 1 Axes>"
      ]
     },
     "metadata": {
      "needs_background": "light"
     },
     "output_type": "display_data"
    }
   ],
   "source": [
    "#plot_roc(\"Train\", train_labels, train_predictions_baseline, color=colors[0])\n",
    "plt.figure(figsize=(16,8))\n",
    "plot_roc(\"NS\", y_test, y_nn_preds.flatten())\n",
    "plot_roc(\"Cosine\", y_test, y_cosine_preds)\n",
    "plt.legend(loc='lower right')"
   ]
  }
 ],
 "metadata": {
  "kernelspec": {
   "display_name": "Python 3",
   "language": "python",
   "name": "python3"
  },
  "language_info": {
   "codemirror_mode": {
    "name": "ipython",
    "version": 3
   },
   "file_extension": ".py",
   "mimetype": "text/x-python",
   "name": "python",
   "nbconvert_exporter": "python",
   "pygments_lexer": "ipython3",
   "version": "3.9.16"
  },
  "orig_nbformat": 4
 },
 "nbformat": 4,
 "nbformat_minor": 2
}
