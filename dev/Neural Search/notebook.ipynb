{
 "cells": [
  {
   "cell_type": "code",
   "execution_count": 1,
   "metadata": {},
   "outputs": [],
   "source": [
    "import numpy as np\n",
    "import pandas as pd\n",
    "import pickle"
   ]
  },
  {
   "cell_type": "code",
   "execution_count": 2,
   "metadata": {},
   "outputs": [],
   "source": [
    "with open('../AL - experiment/df_pickle/df_context.pkl', 'rb') as f:\n",
    "    df_context = pickle.load(f)"
   ]
  },
  {
   "cell_type": "code",
   "execution_count": 3,
   "metadata": {},
   "outputs": [],
   "source": [
    "with open('./question-context-20.pkl', 'rb') as f:\n",
    "    df_20 = pickle.load(f)\n",
    "df_20.reset_index(inplace=True)"
   ]
  },
  {
   "cell_type": "code",
   "execution_count": 4,
   "metadata": {},
   "outputs": [],
   "source": [
    "from sentence_transformers import SentenceTransformer, util"
   ]
  },
  {
   "cell_type": "code",
   "execution_count": 5,
   "metadata": {},
   "outputs": [],
   "source": [
    "model = SentenceTransformer('sentence-transformers/multi-qa-mpnet-base-dot-v1')"
   ]
  },
  {
   "cell_type": "code",
   "execution_count": 6,
   "metadata": {},
   "outputs": [
    {
     "data": {
      "text/plain": [
       "array([\"What was the subject of Alan Turing's famous essay?\",\n",
       "       'How did Alan Turing suggest we approach the question of building intelligent machines?',\n",
       "       'What did Alan Turing propose as an alternative to defining intelligence?',\n",
       "       ...,\n",
       "       'Who is credited with first using mixture models to analyze the length of crabs?',\n",
       "       'When was the EM algorithm first named?',\n",
       "       'What is the goal of density estimation and how is it relevant in practical applications?'],\n",
       "      dtype=object)"
      ]
     },
     "execution_count": 6,
     "metadata": {},
     "output_type": "execute_result"
    }
   ],
   "source": [
    "df_20['question'].unique()"
   ]
  },
  {
   "cell_type": "code",
   "execution_count": 7,
   "metadata": {},
   "outputs": [],
   "source": [
    "# context_embeddings = {ctx: model.encode(ctx) for ctx in df_20['context'].unique()}\n",
    "# question_embeddings = {q: model.encode(q) for q in df_20['question'].unique()}\n",
    "# with open('./context_embeddings.pkl', 'wb') as f:\n",
    "#     f.write(pickle.dumps(context_embeddings))\n",
    "# with open('./question_embeddings.pkl', 'wb') as f:\n",
    "#     f.write(pickle.dumps(question_embeddings))\n",
    "with open('./context_embeddings.pkl', 'rb') as f:\n",
    "    context_embeddings = pickle.loads(f.read())\n",
    "with open('./question_embeddings.pkl', 'rb') as f:\n",
    "    question_embeddings = pickle.loads(f.read())"
   ]
  },
  {
   "cell_type": "code",
   "execution_count": 8,
   "metadata": {},
   "outputs": [
    {
     "data": {
      "text/plain": [
       "3198"
      ]
     },
     "execution_count": 8,
     "metadata": {},
     "output_type": "execute_result"
    }
   ],
   "source": [
    "from collections import defaultdict\n",
    "\n",
    "is_added = defaultdict(lambda: 0)\n",
    "\n",
    "contexts = df_20['context'].unique()\n",
    "data = []\n",
    "\n",
    "for i,row in df_20.iterrows():\n",
    "    if is_added[row['question']]:\n",
    "        continue\n",
    "\n",
    "    dft = pd.DataFrame(columns=['context', 'question', 'label'])\n",
    "    dft['context'] = contexts\n",
    "    dft['question'] = row['question']\n",
    "    dft['label'] = 0\n",
    "\n",
    "    #dft.loc[dft['context']==row['context'],'label'] = 1\n",
    "\n",
    "    for ctx in df_20.loc[df_20['question'] == row['question'],'context']:\n",
    "        # if int(dft.loc[dft['context']==ctx,'label']) == 1:\n",
    "        #     print(\"AASASASSASAS\")\n",
    "        dft.loc[dft['context']==ctx,'label'] = 1\n",
    "\n",
    "    data.append(dft)\n",
    "\n",
    "    is_added[row['question']] = 1\n",
    "df = pd.concat(data, ignore_index=True)\n",
    "sum(df['label'])"
   ]
  },
  {
   "cell_type": "code",
   "execution_count": 9,
   "metadata": {},
   "outputs": [
    {
     "data": {
      "text/html": [
       "<div>\n",
       "<style scoped>\n",
       "    .dataframe tbody tr th:only-of-type {\n",
       "        vertical-align: middle;\n",
       "    }\n",
       "\n",
       "    .dataframe tbody tr th {\n",
       "        vertical-align: top;\n",
       "    }\n",
       "\n",
       "    .dataframe thead th {\n",
       "        text-align: right;\n",
       "    }\n",
       "</style>\n",
       "<table border=\"1\" class=\"dataframe\">\n",
       "  <thead>\n",
       "    <tr style=\"text-align: right;\">\n",
       "      <th></th>\n",
       "      <th>context</th>\n",
       "      <th>question</th>\n",
       "      <th>label</th>\n",
       "    </tr>\n",
       "  </thead>\n",
       "  <tbody>\n",
       "    <tr>\n",
       "      <th>0</th>\n",
       "      <td>How can we build intelligent machines? More t...</td>\n",
       "      <td>What was the subject of Alan Turing's famous e...</td>\n",
       "      <td>1</td>\n",
       "    </tr>\n",
       "    <tr>\n",
       "      <th>1</th>\n",
       "      <td>Machine learning is the implementation of Tur...</td>\n",
       "      <td>What was the subject of Alan Turing's famous e...</td>\n",
       "      <td>0</td>\n",
       "    </tr>\n",
       "    <tr>\n",
       "      <th>2</th>\n",
       "      <td>Data mining refers to the discovery of patter...</td>\n",
       "      <td>What was the subject of Alan Turing's famous e...</td>\n",
       "      <td>0</td>\n",
       "    </tr>\n",
       "    <tr>\n",
       "      <th>3</th>\n",
       "      <td>Artificial intelligence is the construction o...</td>\n",
       "      <td>What was the subject of Alan Turing's famous e...</td>\n",
       "      <td>0</td>\n",
       "    </tr>\n",
       "    <tr>\n",
       "      <th>4</th>\n",
       "      <td>Machine learning draws on a number of discipl...</td>\n",
       "      <td>What was the subject of Alan Turing's famous e...</td>\n",
       "      <td>0</td>\n",
       "    </tr>\n",
       "    <tr>\n",
       "      <th>...</th>\n",
       "      <td>...</td>\n",
       "      <td>...</td>\n",
       "      <td>...</td>\n",
       "    </tr>\n",
       "    <tr>\n",
       "      <th>506395</th>\n",
       "      <td>10.1.3 Cross-validation for quantifying genera...</td>\n",
       "      <td>What is the goal of density estimation and how...</td>\n",
       "      <td>0</td>\n",
       "    </tr>\n",
       "    <tr>\n",
       "      <th>506396</th>\n",
       "      <td>10.1.4 Cross-validation for model selection We...</td>\n",
       "      <td>What is the goal of density estimation and how...</td>\n",
       "      <td>0</td>\n",
       "    </tr>\n",
       "    <tr>\n",
       "      <th>506397</th>\n",
       "      <td>10.1.5 Two-layer cross-validation Let’s turn t...</td>\n",
       "      <td>What is the goal of density estimation and how...</td>\n",
       "      <td>0</td>\n",
       "    </tr>\n",
       "    <tr>\n",
       "      <th>506398</th>\n",
       "      <td>The Apriori algorithm is very efficient at ide...</td>\n",
       "      <td>What is the goal of density estimation and how...</td>\n",
       "      <td>0</td>\n",
       "    </tr>\n",
       "    <tr>\n",
       "      <th>506399</th>\n",
       "      <td>Our third measure of cluster similarity is ba...</td>\n",
       "      <td>What is the goal of density estimation and how...</td>\n",
       "      <td>1</td>\n",
       "    </tr>\n",
       "  </tbody>\n",
       "</table>\n",
       "<p>506400 rows × 3 columns</p>\n",
       "</div>"
      ],
      "text/plain": [
       "                                                  context  \\\n",
       "0        How can we build intelligent machines? More t...   \n",
       "1        Machine learning is the implementation of Tur...   \n",
       "2        Data mining refers to the discovery of patter...   \n",
       "3        Artificial intelligence is the construction o...   \n",
       "4        Machine learning draws on a number of discipl...   \n",
       "...                                                   ...   \n",
       "506395  10.1.3 Cross-validation for quantifying genera...   \n",
       "506396  10.1.4 Cross-validation for model selection We...   \n",
       "506397  10.1.5 Two-layer cross-validation Let’s turn t...   \n",
       "506398  The Apriori algorithm is very efficient at ide...   \n",
       "506399   Our third measure of cluster similarity is ba...   \n",
       "\n",
       "                                                 question  label  \n",
       "0       What was the subject of Alan Turing's famous e...      1  \n",
       "1       What was the subject of Alan Turing's famous e...      0  \n",
       "2       What was the subject of Alan Turing's famous e...      0  \n",
       "3       What was the subject of Alan Turing's famous e...      0  \n",
       "4       What was the subject of Alan Turing's famous e...      0  \n",
       "...                                                   ...    ...  \n",
       "506395  What is the goal of density estimation and how...      0  \n",
       "506396  What is the goal of density estimation and how...      0  \n",
       "506397  What is the goal of density estimation and how...      0  \n",
       "506398  What is the goal of density estimation and how...      0  \n",
       "506399  What is the goal of density estimation and how...      1  \n",
       "\n",
       "[506400 rows x 3 columns]"
      ]
     },
     "execution_count": 9,
     "metadata": {},
     "output_type": "execute_result"
    }
   ],
   "source": [
    "df"
   ]
  },
  {
   "attachments": {},
   "cell_type": "markdown",
   "metadata": {},
   "source": [
    "# Models"
   ]
  },
  {
   "cell_type": "code",
   "execution_count": 10,
   "metadata": {},
   "outputs": [],
   "source": [
    "n_test_q = int(0.25*len(df['question'].unique()))\n",
    "test_q = np.random.choice(df['question'].unique(), n_test_q, replace=False)\n",
    "\n",
    "n_test_ctx = int(0.25*len(df['context'].unique()))\n",
    "test_ctx = np.random.choice(df['context'].unique(), n_test_ctx, replace=False)\n",
    "\n",
    "df_test = df.loc[df['question'].isin(test_q)].loc[df['context'].isin(test_ctx)]\n",
    "df_test.reset_index(inplace=True, drop=True)\n",
    "df_train = df.loc[~df['question'].isin(test_q)].loc[~df['context'].isin(test_ctx)]\n",
    "df_train.reset_index(inplace=True, drop=True)"
   ]
  },
  {
   "cell_type": "code",
   "execution_count": 11,
   "metadata": {},
   "outputs": [],
   "source": [
    "X_train = np.array([np.concatenate((context_embeddings[ctx],question_embeddings[q])) for ctx,q in zip(df_train['context'].values, df_train['question'].values)])\n",
    "y_train = np.array([i for i in df_train['label'].values])\n",
    "\n",
    "X_test = np.array([np.concatenate((context_embeddings[ctx],question_embeddings[q])) for ctx,q in zip(df_test['context'].values, df_test['question'].values)])\n",
    "y_test = np.array([i for i in df_test['label'].values])"
   ]
  },
  {
   "attachments": {},
   "cell_type": "markdown",
   "metadata": {},
   "source": [
    "### Neural Network"
   ]
  },
  {
   "cell_type": "code",
   "execution_count": 37,
   "metadata": {},
   "outputs": [],
   "source": [
    "from keras.models import Sequential\n",
    "from keras.layers import Dense, Dropout\n",
    "import matplotlib.pyplot as plt"
   ]
  },
  {
   "cell_type": "code",
   "execution_count": 38,
   "metadata": {},
   "outputs": [],
   "source": [
    "neural_net = Sequential()\n",
    "neural_net.add(Dense(768, input_dim=768*2, activation='relu'))\n",
    "neural_net.add(Dense(384, activation='relu'))\n",
    "#neural_net.add(Dropout(rate=0.2))\n",
    "#neural_net.add(Dense(256, activation='relu'))\n",
    "neural_net.add(Dense(1, activation='sigmoid'))\n",
    "\n",
    "neural_net.compile(loss='binary_crossentropy', optimizer='adam', metrics=['accuracy'])"
   ]
  },
  {
   "cell_type": "code",
   "execution_count": 15,
   "metadata": {},
   "outputs": [],
   "source": [
    "import tensorflow as tf\n",
    "class BatchBalancerSequence(tf.keras.utils.Sequence):\n",
    "\n",
    "    def __init__(self, x_set, y_set, batch_size):\n",
    "        self.x_p = x_set[y_set==1]\n",
    "        self.x_n = x_set[y_set==0]\n",
    "        self.batch_size = batch_size\n",
    "        self.batch_size_n = batch_size//2\n",
    "\n",
    "    def __len__(self):\n",
    "        #For each n y=0 we will oversample with n y=1\n",
    "        return int(np.ceil(len(self.x_n)*2 / self.batch_size))\n",
    "\n",
    "    def __getitem__(self, idx):\n",
    "        low = idx * self.batch_size_n\n",
    "        # Cap upper bound at array length; the last batch may be smaller\n",
    "        # if the total number of items is not a multiple of batch size.\n",
    "        high = min(low + self.batch_size_n, len(self.x_n))\n",
    "        batch_x = self.x_n[low:high]\n",
    "        n_neg = len(batch_x)\n",
    "        batch_y = [0]*n_neg\n",
    "        \n",
    "        x_p_idx = np.random.choice(len(self.x_p), n_neg, replace=False)\n",
    "        batch_x = np.concatenate((batch_x, self.x_p[x_p_idx]))\n",
    "        batch_y = np.append(batch_y, [1]*n_neg)\n",
    "\n",
    "        return batch_x, batch_y"
   ]
  },
  {
   "cell_type": "code",
   "execution_count": 16,
   "metadata": {},
   "outputs": [
    {
     "name": "stdout",
     "output_type": "stream",
     "text": [
      "Epoch 1/5\n",
      "17692/17692 [==============================] - 146s 8ms/step - loss: 0.0896 - accuracy: 0.9669\n",
      "Epoch 2/5\n",
      "17692/17692 [==============================] - 136s 8ms/step - loss: 0.0239 - accuracy: 0.9932\n",
      "Epoch 3/5\n",
      "17692/17692 [==============================] - 145s 8ms/step - loss: 0.0149 - accuracy: 0.9960\n",
      "Epoch 4/5\n",
      "17692/17692 [==============================] - 136s 8ms/step - loss: 0.0103 - accuracy: 0.9972\n",
      "Epoch 5/5\n",
      "17692/17692 [==============================] - 127s 7ms/step - loss: 0.0083 - accuracy: 0.9976\n"
     ]
    }
   ],
   "source": [
    "history = neural_net.fit(BatchBalancerSequence(X_train, y_train, 32), epochs=5)"
   ]
  },
  {
   "cell_type": "code",
   "execution_count": 28,
   "metadata": {},
   "outputs": [
    {
     "data": {
      "text/plain": [
       "[<matplotlib.lines.Line2D at 0x1e9c894e830>]"
      ]
     },
     "execution_count": 28,
     "metadata": {},
     "output_type": "execute_result"
    },
    {
     "data": {
      "image/png": "[encoded data removed]",
      "text/plain": [
       "<Figure size 432x288 with 1 Axes>"
      ]
     },
     "metadata": {
      "needs_background": "light"
     },
     "output_type": "display_data"
    }
   ],
   "source": [
    "plt.plot(history.history['loss'])"
   ]
  },
  {
   "cell_type": "code",
   "execution_count": 29,
   "metadata": {},
   "outputs": [
    {
     "data": {
      "text/plain": [
       "[<matplotlib.lines.Line2D at 0x1e9c89cb0d0>]"
      ]
     },
     "execution_count": 29,
     "metadata": {},
     "output_type": "execute_result"
    },
    {
     "data": {
      "image/png": "[encoded data removed]",
      "text/plain": [
       "<Figure size 432x288 with 1 Axes>"
      ]
     },
     "metadata": {
      "needs_background": "light"
     },
     "output_type": "display_data"
    }
   ],
   "source": [
    "plt.plot(history.history['accuracy'])"
   ]
  },
  {
   "attachments": {},
   "cell_type": "markdown",
   "metadata": {},
   "source": [
    "## Matrix model"
   ]
  },
  {
   "cell_type": "code",
   "execution_count": 155,
   "metadata": {},
   "outputs": [
    {
     "name": "stderr",
     "output_type": "stream",
     "text": [
      "100%|██████████| 11130/11130 [04:04<00:00, 45.50it/s]\n"
     ]
    }
   ],
   "source": [
    "import tensorflow as tf\n",
    "from tqdm import tqdm\n",
    "\n",
    "learning_rate = 0.1\n",
    "\n",
    "T = tf.Variable(np.ones(X_train.shape[1]//2))\n",
    "\n",
    "len_train = X_train.shape[0]\n",
    "\n",
    "optimizer = tf.keras.optimizers.SGD(learning_rate=learning_rate)\n",
    "\n",
    "\n",
    "batch_size = 128\n",
    "itt = int(np.ceil(len_train/batch_size))\n",
    "\n",
    "n_epochs = 5\n",
    "\n",
    "# TODO: shuffle data\n",
    "with tqdm(total=itt*n_epochs) as pbar:\n",
    "    for _ in range(n_epochs):\n",
    "        for i in range(1,itt+1):\n",
    "            low = (i-1)*batch_size\n",
    "            high = min(i*batch_size, len_train)\n",
    "\n",
    "            a = X_train[low:high,:1536//2]\n",
    "            b = X_train[low:high,1536//2:]\n",
    "\n",
    "            y_true = y_train[low:high]\n",
    "            \n",
    "            with tf.GradientTape() as tape:\n",
    "                tape.watch(T)  # Watch the variable W for gradient computation\n",
    "                W = tf.exp(1/2*T)\n",
    "                y_preds = (tf.math.reduce_sum((a*W)*(b*W), axis=1))/(tf.math.reduce_euclidean_norm(a*W, axis=1)*tf.math.reduce_euclidean_norm(b*W, axis=1))\n",
    "                loss = tf.math.reduce_mean(tf.square(y_true - y_preds))\n",
    "\n",
    "            gradients = tape.gradient(loss, T)\n",
    "            optimizer.apply_gradients([(gradients, T)])\n",
    "            pbar.update(1)"
   ]
  },
  {
   "attachments": {},
   "cell_type": "markdown",
   "metadata": {},
   "source": [
    "## Test models"
   ]
  },
  {
   "cell_type": "code",
   "execution_count": 18,
   "metadata": {},
   "outputs": [
    {
     "name": "stdout",
     "output_type": "stream",
     "text": [
      "989/989 [==============================] - 4s 4ms/step\n"
     ]
    }
   ],
   "source": [
    "y_nn_preds = neural_net.predict(X_test)"
   ]
  },
  {
   "cell_type": "code",
   "execution_count": 182,
   "metadata": {},
   "outputs": [],
   "source": [
    "W = tf.exp(1/2*T).numpy()\n",
    "y_matrix_preds = [((a*W).T@(b*W))/(np.linalg.norm(a*W)*np.linalg.norm(b*W)) for a,b in zip(X_test[:,:1536//2], X_test[:,1536//2:])]"
   ]
  },
  {
   "cell_type": "code",
   "execution_count": 185,
   "metadata": {},
   "outputs": [],
   "source": [
    "y_cosine_preds = [np.dot(a, b)/(np.linalg.norm(a)*np.linalg.norm(b)) for a,b in zip(X_test[:,:1536//2], X_test[:,1536//2:])]"
   ]
  },
  {
   "cell_type": "code",
   "execution_count": 186,
   "metadata": {},
   "outputs": [],
   "source": [
    "from sklearn.metrics import roc_curve\n",
    "import matplotlib.pyplot as plt\n",
    "def plot_roc(name, labels, predictions, **kwargs):\n",
    "  fp, tp, _ = roc_curve(labels, predictions)\n",
    "\n",
    "  plt.plot(100*fp, 100*tp, label=name, linewidth=2, **kwargs)\n",
    "  plt.xlabel('False positives [%]')\n",
    "  plt.ylabel('True positives [%]')\n",
    "  plt.xlim([-0.5,100])\n",
    "  plt.ylim([0,100.5])\n",
    "  plt.grid(True)\n",
    "  ax = plt.gca()\n",
    "  ax.set_aspect('equal')"
   ]
  },
  {
   "cell_type": "code",
   "execution_count": 188,
   "metadata": {},
   "outputs": [
    {
     "data": {
      "text/plain": [
       "<matplotlib.legend.Legend at 0x2c8f952f9a0>"
      ]
     },
     "execution_count": 188,
     "metadata": {},
     "output_type": "execute_result"
    },
    {
     "data": {
      "image/png": "[encoded data removed]",
      "text/plain": [
       "<Figure size 1152x576 with 1 Axes>"
      ]
     },
     "metadata": {
      "needs_background": "light"
     },
     "output_type": "display_data"
    }
   ],
   "source": [
    "plt.figure(figsize=(16,8))\n",
    "#plot_roc(\"NS\", y_test, y_nn_preds)\n",
    "plot_roc(\"Matrix\", y_test, y_matrix_preds)\n",
    "plot_roc(\"Cosine\", y_test, y_cosine_preds)\n",
    "plt.legend(loc='lower right')"
   ]
  },
  {
   "cell_type": "code",
   "execution_count": 20,
   "metadata": {},
   "outputs": [
    {
     "data": {
      "text/plain": [
       "<matplotlib.legend.Legend at 0x18cb0361120>"
      ]
     },
     "execution_count": 20,
     "metadata": {},
     "output_type": "execute_result"
    },
    {
     "data": {
      "image/png": "[encoded data removed]",
      "text/plain": [
       "<Figure size 1152x576 with 1 Axes>"
      ]
     },
     "metadata": {
      "needs_background": "light"
     },
     "output_type": "display_data"
    }
   ],
   "source": [
    "plt.figure(figsize=(16,8))\n",
    "#plot_roc(\"NS\", y_test, y_nn_preds)\n",
    "plot_roc(\"Matrix\", y_test, y_matrix_preds)\n",
    "plot_roc(\"Cosine\", y_test, y_cosine_preds)\n",
    "plt.legend(loc='lower right')"
   ]
  },
  {
   "cell_type": "code",
   "execution_count": 59,
   "metadata": {},
   "outputs": [
    {
     "data": {
      "text/plain": [
       "<matplotlib.legend.Legend at 0x2299714e290>"
      ]
     },
     "execution_count": 59,
     "metadata": {},
     "output_type": "execute_result"
    },
    {
     "data": {
      "image/png": "[encoded data removed]",
      "text/plain": [
       "<Figure size 1152x576 with 1 Axes>"
      ]
     },
     "metadata": {
      "needs_background": "light"
     },
     "output_type": "display_data"
    }
   ],
   "source": [
    "#plot_roc(\"Train\", train_labels, train_predictions_baseline, color=colors[0])\n",
    "plt.figure(figsize=(16,8))\n",
    "plot_roc(\"NS\", y_test, y_nn_preds.flatten())\n",
    "plot_roc(\"Cosine\", y_test, y_cosine_preds)\n",
    "plt.legend(loc='lower right')"
   ]
  }
 ],
 "metadata": {
  "kernelspec": {
   "display_name": "Python 3",
   "language": "python",
   "name": "python3"
  },
  "language_info": {
   "codemirror_mode": {
    "name": "ipython",
    "version": 3
   },
   "file_extension": ".py",
   "mimetype": "text/x-python",
   "name": "python",
   "nbconvert_exporter": "python",
   "pygments_lexer": "ipython3",
   "version": "3.10.4"
  },
  "orig_nbformat": 4
 },
 "nbformat": 4,
 "nbformat_minor": 2
}
