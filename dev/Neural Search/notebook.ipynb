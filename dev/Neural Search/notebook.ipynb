{
 "cells": [
  {
   "cell_type": "code",
   "execution_count": 2,
   "metadata": {},
   "outputs": [],
   "source": [
    "import torch\n",
    "import tensorflow as tf\n",
    "device = torch.device(\"cuda\" if torch.cuda.is_available() else \"cpu\")\n",
    "# set device\n",
    "torch.cuda.set_device(0)\n",
    "device"
   ]
  },
  {
   "cell_type": "code",
   "execution_count": 3,
   "metadata": {},
   "outputs": [],
   "source": [
    "import numpy as np\n",
    "import pandas as pd\n",
    "import pickle\n",
    "import random\n",
    "seed = 23\n",
    "random.seed(seed)\n",
    "np.random.seed(seed)\n",
    "torch.manual_seed(seed)\n",
    "torch.cuda.manual_seed(seed)\n",
    "torch.manual_seed(seed)\n",
    "torch.cuda.manual_seed(seed)\n",
    "tf.random.set_seed(seed)"
   ]
  },
  {
   "cell_type": "code",
   "execution_count": 4,
   "metadata": {},
   "outputs": [],
   "source": [
    "with open('./data/2450.pkl', 'rb') as f:\n",
    "    df_20 = pickle.load(f)\n",
    "df_20.reset_index(inplace=True)"
   ]
  },
  {
   "cell_type": "code",
   "execution_count": 5,
   "metadata": {},
   "outputs": [
    {
     "name": "stderr",
     "output_type": "stream",
     "text": [
      "c:\\Users\\PC\\miniconda3\\envs\\cuda_env\\lib\\site-packages\\tqdm\\auto.py:21: TqdmWarning: IProgress not found. Please update jupyter and ipywidgets. See https://ipywidgets.readthedocs.io/en/stable/user_install.html\n",
      "  from .autonotebook import tqdm as notebook_tqdm\n"
     ]
    }
   ],
   "source": [
    "from sentence_transformers import SentenceTransformer, util\n",
    "model = SentenceTransformer('sentence-transformers/multi-qa-mpnet-base-dot-v1').to(device)"
   ]
  },
  {
   "cell_type": "code",
   "execution_count": 13,
   "metadata": {},
   "outputs": [
    {
     "data": {
      "text/plain": [
       "array(['What is the purpose of the Introduction to Machine Learning and Data Mining Lecture notes?',\n",
       "       'What is the size of the data matrix X?',\n",
       "       'What is the difference between the dependent variable y in regression and classification?',\n",
       "       ...,\n",
       "       'Who are the authors of the article \"Cluster ensembles—a knowledge reuse framework for combining multiple partitions\" and in which journal was it published?',\n",
       "       'What is the name of the book published by Addison-Wesley in 2013 and what is its ISBN?',\n",
       "       'Who wrote the article \"On the early history of the singular value decomposition\" and in which journal was it published?'],\n",
       "      dtype=object)"
      ]
     },
     "execution_count": 13,
     "metadata": {},
     "output_type": "execute_result"
    }
   ],
   "source": [
    "df_20['question'].unique()"
   ]
  },
  {
   "cell_type": "code",
   "execution_count": 5,
   "metadata": {},
   "outputs": [],
   "source": [
    "# context_embeddings = {ctx: model.encode(ctx) for ctx in df_20['context'].unique()}\n",
    "# question_embeddings = {q: model.encode(q) for q in df_20['question'].unique()}\n",
    "# with open('./Embeddings/2450_context_embeddings_1000.pkl', 'wb') as f:\n",
    "#     f.write(pickle.dumps(context_embeddings))\n",
    "# with open('./Embeddings/2450_question_embeddings.pkl', 'wb') as f:\n",
    "#     f.write(pickle.dumps(question_embeddings))\n",
    "with open('./Embeddings/2450_context_embeddings_1000.pkl', 'rb') as f:\n",
    "    context_embeddings = pickle.loads(f.read())\n",
    "with open('./Embeddings/2450_question_embeddings.pkl', 'rb') as f:\n",
    "    question_embeddings = pickle.loads(f.read())"
   ]
  },
  {
   "cell_type": "code",
   "execution_count": 7,
   "metadata": {},
   "outputs": [
    {
     "data": {
      "text/plain": [
       "3355"
      ]
     },
     "execution_count": 7,
     "metadata": {},
     "output_type": "execute_result"
    }
   ],
   "source": [
    "from collections import defaultdict\n",
    "\n",
    "is_added = defaultdict(lambda: 0)\n",
    "\n",
    "contexts = df_20['context'].unique()\n",
    "data = []\n",
    "\n",
    "for i,row in df_20.iterrows():\n",
    "    if is_added[row['question']]:\n",
    "        continue\n",
    "\n",
    "    dft = pd.DataFrame(columns=['context', 'question', 'label'])\n",
    "    dft['context'] = contexts\n",
    "    dft['question'] = row['question']\n",
    "    dft['label'] = 0\n",
    "\n",
    "    #dft.loc[dft['context']==row['context'],'label'] = 1\n",
    "\n",
    "    for ctx in df_20.loc[df_20['question'] == row['question'],'context']:\n",
    "        # if int(dft.loc[dft['context']==ctx,'label']) == 1:\n",
    "        #     print(\"AASASASSASAS\")\n",
    "        dft.loc[dft['context']==ctx,'label'] = 1\n",
    "\n",
    "    data.append(dft)\n",
    "\n",
    "    is_added[row['question']] = 1\n",
    "df = pd.concat(data, ignore_index=True)\n",
    "sum(df['label'])"
   ]
  },
  {
   "attachments": {},
   "cell_type": "markdown",
   "metadata": {},
   "source": [
    "# Models\n",
    "\n",
    "## Preparing data"
   ]
  },
  {
   "cell_type": "code",
   "execution_count": 8,
   "metadata": {},
   "outputs": [],
   "source": [
    "n_test_q = int(0.25*len(df['question'].unique()))\n",
    "test_q = np.random.choice(df['question'].unique(), n_test_q, replace=False)\n",
    "\n",
    "n_test_ctx = int(0.25*len(df['context'].unique()))\n",
    "test_ctx = np.random.choice(df['context'].unique(), n_test_ctx, replace=False)\n",
    "\n",
    "df_test = df.loc[df['question'].isin(test_q)].loc[df['context'].isin(test_ctx)]\n",
    "df_test.reset_index(inplace=True, drop=True)\n",
    "df_train = df.loc[~df['question'].isin(test_q)].loc[~df['context'].isin(test_ctx)]\n",
    "df_train.reset_index(inplace=True, drop=True)\n",
    "\n",
    "df_test_all_ctx = df.loc[df['question'].isin(test_q)]\n",
    "df_test_all_ctx.reset_index(inplace=True, drop=True)\n",
    "df_train_all_ctx =  df.loc[~df['question'].isin(test_q)]\n",
    "df_train_all_ctx.reset_index(inplace=True, drop=True)"
   ]
  },
  {
   "cell_type": "code",
   "execution_count": 15,
   "metadata": {},
   "outputs": [],
   "source": [
    "X_train = np.array([np.concatenate((context_embeddings[ctx],question_embeddings[q])) for ctx,q in zip(df_train['context'].values, df_train['question'].values)])\n",
    "y_train = np.array([i for i in df_train['label'].values])\n",
    "\n",
    "X_test = np.array([np.concatenate((context_embeddings[ctx],question_embeddings[q])) for ctx,q in zip(df_test['context'].values, df_test['question'].values)])\n",
    "y_test = np.array([i for i in df_test['label'].values])\n",
    "\n",
    "\n",
    "X_train_all_ctx = np.array([np.concatenate((context_embeddings[ctx],question_embeddings[q])) for ctx,q in zip(df_train_all_ctx['context'].values, df_train_all_ctx['question'].values)])\n",
    "y_train_all_ctx = np.array([i for i in df_train_all_ctx['label'].values])\n",
    "\n",
    "X_test_all_ctx = np.array([np.concatenate((context_embeddings[ctx],question_embeddings[q])) for ctx,q in zip(df_test_all_ctx['context'].values, df_test_all_ctx['question'].values)])\n",
    "y_test_all_ctx = np.array([i for i in df_test_all_ctx['label'].values])"
   ]
  },
  {
   "cell_type": "code",
   "execution_count": 16,
   "metadata": {},
   "outputs": [],
   "source": [
    "idx_train = np.random.permutation(len(X_train))\n",
    "X_train = X_train[idx_train]\n",
    "y_train = y_train[idx_train]\n",
    "\n",
    "idx_test = np.random.permutation(len(X_test))\n",
    "X_test = X_test[idx_test]\n",
    "y_test = y_test[idx_test]\n",
    "\n",
    "idx_train_all_ctx = np.random.permutation(len(X_train_all_ctx))\n",
    "X_train_all_ctx = X_train_all_ctx[idx_train_all_ctx]\n",
    "y_train_all_ctx = y_train_all_ctx[idx_train_all_ctx]\n",
    "\n",
    "idx_test_all_ctx = np.random.permutation(len(X_test_all_ctx))\n",
    "X_test_all_ctx = X_test_all_ctx[idx_test_all_ctx]\n",
    "y_test_all_ctx = y_test_all_ctx[idx_test_all_ctx]"
   ]
  },
  {
   "cell_type": "code",
   "execution_count": 11,
   "metadata": {},
   "outputs": [],
   "source": [
    "# # Save the data\n",
    "# data = {}\n",
    "# data['train'] = {}\n",
    "# data['train']['X'] = X_train\n",
    "# data['train']['y'] = y_train\n",
    "# data['test'] = {}\n",
    "# data['test']['X'] = X_test\n",
    "# data['test']['y'] = y_test\n",
    "# data['train_all'] = {}\n",
    "# data ['train_all']['X'] = X_train_all_ctx\n",
    "# data ['train_all']['y'] = y_train_all_ctx\n",
    "# data['test_all'] = {}\n",
    "# data['test_all']['X'] = X_test_all_ctx\n",
    "# data['test_all']['y'] = y_test_all_ctx\n",
    "\n",
    "# with open('./Results/NN/2450_data_1000.pkl', 'wb') as f:\n",
    "#     f.write(pickle.dumps(data))"
   ]
  },
  {
   "cell_type": "code",
   "execution_count": 12,
   "metadata": {},
   "outputs": [],
   "source": [
    "# # load the data\n",
    "# with open('./NN/2450_data.pkl', 'rb') as f:\n",
    "#     data = pickle.loads(f.read())\n",
    "\n",
    "# X_train, y_train = data['train']['X'], data['train']['y']\n",
    "# X_test, y_test = data['test']['X'], data['test']['y']\n",
    "# X_train_all_ctx, y_train_all_ctx = data['train_all']['X'], data['train_all']['y']\n",
    "# X_test_all_ctx, y_test_all_ctx = data['test_all']['X'], data['test_all']['y']"
   ]
  },
  {
   "attachments": {},
   "cell_type": "markdown",
   "metadata": {},
   "source": [
    "### Neural Network"
   ]
  },
  {
   "cell_type": "code",
   "execution_count": 11,
   "metadata": {},
   "outputs": [],
   "source": [
    "from keras.models import Sequential\n",
    "from keras.layers import Dense\n",
    "from keras.models import load_model\n",
    "import matplotlib.pyplot as plt"
   ]
  },
  {
   "cell_type": "code",
   "execution_count": 12,
   "metadata": {},
   "outputs": [],
   "source": [
    "neural_net = Sequential()\n",
    "neural_net.add(Dense(768, input_dim=768*2, activation='relu'))\n",
    "neural_net.add(Dense(384, activation='relu'))\n",
    "#neural_net.add(Dropout(rate=0.2))\n",
    "#neural_net.add(Dense(256, activation='relu'))\n",
    "neural_net.add(Dense(1, activation='sigmoid'))\n",
    "\n",
    "neural_net.compile(loss='binary_crossentropy', optimizer='adam', metrics=['accuracy'])\n",
    "\n",
    "neural_net_g = Sequential()\n",
    "neural_net_g.add(Dense(768, input_dim=768*2, activation='relu'))\n",
    "neural_net_g.add(Dense(384, activation='relu'))\n",
    "neural_net_g.add(Dense(1, activation='sigmoid'))\n",
    "\n",
    "neural_net_g.compile(loss='binary_crossentropy', optimizer='adam', metrics=['accuracy'])\n",
    "\n",
    "\n",
    "neural_net_b = Sequential()\n",
    "neural_net_b.add(Dense(768, input_dim=768*2, activation='relu'))\n",
    "neural_net_b.add(Dense(384, activation='relu'))\n",
    "neural_net_b.add(Dense(1, activation='sigmoid'))\n",
    "\n",
    "neural_net_b.compile(loss='binary_crossentropy', optimizer='adam', metrics=['accuracy'])\n",
    "\n",
    "neural_net_gb = Sequential()\n",
    "neural_net_gb.add(Dense(768, input_dim=768*2, activation='relu'))\n",
    "neural_net_gb.add(Dense(384, activation='relu'))\n",
    "neural_net_gb.add(Dense(1, activation='sigmoid'))\n",
    "\n",
    "neural_net_gb.compile(loss='binary_crossentropy', optimizer='adam', metrics=['accuracy'])"
   ]
  },
  {
   "cell_type": "code",
   "execution_count": 13,
   "metadata": {},
   "outputs": [],
   "source": [
    "import tensorflow as tf\n",
    "class BatchBalancerSequence(tf.keras.utils.Sequence):\n",
    "\n",
    "    def __init__(self, x_set, y_set, batch_size):\n",
    "        self.x_p = x_set[y_set==1]\n",
    "        self.x_n = x_set[y_set==0]\n",
    "        self.batch_size = batch_size\n",
    "        self.batch_size_n = batch_size//2\n",
    "\n",
    "    def __len__(self):\n",
    "        #For each n y=0 we will oversample with n y=1\n",
    "        return int(np.ceil(len(self.x_n)*2 / self.batch_size))\n",
    "\n",
    "    def __getitem__(self, idx):\n",
    "        low = idx * self.batch_size_n\n",
    "        # Cap upper bound at array length; the last batch may be smaller\n",
    "        # if the total number of items is not a multiple of batch size.\n",
    "        high = min(low + self.batch_size_n, len(self.x_n))\n",
    "        batch_x = self.x_n[low:high]\n",
    "        n_neg = len(batch_x)\n",
    "        batch_y = [0]*n_neg\n",
    "        \n",
    "        x_p_idx = np.random.choice(len(self.x_p), n_neg, replace=False)\n",
    "        batch_x = np.concatenate((batch_x, self.x_p[x_p_idx]))\n",
    "        batch_y = np.append(batch_y, [1]*n_neg)\n",
    "\n",
    "        return batch_x, batch_y"
   ]
  },
  {
   "cell_type": "code",
   "execution_count": 17,
   "metadata": {},
   "outputs": [
    {
     "name": "stdout",
     "output_type": "stream",
     "text": [
      "Epoch 1/10\n",
      "26256/26256 [==============================] - 395s 15ms/step - loss: 0.0254 - accuracy: 0.9921\n",
      "Epoch 2/10\n",
      "26256/26256 [==============================] - 432s 16ms/step - loss: 0.0065 - accuracy: 0.9983\n",
      "Epoch 3/10\n",
      "26256/26256 [==============================] - 451s 17ms/step - loss: 0.0041 - accuracy: 0.9989\n",
      "Epoch 4/10\n",
      "26256/26256 [==============================] - 442s 17ms/step - loss: 0.0033 - accuracy: 0.9992\n",
      "Epoch 5/10\n",
      "26256/26256 [==============================] - 443s 17ms/step - loss: 0.0025 - accuracy: 0.9994\n",
      "Epoch 6/10\n",
      "26256/26256 [==============================] - 441s 17ms/step - loss: 0.0023 - accuracy: 0.9995\n",
      "Epoch 7/10\n",
      "26256/26256 [==============================] - 935s 36ms/step - loss: 0.0020 - accuracy: 0.9996\n",
      "Epoch 8/10\n",
      "26256/26256 [==============================] - 975s 37ms/step - loss: 0.0017 - accuracy: 0.9996\n",
      "Epoch 9/10\n",
      "26256/26256 [==============================] - 961s 37ms/step - loss: 0.0013 - accuracy: 0.9997\n",
      "Epoch 10/10\n",
      "26256/26256 [==============================] - 374s 14ms/step - loss: 0.0013 - accuracy: 0.9997\n"
     ]
    },
    {
     "name": "stderr",
     "output_type": "stream",
     "text": [
      "WARNING:absl:Found untraced functions such as _update_step_xla while saving (showing 1 of 1). These functions will not be directly callable after loading.\n"
     ]
    },
    {
     "name": "stdout",
     "output_type": "stream",
     "text": [
      "INFO:tensorflow:Assets written to: ./Results/NN/oversample_all_ctx\\assets\n"
     ]
    },
    {
     "name": "stderr",
     "output_type": "stream",
     "text": [
      "INFO:tensorflow:Assets written to: ./Results/NN/oversample_all_ctx\\assets\n"
     ]
    }
   ],
   "source": [
    "history = neural_net.fit(BatchBalancerSequence(X_train_all_ctx, y_train_all_ctx, 128), epochs=10)\n",
    "neural_net.save('./Results/NN/oversample_all_ctx')"
   ]
  },
  {
   "cell_type": "code",
   "execution_count": null,
   "metadata": {},
   "outputs": [],
   "source": [
    "neural_net = load_model('./Results/NN/oversample_all_ctx')"
   ]
  },
  {
   "cell_type": "code",
   "execution_count": 18,
   "metadata": {},
   "outputs": [
    {
     "name": "stdout",
     "output_type": "stream",
     "text": [
      "Epoch 1/10\n",
      "19722/19722 [==============================] - 379s 19ms/step - loss: 0.0242 - accuracy: 0.9924\n",
      "Epoch 2/10\n",
      "19722/19722 [==============================] - 325s 16ms/step - loss: 0.0064 - accuracy: 0.9983\n",
      "Epoch 3/10\n",
      "19722/19722 [==============================] - 325s 16ms/step - loss: 0.0040 - accuracy: 0.9990\n",
      "Epoch 4/10\n",
      "19722/19722 [==============================] - 339s 17ms/step - loss: 0.0032 - accuracy: 0.9992\n",
      "Epoch 5/10\n",
      "19722/19722 [==============================] - 351s 18ms/step - loss: 0.0027 - accuracy: 0.9994\n",
      "Epoch 6/10\n",
      "19722/19722 [==============================] - 335s 17ms/step - loss: 0.0023 - accuracy: 0.9995\n",
      "Epoch 7/10\n",
      "19722/19722 [==============================] - 334s 17ms/step - loss: 0.0018 - accuracy: 0.9996\n",
      "Epoch 8/10\n",
      "19722/19722 [==============================] - 527s 27ms/step - loss: 0.0015 - accuracy: 0.9996\n",
      "Epoch 9/10\n",
      "19722/19722 [==============================] - 677s 34ms/step - loss: 0.0014 - accuracy: 0.9997\n",
      "Epoch 10/10\n",
      "19722/19722 [==============================] - 289s 15ms/step - loss: 0.0014 - accuracy: 0.9997\n"
     ]
    },
    {
     "name": "stderr",
     "output_type": "stream",
     "text": [
      "WARNING:absl:Found untraced functions such as _update_step_xla while saving (showing 1 of 1). These functions will not be directly callable after loading.\n"
     ]
    },
    {
     "name": "stdout",
     "output_type": "stream",
     "text": [
      "INFO:tensorflow:Assets written to: ./Results/NN/oversample_gen\\assets\n"
     ]
    },
    {
     "name": "stderr",
     "output_type": "stream",
     "text": [
      "INFO:tensorflow:Assets written to: ./Results/NN/oversample_gen\\assets\n"
     ]
    }
   ],
   "source": [
    "history_gen = neural_net_g.fit(BatchBalancerSequence(X_train, y_train, 128), epochs=10)\n",
    "neural_net_g.save('./Results/NN/oversample_gen')"
   ]
  },
  {
   "cell_type": "code",
   "execution_count": 9,
   "metadata": {},
   "outputs": [],
   "source": [
    "neural_net_g = load_model('./Results/NN/oversample_gen')"
   ]
  },
  {
   "cell_type": "code",
   "execution_count": 19,
   "metadata": {},
   "outputs": [
    {
     "name": "stdout",
     "output_type": "stream",
     "text": [
      "Epoch 1/10\n",
      "13148/13148 [==============================] - 235s 18ms/step - loss: 0.0108 - accuracy: 0.9985\n",
      "Epoch 2/10\n",
      "13148/13148 [==============================] - 253s 19ms/step - loss: 0.0086 - accuracy: 0.9985\n",
      "Epoch 3/10\n",
      "13148/13148 [==============================] - 243s 18ms/step - loss: 0.0075 - accuracy: 0.9985\n",
      "Epoch 4/10\n",
      "13148/13148 [==============================] - 233s 18ms/step - loss: 0.0067 - accuracy: 0.9985\n",
      "Epoch 5/10\n",
      "13148/13148 [==============================] - 234s 18ms/step - loss: 0.0061 - accuracy: 0.9985\n",
      "Epoch 6/10\n",
      "13148/13148 [==============================] - 219s 17ms/step - loss: 0.0056 - accuracy: 0.9985\n",
      "Epoch 7/10\n",
      "13148/13148 [==============================] - 230s 17ms/step - loss: 0.0051 - accuracy: 0.9985\n",
      "Epoch 8/10\n",
      "13148/13148 [==============================] - 219s 17ms/step - loss: 0.0046 - accuracy: 0.9986\n",
      "Epoch 9/10\n",
      "13148/13148 [==============================] - 219s 17ms/step - loss: 0.0042 - accuracy: 0.9986\n",
      "Epoch 10/10\n",
      "13148/13148 [==============================] - 221s 17ms/step - loss: 0.0038 - accuracy: 0.9987\n"
     ]
    },
    {
     "name": "stderr",
     "output_type": "stream",
     "text": [
      "WARNING:absl:Found untraced functions such as _update_step_xla while saving (showing 1 of 1). These functions will not be directly callable after loading.\n"
     ]
    },
    {
     "name": "stdout",
     "output_type": "stream",
     "text": [
      "INFO:tensorflow:Assets written to: ./Results/NN/basic_all_ctx\\assets\n"
     ]
    },
    {
     "name": "stderr",
     "output_type": "stream",
     "text": [
      "INFO:tensorflow:Assets written to: ./Results/NN/basic_all_ctx\\assets\n"
     ]
    }
   ],
   "source": [
    "history_basic = neural_net_b.fit(X_train_all_ctx, y_train_all_ctx, batch_size=128, epochs=10)\n",
    "neural_net_b.save('./Results/NN/basic_all_ctx')"
   ]
  },
  {
   "cell_type": "code",
   "execution_count": 10,
   "metadata": {},
   "outputs": [],
   "source": [
    "neural_net_b = load_model('./Results/NN/basic_all_ctx')"
   ]
  },
  {
   "cell_type": "code",
   "execution_count": 20,
   "metadata": {},
   "outputs": [
    {
     "name": "stdout",
     "output_type": "stream",
     "text": [
      "Epoch 1/10\n",
      "9876/9876 [==============================] - 204s 21ms/step - loss: 0.0110 - accuracy: 0.9984\n",
      "Epoch 2/10\n",
      "9876/9876 [==============================] - 168s 17ms/step - loss: 0.0088 - accuracy: 0.9985\n",
      "Epoch 3/10\n",
      "9876/9876 [==============================] - 166s 17ms/step - loss: 0.0078 - accuracy: 0.9985\n",
      "Epoch 4/10\n",
      "9876/9876 [==============================] - 165s 17ms/step - loss: 0.0070 - accuracy: 0.9985\n",
      "Epoch 5/10\n",
      "9876/9876 [==============================] - 164s 17ms/step - loss: 0.0063 - accuracy: 0.9985\n",
      "Epoch 6/10\n",
      "9876/9876 [==============================] - 165s 17ms/step - loss: 0.0057 - accuracy: 0.9985\n",
      "Epoch 7/10\n",
      "9876/9876 [==============================] - 178s 18ms/step - loss: 0.0052 - accuracy: 0.9986\n",
      "Epoch 8/10\n",
      "9876/9876 [==============================] - 166s 17ms/step - loss: 0.0047 - accuracy: 0.9986\n",
      "Epoch 9/10\n",
      "9876/9876 [==============================] - 165s 17ms/step - loss: 0.0043 - accuracy: 0.9987\n",
      "Epoch 10/10\n",
      "9876/9876 [==============================] - 166s 17ms/step - loss: 0.0039 - accuracy: 0.9988\n"
     ]
    },
    {
     "name": "stderr",
     "output_type": "stream",
     "text": [
      "WARNING:absl:Found untraced functions such as _update_step_xla while saving (showing 1 of 1). These functions will not be directly callable after loading.\n"
     ]
    },
    {
     "name": "stdout",
     "output_type": "stream",
     "text": [
      "INFO:tensorflow:Assets written to: ./Results/NN/basic_gen\\assets\n"
     ]
    },
    {
     "name": "stderr",
     "output_type": "stream",
     "text": [
      "INFO:tensorflow:Assets written to: ./Results/NN/basic_gen\\assets\n"
     ]
    }
   ],
   "source": [
    "history_gen_basic = neural_net_gb.fit(X_train, y_train, batch_size=128, epochs=10)\n",
    "neural_net_gb.save('./Results/NN/basic_gen')"
   ]
  },
  {
   "cell_type": "code",
   "execution_count": 11,
   "metadata": {},
   "outputs": [],
   "source": [
    "neural_net_gb = load_model('./Results/NN/basic_gen')"
   ]
  },
  {
   "cell_type": "code",
   "execution_count": 24,
   "metadata": {},
   "outputs": [
    {
     "data": {
      "text/plain": [
       "[<matplotlib.lines.Line2D at 0x1cbd37284f0>]"
      ]
     },
     "execution_count": 24,
     "metadata": {},
     "output_type": "execute_result"
    },
    {
     "data": {
      "image/png": "[encoded data removed]",
      "text/plain": [
       "<Figure size 640x480 with 1 Axes>"
      ]
     },
     "metadata": {},
     "output_type": "display_data"
    }
   ],
   "source": [
    "plt.plot(history.history['loss'])"
   ]
  },
  {
   "cell_type": "code",
   "execution_count": 25,
   "metadata": {},
   "outputs": [
    {
     "data": {
      "text/plain": [
       "[<matplotlib.lines.Line2D at 0x1cbd7770940>]"
      ]
     },
     "execution_count": 25,
     "metadata": {},
     "output_type": "execute_result"
    },
    {
     "data": {
      "image/png": "[encoded data removed]",
      "text/plain": [
       "<Figure size 640x480 with 1 Axes>"
      ]
     },
     "metadata": {},
     "output_type": "display_data"
    }
   ],
   "source": [
    "plt.plot(history.history['accuracy'])"
   ]
  },
  {
   "attachments": {},
   "cell_type": "markdown",
   "metadata": {},
   "source": [
    "#### Croos validation"
   ]
  },
  {
   "cell_type": "code",
   "execution_count": 16,
   "metadata": {},
   "outputs": [
    {
     "ename": "AttributeError",
     "evalue": "'Sequential' object has no attribute 'cuda'",
     "output_type": "error",
     "traceback": [
      "\u001b[1;31m---------------------------------------------------------------------------\u001b[0m",
      "\u001b[1;31mAttributeError\u001b[0m                            Traceback (most recent call last)",
      "Cell \u001b[1;32mIn[16], line 6\u001b[0m\n\u001b[0;32m      4\u001b[0m neural_net1\u001b[39m.\u001b[39madd(Dense(\u001b[39m1\u001b[39m, activation\u001b[39m=\u001b[39m\u001b[39m'\u001b[39m\u001b[39msigmoid\u001b[39m\u001b[39m'\u001b[39m))\n\u001b[0;32m      5\u001b[0m neural_net1\u001b[39m.\u001b[39mcompile(loss\u001b[39m=\u001b[39m\u001b[39m'\u001b[39m\u001b[39mbinary_crossentropy\u001b[39m\u001b[39m'\u001b[39m, optimizer\u001b[39m=\u001b[39m\u001b[39m'\u001b[39m\u001b[39madam\u001b[39m\u001b[39m'\u001b[39m, metrics\u001b[39m=\u001b[39m[\u001b[39m'\u001b[39m\u001b[39maccuracy\u001b[39m\u001b[39m'\u001b[39m])\n\u001b[1;32m----> 6\u001b[0m neural_net1\u001b[39m.\u001b[39;49mcuda()\n\u001b[0;32m      8\u001b[0m neural_net2 \u001b[39m=\u001b[39m Sequential()\n\u001b[0;32m      9\u001b[0m neural_net2\u001b[39m.\u001b[39madd(Dense(\u001b[39m768\u001b[39m\u001b[39m*\u001b[39m\u001b[39m3\u001b[39m, input_dim\u001b[39m=\u001b[39m\u001b[39m768\u001b[39m\u001b[39m*\u001b[39m\u001b[39m2\u001b[39m, activation\u001b[39m=\u001b[39m\u001b[39m'\u001b[39m\u001b[39mrelu\u001b[39m\u001b[39m'\u001b[39m))\n",
      "\u001b[1;31mAttributeError\u001b[0m: 'Sequential' object has no attribute 'cuda'"
     ]
    }
   ],
   "source": [
    "neural_net1 = Sequential()\n",
    "neural_net1.add(Dense(768, input_dim=768*2, activation='relu'))\n",
    "neural_net1.add(Dense(768/2, activation='relu'))\n",
    "neural_net1.add(Dense(1, activation='sigmoid'))\n",
    "neural_net1.compile(loss='binary_crossentropy', optimizer='adam', metrics=['accuracy'])\n",
    "neural_net1.cuda()\n",
    "\n",
    "neural_net2 = Sequential()\n",
    "neural_net2.add(Dense(768*3, input_dim=768*2, activation='relu'))\n",
    "neural_net2.add(Dense(768*3/2, activation='relu'))\n",
    "neural_net2.add(Dense(1, activation='sigmoid'))\n",
    "neural_net2.compile(loss='binary_crossentropy', optimizer='adam', metrics=['accuracy'])\n",
    "\n",
    "neural_net3 = Sequential()\n",
    "neural_net3.add(Dense(768, input_dim=768*2, activation='relu'))\n",
    "neural_net3.add(Dense(768+768/2, activation='relu'))\n",
    "neural_net3.add(Dense(1, activation='sigmoid'))\n",
    "neural_net3.compile(loss='binary_crossentropy', optimizer='adam', metrics=['accuracy'])"
   ]
  },
  {
   "cell_type": "code",
   "execution_count": 10,
   "metadata": {},
   "outputs": [],
   "source": [
    "X_all = np.array([np.concatenate((context_embeddings[ctx],question_embeddings[q])) for ctx,q in zip(df['context'].values, df['question'].values)])\n",
    "y_all = np.array([i for i in df['label'].values])\n",
    "\n",
    "q_u = df['question'].unique()"
   ]
  },
  {
   "cell_type": "code",
   "execution_count": 13,
   "metadata": {},
   "outputs": [
    {
     "name": "stdout",
     "output_type": "stream",
     "text": [
      "Cross-validation fold: 1/5\n",
      "Epoch 1/10\n",
      "28004/28004 [==============================] - 260s 9ms/step - loss: 0.0510 - accuracy: 0.9810\n",
      "Epoch 2/10\n",
      "28004/28004 [==============================] - 252s 9ms/step - loss: 0.0083 - accuracy: 0.9978\n",
      "Epoch 3/10\n",
      "28004/28004 [==============================] - 257s 9ms/step - loss: 0.0047 - accuracy: 0.9988\n",
      "Epoch 4/10\n",
      "28004/28004 [==============================] - 249s 9ms/step - loss: 0.0032 - accuracy: 0.9992\n",
      "Epoch 5/10\n",
      "28004/28004 [==============================] - 250s 9ms/step - loss: 0.0024 - accuracy: 0.9994\n",
      "Epoch 6/10\n",
      "28004/28004 [==============================] - 247s 9ms/step - loss: 0.0019 - accuracy: 0.9995\n",
      "Epoch 7/10\n",
      "28004/28004 [==============================] - 249s 9ms/step - loss: 0.0017 - accuracy: 0.9996\n",
      "Epoch 8/10\n",
      "28004/28004 [==============================] - 252s 9ms/step - loss: 0.0014 - accuracy: 0.9997\n",
      "Epoch 9/10\n",
      "28004/28004 [==============================] - 252s 9ms/step - loss: 0.0013 - accuracy: 0.9997\n",
      "Epoch 10/10\n",
      "28004/28004 [==============================] - 262s 9ms/step - loss: 0.0011 - accuracy: 0.9997\n",
      "14029/14029 [==============================] - 26s 2ms/step - loss: 0.0312 - accuracy: 0.9979\n",
      "Epoch 1/10\n",
      "28004/28004 [==============================] - 1025s 37ms/step - loss: 0.0501 - accuracy: 0.9812\n",
      "Epoch 2/10\n",
      "28004/28004 [==============================] - 1032s 37ms/step - loss: 0.0079 - accuracy: 0.9979\n",
      "Epoch 3/10\n",
      "28004/28004 [==============================] - 1033s 37ms/step - loss: 0.0045 - accuracy: 0.9988\n",
      "Epoch 4/10\n",
      "21254/28004 [=====================>........] - ETA: 4:04 - loss: 0.0031 - accuracy: 0.9992"
     ]
    },
    {
     "ename": "KeyboardInterrupt",
     "evalue": "",
     "output_type": "error",
     "traceback": [
      "\u001b[1;31m---------------------------------------------------------------------------\u001b[0m",
      "\u001b[1;31mKeyboardInterrupt\u001b[0m                         Traceback (most recent call last)",
      "Cell \u001b[1;32mIn[13], line 26\u001b[0m\n\u001b[0;32m     24\u001b[0m eval1 \u001b[39m=\u001b[39m neural_net1\u001b[39m.\u001b[39mevaluate(X_test_cv, y_test_cv)\n\u001b[0;32m     25\u001b[0m errors[k, \u001b[39m0\u001b[39m], acc[k, \u001b[39m0\u001b[39m] \u001b[39m=\u001b[39m eval1[\u001b[39m0\u001b[39m], eval1[\u001b[39m1\u001b[39m]\n\u001b[1;32m---> 26\u001b[0m neural_net2\u001b[39m.\u001b[39;49mfit(BatchBalancerSequence(X_train_cv, y_train_cv, \u001b[39m128\u001b[39;49m), epochs\u001b[39m=\u001b[39;49m\u001b[39m10\u001b[39;49m)\n\u001b[0;32m     27\u001b[0m eval2 \u001b[39m=\u001b[39m neural_net2\u001b[39m.\u001b[39mevaluate(X_test_cv, y_test_cv)\n\u001b[0;32m     28\u001b[0m errors[k, \u001b[39m1\u001b[39m], acc[k, \u001b[39m1\u001b[39m] \u001b[39m=\u001b[39m eval2[\u001b[39m0\u001b[39m], eval2[\u001b[39m1\u001b[39m]\n",
      "File \u001b[1;32mc:\\Users\\PC\\miniconda3\\envs\\cuda_env\\lib\\site-packages\\keras\\utils\\traceback_utils.py:65\u001b[0m, in \u001b[0;36mfilter_traceback.<locals>.error_handler\u001b[1;34m(*args, **kwargs)\u001b[0m\n\u001b[0;32m     63\u001b[0m filtered_tb \u001b[39m=\u001b[39m \u001b[39mNone\u001b[39;00m\n\u001b[0;32m     64\u001b[0m \u001b[39mtry\u001b[39;00m:\n\u001b[1;32m---> 65\u001b[0m     \u001b[39mreturn\u001b[39;00m fn(\u001b[39m*\u001b[39margs, \u001b[39m*\u001b[39m\u001b[39m*\u001b[39mkwargs)\n\u001b[0;32m     66\u001b[0m \u001b[39mexcept\u001b[39;00m \u001b[39mException\u001b[39;00m \u001b[39mas\u001b[39;00m e:\n\u001b[0;32m     67\u001b[0m     filtered_tb \u001b[39m=\u001b[39m _process_traceback_frames(e\u001b[39m.\u001b[39m__traceback__)\n",
      "File \u001b[1;32mc:\\Users\\PC\\miniconda3\\envs\\cuda_env\\lib\\site-packages\\keras\\engine\\training.py:1564\u001b[0m, in \u001b[0;36mModel.fit\u001b[1;34m(self, x, y, batch_size, epochs, verbose, callbacks, validation_split, validation_data, shuffle, class_weight, sample_weight, initial_epoch, steps_per_epoch, validation_steps, validation_batch_size, validation_freq, max_queue_size, workers, use_multiprocessing)\u001b[0m\n\u001b[0;32m   1556\u001b[0m \u001b[39mwith\u001b[39;00m tf\u001b[39m.\u001b[39mprofiler\u001b[39m.\u001b[39mexperimental\u001b[39m.\u001b[39mTrace(\n\u001b[0;32m   1557\u001b[0m     \u001b[39m\"\u001b[39m\u001b[39mtrain\u001b[39m\u001b[39m\"\u001b[39m,\n\u001b[0;32m   1558\u001b[0m     epoch_num\u001b[39m=\u001b[39mepoch,\n\u001b[1;32m   (...)\u001b[0m\n\u001b[0;32m   1561\u001b[0m     _r\u001b[39m=\u001b[39m\u001b[39m1\u001b[39m,\n\u001b[0;32m   1562\u001b[0m ):\n\u001b[0;32m   1563\u001b[0m     callbacks\u001b[39m.\u001b[39mon_train_batch_begin(step)\n\u001b[1;32m-> 1564\u001b[0m     tmp_logs \u001b[39m=\u001b[39m \u001b[39mself\u001b[39;49m\u001b[39m.\u001b[39;49mtrain_function(iterator)\n\u001b[0;32m   1565\u001b[0m     \u001b[39mif\u001b[39;00m data_handler\u001b[39m.\u001b[39mshould_sync:\n\u001b[0;32m   1566\u001b[0m         context\u001b[39m.\u001b[39masync_wait()\n",
      "File \u001b[1;32mc:\\Users\\PC\\miniconda3\\envs\\cuda_env\\lib\\site-packages\\tensorflow\\python\\util\\traceback_utils.py:150\u001b[0m, in \u001b[0;36mfilter_traceback.<locals>.error_handler\u001b[1;34m(*args, **kwargs)\u001b[0m\n\u001b[0;32m    148\u001b[0m filtered_tb \u001b[39m=\u001b[39m \u001b[39mNone\u001b[39;00m\n\u001b[0;32m    149\u001b[0m \u001b[39mtry\u001b[39;00m:\n\u001b[1;32m--> 150\u001b[0m   \u001b[39mreturn\u001b[39;00m fn(\u001b[39m*\u001b[39margs, \u001b[39m*\u001b[39m\u001b[39m*\u001b[39mkwargs)\n\u001b[0;32m    151\u001b[0m \u001b[39mexcept\u001b[39;00m \u001b[39mException\u001b[39;00m \u001b[39mas\u001b[39;00m e:\n\u001b[0;32m    152\u001b[0m   filtered_tb \u001b[39m=\u001b[39m _process_traceback_frames(e\u001b[39m.\u001b[39m__traceback__)\n",
      "File \u001b[1;32mc:\\Users\\PC\\miniconda3\\envs\\cuda_env\\lib\\site-packages\\tensorflow\\python\\eager\\def_function.py:915\u001b[0m, in \u001b[0;36mFunction.__call__\u001b[1;34m(self, *args, **kwds)\u001b[0m\n\u001b[0;32m    912\u001b[0m compiler \u001b[39m=\u001b[39m \u001b[39m\"\u001b[39m\u001b[39mxla\u001b[39m\u001b[39m\"\u001b[39m \u001b[39mif\u001b[39;00m \u001b[39mself\u001b[39m\u001b[39m.\u001b[39m_jit_compile \u001b[39melse\u001b[39;00m \u001b[39m\"\u001b[39m\u001b[39mnonXla\u001b[39m\u001b[39m\"\u001b[39m\n\u001b[0;32m    914\u001b[0m \u001b[39mwith\u001b[39;00m OptionalXlaContext(\u001b[39mself\u001b[39m\u001b[39m.\u001b[39m_jit_compile):\n\u001b[1;32m--> 915\u001b[0m   result \u001b[39m=\u001b[39m \u001b[39mself\u001b[39m\u001b[39m.\u001b[39m_call(\u001b[39m*\u001b[39margs, \u001b[39m*\u001b[39m\u001b[39m*\u001b[39mkwds)\n\u001b[0;32m    917\u001b[0m new_tracing_count \u001b[39m=\u001b[39m \u001b[39mself\u001b[39m\u001b[39m.\u001b[39mexperimental_get_tracing_count()\n\u001b[0;32m    918\u001b[0m without_tracing \u001b[39m=\u001b[39m (tracing_count \u001b[39m==\u001b[39m new_tracing_count)\n",
      "File \u001b[1;32mc:\\Users\\PC\\miniconda3\\envs\\cuda_env\\lib\\site-packages\\tensorflow\\python\\eager\\def_function.py:947\u001b[0m, in \u001b[0;36mFunction._call\u001b[1;34m(self, *args, **kwds)\u001b[0m\n\u001b[0;32m    944\u001b[0m   \u001b[39mself\u001b[39m\u001b[39m.\u001b[39m_lock\u001b[39m.\u001b[39mrelease()\n\u001b[0;32m    945\u001b[0m   \u001b[39m# In this case we have created variables on the first call, so we run the\u001b[39;00m\n\u001b[0;32m    946\u001b[0m   \u001b[39m# defunned version which is guaranteed to never create variables.\u001b[39;00m\n\u001b[1;32m--> 947\u001b[0m   \u001b[39mreturn\u001b[39;00m \u001b[39mself\u001b[39m\u001b[39m.\u001b[39m_stateless_fn(\u001b[39m*\u001b[39margs, \u001b[39m*\u001b[39m\u001b[39m*\u001b[39mkwds)  \u001b[39m# pylint: disable=not-callable\u001b[39;00m\n\u001b[0;32m    948\u001b[0m \u001b[39melif\u001b[39;00m \u001b[39mself\u001b[39m\u001b[39m.\u001b[39m_stateful_fn \u001b[39mis\u001b[39;00m \u001b[39mnot\u001b[39;00m \u001b[39mNone\u001b[39;00m:\n\u001b[0;32m    949\u001b[0m   \u001b[39m# Release the lock early so that multiple threads can perform the call\u001b[39;00m\n\u001b[0;32m    950\u001b[0m   \u001b[39m# in parallel.\u001b[39;00m\n\u001b[0;32m    951\u001b[0m   \u001b[39mself\u001b[39m\u001b[39m.\u001b[39m_lock\u001b[39m.\u001b[39mrelease()\n",
      "File \u001b[1;32mc:\\Users\\PC\\miniconda3\\envs\\cuda_env\\lib\\site-packages\\tensorflow\\python\\eager\\function.py:2496\u001b[0m, in \u001b[0;36mFunction.__call__\u001b[1;34m(self, *args, **kwargs)\u001b[0m\n\u001b[0;32m   2493\u001b[0m \u001b[39mwith\u001b[39;00m \u001b[39mself\u001b[39m\u001b[39m.\u001b[39m_lock:\n\u001b[0;32m   2494\u001b[0m   (graph_function,\n\u001b[0;32m   2495\u001b[0m    filtered_flat_args) \u001b[39m=\u001b[39m \u001b[39mself\u001b[39m\u001b[39m.\u001b[39m_maybe_define_function(args, kwargs)\n\u001b[1;32m-> 2496\u001b[0m \u001b[39mreturn\u001b[39;00m graph_function\u001b[39m.\u001b[39;49m_call_flat(\n\u001b[0;32m   2497\u001b[0m     filtered_flat_args, captured_inputs\u001b[39m=\u001b[39;49mgraph_function\u001b[39m.\u001b[39;49mcaptured_inputs)\n",
      "File \u001b[1;32mc:\\Users\\PC\\miniconda3\\envs\\cuda_env\\lib\\site-packages\\tensorflow\\python\\eager\\function.py:1862\u001b[0m, in \u001b[0;36mConcreteFunction._call_flat\u001b[1;34m(self, args, captured_inputs, cancellation_manager)\u001b[0m\n\u001b[0;32m   1858\u001b[0m possible_gradient_type \u001b[39m=\u001b[39m gradients_util\u001b[39m.\u001b[39mPossibleTapeGradientTypes(args)\n\u001b[0;32m   1859\u001b[0m \u001b[39mif\u001b[39;00m (possible_gradient_type \u001b[39m==\u001b[39m gradients_util\u001b[39m.\u001b[39mPOSSIBLE_GRADIENT_TYPES_NONE\n\u001b[0;32m   1860\u001b[0m     \u001b[39mand\u001b[39;00m executing_eagerly):\n\u001b[0;32m   1861\u001b[0m   \u001b[39m# No tape is watching; skip to running the function.\u001b[39;00m\n\u001b[1;32m-> 1862\u001b[0m   \u001b[39mreturn\u001b[39;00m \u001b[39mself\u001b[39m\u001b[39m.\u001b[39m_build_call_outputs(\u001b[39mself\u001b[39;49m\u001b[39m.\u001b[39;49m_inference_function\u001b[39m.\u001b[39;49mcall(\n\u001b[0;32m   1863\u001b[0m       ctx, args, cancellation_manager\u001b[39m=\u001b[39;49mcancellation_manager))\n\u001b[0;32m   1864\u001b[0m forward_backward \u001b[39m=\u001b[39m \u001b[39mself\u001b[39m\u001b[39m.\u001b[39m_select_forward_and_backward_functions(\n\u001b[0;32m   1865\u001b[0m     args,\n\u001b[0;32m   1866\u001b[0m     possible_gradient_type,\n\u001b[0;32m   1867\u001b[0m     executing_eagerly)\n\u001b[0;32m   1868\u001b[0m forward_function, args_with_tangents \u001b[39m=\u001b[39m forward_backward\u001b[39m.\u001b[39mforward()\n",
      "File \u001b[1;32mc:\\Users\\PC\\miniconda3\\envs\\cuda_env\\lib\\site-packages\\tensorflow\\python\\eager\\function.py:499\u001b[0m, in \u001b[0;36m_EagerDefinedFunction.call\u001b[1;34m(self, ctx, args, cancellation_manager)\u001b[0m\n\u001b[0;32m    497\u001b[0m \u001b[39mwith\u001b[39;00m _InterpolateFunctionError(\u001b[39mself\u001b[39m):\n\u001b[0;32m    498\u001b[0m   \u001b[39mif\u001b[39;00m cancellation_manager \u001b[39mis\u001b[39;00m \u001b[39mNone\u001b[39;00m:\n\u001b[1;32m--> 499\u001b[0m     outputs \u001b[39m=\u001b[39m execute\u001b[39m.\u001b[39;49mexecute(\n\u001b[0;32m    500\u001b[0m         \u001b[39mstr\u001b[39;49m(\u001b[39mself\u001b[39;49m\u001b[39m.\u001b[39;49msignature\u001b[39m.\u001b[39;49mname),\n\u001b[0;32m    501\u001b[0m         num_outputs\u001b[39m=\u001b[39;49m\u001b[39mself\u001b[39;49m\u001b[39m.\u001b[39;49m_num_outputs,\n\u001b[0;32m    502\u001b[0m         inputs\u001b[39m=\u001b[39;49margs,\n\u001b[0;32m    503\u001b[0m         attrs\u001b[39m=\u001b[39;49mattrs,\n\u001b[0;32m    504\u001b[0m         ctx\u001b[39m=\u001b[39;49mctx)\n\u001b[0;32m    505\u001b[0m   \u001b[39melse\u001b[39;00m:\n\u001b[0;32m    506\u001b[0m     outputs \u001b[39m=\u001b[39m execute\u001b[39m.\u001b[39mexecute_with_cancellation(\n\u001b[0;32m    507\u001b[0m         \u001b[39mstr\u001b[39m(\u001b[39mself\u001b[39m\u001b[39m.\u001b[39msignature\u001b[39m.\u001b[39mname),\n\u001b[0;32m    508\u001b[0m         num_outputs\u001b[39m=\u001b[39m\u001b[39mself\u001b[39m\u001b[39m.\u001b[39m_num_outputs,\n\u001b[1;32m   (...)\u001b[0m\n\u001b[0;32m    511\u001b[0m         ctx\u001b[39m=\u001b[39mctx,\n\u001b[0;32m    512\u001b[0m         cancellation_manager\u001b[39m=\u001b[39mcancellation_manager)\n",
      "File \u001b[1;32mc:\\Users\\PC\\miniconda3\\envs\\cuda_env\\lib\\site-packages\\tensorflow\\python\\eager\\execute.py:54\u001b[0m, in \u001b[0;36mquick_execute\u001b[1;34m(op_name, num_outputs, inputs, attrs, ctx, name)\u001b[0m\n\u001b[0;32m     52\u001b[0m \u001b[39mtry\u001b[39;00m:\n\u001b[0;32m     53\u001b[0m   ctx\u001b[39m.\u001b[39mensure_initialized()\n\u001b[1;32m---> 54\u001b[0m   tensors \u001b[39m=\u001b[39m pywrap_tfe\u001b[39m.\u001b[39;49mTFE_Py_Execute(ctx\u001b[39m.\u001b[39;49m_handle, device_name, op_name,\n\u001b[0;32m     55\u001b[0m                                       inputs, attrs, num_outputs)\n\u001b[0;32m     56\u001b[0m \u001b[39mexcept\u001b[39;00m core\u001b[39m.\u001b[39m_NotOkStatusException \u001b[39mas\u001b[39;00m e:\n\u001b[0;32m     57\u001b[0m   \u001b[39mif\u001b[39;00m name \u001b[39mis\u001b[39;00m \u001b[39mnot\u001b[39;00m \u001b[39mNone\u001b[39;00m:\n",
      "\u001b[1;31mKeyboardInterrupt\u001b[0m: "
     ]
    }
   ],
   "source": [
    "from sklearn import model_selection\n",
    "K = 5\n",
    "CV = model_selection.KFold(n_splits=K, shuffle=True, random_state=42)\n",
    "k = 0\n",
    "errors = np.empty((K,3))\n",
    "acc = np.empty((K,3))\n",
    "\n",
    "for train_idx, test_idx in CV.split(q_u):\n",
    "    print('Cross-validation fold: {0}/{1}'.format(k+1, K))\n",
    "\n",
    "    q_train = q_u[train_idx]\n",
    "    q_test = q_u[test_idx]\n",
    "\n",
    "    df_ques_train = df[df['question'].isin(q_train)]\n",
    "\n",
    "    X_train_cv = np.array([np.concatenate((context_embeddings[ctx],question_embeddings[q])) for ctx,q in zip(df_ques_train['context'].values, df_ques_train['question'].values)])\n",
    "    y_train_cv = np.array([i for i in df_ques_train['label'].values])\n",
    "\n",
    "    df_ques_test = df[df['question'].isin(q_test)]\n",
    "    X_test_cv = np.array([np.concatenate((context_embeddings[ctx],question_embeddings[q])) for ctx,q in zip(df_ques_test['context'].values, df_ques_test['question'].values)])\n",
    "    y_test_cv = np.array([i for i in df_ques_test['label'].values])\n",
    "\n",
    "    neural_net1.fit(BatchBalancerSequence(X_train_cv, y_train_cv, 128), epochs=10)\n",
    "    eval1 = neural_net1.evaluate(X_test_cv, y_test_cv)\n",
    "    errors[k, 0], acc[k, 0] = eval1[0], eval1[1]\n",
    "    neural_net2.fit(BatchBalancerSequence(X_train_cv, y_train_cv, 128), epochs=10)\n",
    "    eval2 = neural_net2.evaluate(X_test_cv, y_test_cv)\n",
    "    errors[k, 1], acc[k, 1] = eval2[0], eval2[1]\n",
    "    neural_net3.fit(BatchBalancerSequence(X_train_cv, y_train_cv, 128), epochs=10)\n",
    "    eval3 = neural_net3.evaluate(X_test_cv, y_test_cv)\n",
    "    errors[k, 2], acc[k, 2] = eval3[0], eval3[1]\n",
    "    \n",
    "    k += 1"
   ]
  },
  {
   "cell_type": "code",
   "execution_count": null,
   "metadata": {},
   "outputs": [],
   "source": [
    "with open('./data/nn_errors.pkl', 'wb') as f:\n",
    "    f.write(pickle.dumps(errors))\n",
    "with open('./data/nn_acc.pkl', 'wb') as f:\n",
    "    f.write(pickle.dumps(acc))\n",
    "\n",
    "# with open('./data/nn_acc.pkl', 'rb') as f:\n",
    "#     acc = pickle.loads(f.read())\n",
    "# with open('./data/nn_errors.pkl', 'rb') as f:\n",
    "#     errors = pickle.loads(f.read())"
   ]
  },
  {
   "cell_type": "code",
   "execution_count": null,
   "metadata": {},
   "outputs": [
    {
     "data": {
      "text/plain": [
       "array([[6.86854944e-002, 7.59169906e-002, 5.24166562e-002],\n",
       "       [7.01776939e-003, 7.02429237e-003, 1.26838032e-002],\n",
       "       [2.48478190e-003, 3.16644879e-003, 6.08132966e-003],\n",
       "       [2.25971616e-003, 1.87655864e-003, 4.12425771e-003],\n",
       "       [            nan, 3.51274184e-315, 4.45854211e-316]])"
      ]
     },
     "execution_count": 10,
     "metadata": {},
     "output_type": "execute_result"
    }
   ],
   "source": [
    "errors"
   ]
  },
  {
   "cell_type": "code",
   "execution_count": null,
   "metadata": {},
   "outputs": [
    {
     "data": {
      "text/plain": [
       "array([[0.99423379, 0.99432266, 0.99301934],\n",
       "       [0.99860781, 0.99847949, 0.99751186],\n",
       "       [0.99932861, 0.9991706 , 0.99882501],\n",
       "       [0.99943721, 0.99957544, 0.99914098],\n",
       "       [0.        , 0.        , 0.        ]])"
      ]
     },
     "execution_count": 11,
     "metadata": {},
     "output_type": "execute_result"
    }
   ],
   "source": [
    "acc"
   ]
  },
  {
   "cell_type": "code",
   "execution_count": null,
   "metadata": {},
   "outputs": [],
   "source": [
    "errors = errors[:4]\n",
    "acc = acc[:4]"
   ]
  },
  {
   "cell_type": "code",
   "execution_count": null,
   "metadata": {},
   "outputs": [
    {
     "name": "stdout",
     "output_type": "stream",
     "text": [
      "The optimal model structure is model 3, which has a test error of 0.018826511688530445\n",
      "The optimal model structure is model 1, which has a test accuracy of 0.9979018568992615\n"
     ]
    }
   ],
   "source": [
    "e_gen = np.mean(errors, axis=0)\n",
    "opt_model_e = np.argmin(e_gen)\n",
    "print(f\"The optimal model structure is model {opt_model_e+1}, which has a test error of {e_gen[opt_model_e]}\")\n",
    "\n",
    "a_gen = np.mean(acc, axis=0)\n",
    "opt_model_a = np.argmax(a_gen)\n",
    "print(f\"The optimal model structure is model {opt_model_a+1}, which has a test accuracy of {a_gen[opt_model_a]}\")"
   ]
  },
  {
   "attachments": {},
   "cell_type": "markdown",
   "metadata": {},
   "source": [
    "### Matrix model"
   ]
  },
  {
   "cell_type": "code",
   "execution_count": 33,
   "metadata": {},
   "outputs": [
    {
     "name": "stderr",
     "output_type": "stream",
     "text": [
      "100%|██████████| 44520/44520 [17:24<00:00, 42.64it/s]\n"
     ]
    }
   ],
   "source": [
    "# import tensorflow as tf\n",
    "# from tqdm import tqdm\n",
    "\n",
    "# learning_rate = 0.025\n",
    "# loss_list = []\n",
    "\n",
    "# T = tf.Variable(np.ones(X_train.shape[1]//2))\n",
    "\n",
    "# len_train = X_train.shape[0]\n",
    "\n",
    "# optimizer = tf.keras.optimizers.SGD(learning_rate=learning_rate)\n",
    "\n",
    "\n",
    "# batch_size = 128\n",
    "# itt = int(np.ceil(len_train/batch_size))\n",
    "\n",
    "# n_epochs = 20\n",
    "\n",
    "# with tqdm(total=itt*n_epochs) as pbar:\n",
    "#     for _ in range(n_epochs):\n",
    "#         for i in range(1,itt+1):\n",
    "#             low = (i-1)*batch_size\n",
    "#             high = min(i*batch_size, len_train)\n",
    "\n",
    "#             a = X_train[low:high,:1536//2]\n",
    "#             b = X_train[low:high,1536//2:]\n",
    "\n",
    "#             y_true = y_train[low:high]\n",
    "            \n",
    "#             with tf.GradientTape() as tape:\n",
    "#                 tape.watch(T)  # Watch the variable T for gradient computation\n",
    "#                 W = tf.exp(1/2*T)\n",
    "#                 y_preds = (tf.math.reduce_sum((a*W)*(b*W), axis=1))/(tf.math.reduce_euclidean_norm(a*W, axis=1)*tf.math.reduce_euclidean_norm(b*W, axis=1))\n",
    "#                 loss = tf.math.reduce_mean(tf.square(y_true - y_preds))\n",
    "\n",
    "#             gradients = tape.gradient(loss, T)\n",
    "#             optimizer.apply_gradients([(gradients, T)])\n",
    "#             loss_list.append(loss)\n",
    "#             pbar.update(1)"
   ]
  },
  {
   "cell_type": "code",
   "execution_count": 37,
   "metadata": {},
   "outputs": [
    {
     "name": "stderr",
     "output_type": "stream",
     "text": [
      "100%|██████████| 58980/58980 [10:18<00:00, 95.41it/s] \n"
     ]
    }
   ],
   "source": [
    "# import tensorflow as tf\n",
    "# from tqdm import tqdm\n",
    "\n",
    "# learning_rate = 0.05\n",
    "# loss_list = []\n",
    "\n",
    "# T = tf.Variable(np.ones(X_train_all_ctx.shape[1]//2))\n",
    "\n",
    "# len_train_n = X_train_all_ctx.shape[0]\n",
    "\n",
    "# optimizer = tf.keras.optimizers.SGD(learning_rate=learning_rate)\n",
    "\n",
    "\n",
    "# batch_size = 128\n",
    "\n",
    "# n_epochs = 10\n",
    "\n",
    "# X_train_all_ctx_p = X_train_all_ctx[y_train_all_ctx==1]\n",
    "# X_train_all_ctx_n = X_train_all_ctx[y_train_all_ctx==0]\n",
    "\n",
    "# batch_size_n = batch_size//2\n",
    "\n",
    "# len_train_n = len(X_train_all_ctx_n)\n",
    "\n",
    "# itt = int(np.ceil(len_train_n/batch_size_n))\n",
    "\n",
    "# with tqdm(total=itt*n_epochs) as pbar:\n",
    "#     for _ in range(n_epochs):\n",
    "#         for i in range(1,itt+1):\n",
    "#             low = (i-1)*batch_size_n\n",
    "#             high = min(i*batch_size_n, len_train_n)\n",
    "\n",
    "#             batch_n = X_train_all_ctx_n[low:high]\n",
    "\n",
    "#             x_p_idx = np.random.choice(len(X_train_all_ctx_p), len(batch_n), replace=False)\n",
    "\n",
    "#             batch_p = X_train_all_ctx_p[x_p_idx]\n",
    "\n",
    "#             batch = np.concatenate((batch_n, batch_p))\n",
    "\n",
    "#             a = batch[:,:1536//2]\n",
    "#             b = batch[:,1536//2:]\n",
    "\n",
    "#             y_true = [0]*len(batch_n) + [1]*len(batch_p)\n",
    "            \n",
    "#             with tf.GradientTape() as tape:\n",
    "#                 tape.watch(T)  # Watch the variable T for gradient computation\n",
    "#                 W = tf.exp(1/2*T)\n",
    "#                 y_preds = (tf.math.reduce_sum((a*W)*(b*W), axis=1))/(tf.math.reduce_euclidean_norm(a*W, axis=1)*tf.math.reduce_euclidean_norm(b*W, axis=1))\n",
    "#                 loss = tf.math.reduce_mean(tf.square(y_true - y_preds))\n",
    "\n",
    "#             gradients = tape.gradient(loss, T)\n",
    "#             optimizer.apply_gradients([(gradients, T)])\n",
    "#             loss_list.append(loss)\n",
    "#             pbar.update(1)"
   ]
  },
  {
   "cell_type": "code",
   "execution_count": null,
   "metadata": {},
   "outputs": [],
   "source": [
    "# # Weighted dot-product\n",
    "# learning_rate = 0.2\n",
    "# loss_list = []\n",
    "# val_list = []\n",
    "\n",
    "# T = tf.Variable(np.ones(X_train_all_ctx.shape[1]//2))\n",
    "\n",
    "# len_train = X_train_all_ctx.shape[0]\n",
    "\n",
    "# optimizer = tf.keras.optimizers.SGD(learning_rate=learning_rate)\n",
    "\n",
    "# batch_size = 128\n",
    "# itt = int(np.ceil(len_train/batch_size))\n",
    "\n",
    "# n_epochs = 50\n",
    "\n",
    "# loss = tf.keras.losses.mean_squared_error\n",
    "\n",
    "# with tqdm(total=itt*n_epochs) as pbar:\n",
    "#     for _ in range(n_epochs):\n",
    "#         for i in range(1,itt+1):\n",
    "#             low = (i-1)*batch_size\n",
    "#             high = min(i*batch_size, len_train)\n",
    "\n",
    "#             a = X_train_all_ctx[low:high,:1536//2]\n",
    "#             b = X_train_all_ctx[low:high,1536//2:]\n",
    "\n",
    "#             y_true = y_train_all_ctx[low:high]\n",
    "            \n",
    "#             with tf.GradientTape() as tape:\n",
    "#                 tape.watch(T)  # Watch the variable T for gradient computation\n",
    "#                 W = tf.exp(T)\n",
    "#                 y_preds = tf.math.reduce_sum(a*W*b, axis=1)\n",
    "#                 error = loss(y_true, y_preds)\n",
    "\n",
    "#             gradients = tape.gradient(error, T)\n",
    "#             optimizer.apply_gradients([(gradients, T)])\n",
    "#             loss_list.append(error.numpy())\n",
    "#             pbar.update(1)"
   ]
  },
  {
   "cell_type": "code",
   "execution_count": 38,
   "metadata": {},
   "outputs": [],
   "source": [
    "# loss_list_epochs = []\n",
    "# for i in range(n_epochs):\n",
    "#     loss_list_epochs.append(np.mean(loss_list[i*itt:(i+1)*itt]))"
   ]
  },
  {
   "cell_type": "code",
   "execution_count": 39,
   "metadata": {},
   "outputs": [
    {
     "data": {
      "text/plain": [
       "[<matplotlib.lines.Line2D at 0x1f326f2e890>]"
      ]
     },
     "execution_count": 39,
     "metadata": {},
     "output_type": "execute_result"
    },
    {
     "data": {
      "image/png": "[encoded data removed]",
      "text/plain": [
       "<Figure size 432x288 with 1 Axes>"
      ]
     },
     "metadata": {
      "needs_background": "light"
     },
     "output_type": "display_data"
    }
   ],
   "source": [
    "# plt.title(\"Matrix model loss history\")\n",
    "# plt.plot(loss_list_epochs)"
   ]
  },
  {
   "attachments": {},
   "cell_type": "markdown",
   "metadata": {},
   "source": [
    "## Test models"
   ]
  },
  {
   "cell_type": "code",
   "execution_count": 21,
   "metadata": {},
   "outputs": [],
   "source": [
    "from sklearn.metrics import roc_curve, auc, roc_auc_score\n",
    "import matplotlib.pyplot as plt\n",
    "def plot_roc(name, labels, predictions, **kwargs):\n",
    "  fp, tp, _ = roc_curve(labels, predictions)\n",
    "\n",
    "  plt.plot(fp, tp, label=f'{name} AUC: {roc_auc_score(labels, predictions):.3f}', linewidth=2, **kwargs)\n",
    "  plt.xlabel('False positives')\n",
    "  plt.ylabel('True positives')\n",
    "  plt.xlim([-0.05,1])\n",
    "  plt.ylim([0,1.05])\n",
    "  plt.grid(True)\n",
    "  ax = plt.gca()\n",
    "  ax.set_aspect('equal')"
   ]
  },
  {
   "cell_type": "code",
   "execution_count": 22,
   "metadata": {},
   "outputs": [
    {
     "name": "stdout",
     "output_type": "stream",
     "text": [
      "17530/17530 [==============================] - 57s 3ms/step\n"
     ]
    }
   ],
   "source": [
    "y_nn_preds = neural_net.predict(X_test_all_ctx)"
   ]
  },
  {
   "cell_type": "code",
   "execution_count": 23,
   "metadata": {},
   "outputs": [
    {
     "name": "stdout",
     "output_type": "stream",
     "text": [
      "4363/4363 [==============================] - 27s 6ms/step\n"
     ]
    }
   ],
   "source": [
    "y_nng_preds = neural_net_g.predict(X_test)"
   ]
  },
  {
   "cell_type": "code",
   "execution_count": 24,
   "metadata": {},
   "outputs": [
    {
     "name": "stdout",
     "output_type": "stream",
     "text": [
      "17530/17530 [==============================] - 92s 5ms/step\n"
     ]
    }
   ],
   "source": [
    "y_nnb_preds = neural_net_b.predict(X_test_all_ctx)"
   ]
  },
  {
   "cell_type": "code",
   "execution_count": 25,
   "metadata": {},
   "outputs": [
    {
     "name": "stdout",
     "output_type": "stream",
     "text": [
      "4363/4363 [==============================] - 18s 4ms/step\n"
     ]
    }
   ],
   "source": [
    "y_nngb_preds = neural_net_gb.predict(X_test)"
   ]
  },
  {
   "cell_type": "code",
   "execution_count": 26,
   "metadata": {},
   "outputs": [
    {
     "data": {
      "image/png": "[encoded data removed]",
      "text/plain": [
       "<Figure size 1000x600 with 1 Axes>"
      ]
     },
     "metadata": {},
     "output_type": "display_data"
    }
   ],
   "source": [
    "plt.figure(figsize=(10,6))\n",
    "plot_roc(\"NS oversample all\", y_test_all_ctx, y_nn_preds)\n",
    "plot_roc(\"NS oversample generalize\", y_test, y_nng_preds)\n",
    "plot_roc(\"NS basic all\", y_test_all_ctx, y_nnb_preds)\n",
    "plot_roc(\"NS basic generalize\", y_test, y_nngb_preds)\n",
    "plt.plot([0, 1], [0, 1], linestyle='--', lw=2, label='Random guess')\n",
    "plt.title(\"ROC curve for Neural Search comparison\")\n",
    "plt.legend(loc='lower right')\n",
    "plt.savefig('./Results/NN/comparison.png')\n",
    "plt.show()"
   ]
  },
  {
   "cell_type": "code",
   "execution_count": 20,
   "metadata": {},
   "outputs": [],
   "source": [
    "# y_cosine_preds = [np.dot(a, b)/(np.linalg.norm(a)*np.linalg.norm(b)) for a,b in zip(X_test_all_ctx[:,:1536//2], X_test_all_ctx[:,1536//2:])]"
   ]
  },
  {
   "cell_type": "code",
   "execution_count": 40,
   "metadata": {},
   "outputs": [],
   "source": [
    "# W = tf.exp(1/2*T).numpy()\n",
    "# y_matrix_preds_batch_os = [((a*W).T@(b*W))/(np.linalg.norm(a*W)*np.linalg.norm(b*W)) for a,b in zip(X_test_all_ctx[:,:1536//2], X_test_all_ctx[:,1536//2:])]"
   ]
  },
  {
   "cell_type": "code",
   "execution_count": null,
   "metadata": {},
   "outputs": [],
   "source": [
    "# W = tf.exp(T).numpy()\n",
    "# y_weight_preds = [tf.math.reduce_sum((a*W*b), axis=1) for a,b in zip(X_test_all_ctx[:,:1536//2], X_test_all_ctx[:,1536//2:])]"
   ]
  },
  {
   "cell_type": "code",
   "execution_count": null,
   "metadata": {},
   "outputs": [],
   "source": [
    "# y_dot_preds = [np.dot(a, b) for a,b in zip(X_test_all_ctx[:,:1536//2], X_test_all_ctx[:,1536//2:])]"
   ]
  },
  {
   "cell_type": "code",
   "execution_count": 60,
   "metadata": {},
   "outputs": [
    {
     "data": {
      "text/plain": [
       "<matplotlib.legend.Legend at 0x1f326f51fc0>"
      ]
     },
     "execution_count": 60,
     "metadata": {},
     "output_type": "execute_result"
    },
    {
     "data": {
      "image/png": "[encoded data removed]",
      "text/plain": [
       "<Figure size 1152x576 with 1 Axes>"
      ]
     },
     "metadata": {
      "needs_background": "light"
     },
     "output_type": "display_data"
    }
   ],
   "source": [
    "# plt.figure(figsize=(16,8))\n",
    "# plot_roc(\"NS\", y_test_all_ctx, y_nn_preds)\n",
    "# #plot_roc(\"Matrix\", y_test_all_ctx, y_matrix_preds)\n",
    "# plot_roc(\"Matrix\", y_test_all_ctx, y_matrix_preds_batch_os)\n",
    "# plot_roc(\"Cosine\", y_test_all_ctx, y_cosine_preds)\n",
    "# plt.legend(loc='lower right')"
   ]
  },
  {
   "cell_type": "code",
   "execution_count": 47,
   "metadata": {},
   "outputs": [],
   "source": [
    "# W = tf.exp(1/2*T).numpy()\n",
    "# y_matrix_preds = [((a*W).T@(b*W))/(np.linalg.norm(a*W)*np.linalg.norm(b*W)) for a,b in zip(X_test[:,:1536//2], X_test[:,1536//2:])]"
   ]
  },
  {
   "cell_type": "code",
   "execution_count": 48,
   "metadata": {},
   "outputs": [],
   "source": [
    "# y_cosine_preds = [np.dot(a, b)/(np.linalg.norm(a)*np.linalg.norm(b)) for a,b in zip(X_test[:,:1536//2], X_test[:,1536//2:])]"
   ]
  },
  {
   "cell_type": "code",
   "execution_count": 23,
   "metadata": {},
   "outputs": [
    {
     "data": {
      "text/plain": [
       "0.9143136551147619"
      ]
     },
     "execution_count": 23,
     "metadata": {},
     "output_type": "execute_result"
    }
   ],
   "source": [
    "# roc_auc_score(y_test, y_cosine_preds)"
   ]
  },
  {
   "cell_type": "code",
   "execution_count": 21,
   "metadata": {},
   "outputs": [
    {
     "name": "stderr",
     "output_type": "stream",
     "text": [
      "c:\\Users\\Lauritz\\AppData\\Local\\Programs\\Python\\Python310\\lib\\site-packages\\sklearn\\metrics\\_ranking.py:1029: UndefinedMetricWarning: No positive samples in y_true, true positive value should be meaningless\n",
      "  warnings.warn(\n"
     ]
    },
    {
     "data": {
      "text/plain": [
       "nan"
      ]
     },
     "execution_count": 21,
     "metadata": {},
     "output_type": "execute_result"
    }
   ],
   "source": [
    "fpr, tpr, thresholds = roc_curve(y_test, y_cosine_preds, pos_label=2)\n",
    "auc(fpr, tpr)"
   ]
  },
  {
   "cell_type": "code",
   "execution_count": 50,
   "metadata": {},
   "outputs": [
    {
     "data": {
      "text/plain": [
       "<matplotlib.legend.Legend at 0x1e34ddb19c0>"
      ]
     },
     "execution_count": 50,
     "metadata": {},
     "output_type": "execute_result"
    },
    {
     "data": {
      "image/png": "[encoded data removed]",
      "text/plain": [
       "<Figure size 1152x576 with 1 Axes>"
      ]
     },
     "metadata": {
      "needs_background": "light"
     },
     "output_type": "display_data"
    }
   ],
   "source": [
    "plt.figure(figsize=(16,8))\n",
    "#plot_roc(\"NS\", y_test, y_nn_preds)\n",
    "plot_roc(\"Matrix\", y_test, y_matrix_preds)\n",
    "plot_roc(\"Cosine\", y_test, y_cosine_preds)\n",
    "plt.legend(loc='lower right')"
   ]
  },
  {
   "cell_type": "code",
   "execution_count": 29,
   "metadata": {},
   "outputs": [
    {
     "data": {
      "text/plain": [
       "<matplotlib.legend.Legend at 0x1e251c272b0>"
      ]
     },
     "execution_count": 29,
     "metadata": {},
     "output_type": "execute_result"
    },
    {
     "data": {
      "image/png": "[encoded data removed]",
      "text/plain": [
       "<Figure size 1152x576 with 1 Axes>"
      ]
     },
     "metadata": {
      "needs_background": "light"
     },
     "output_type": "display_data"
    }
   ],
   "source": [
    "plt.figure(figsize=(16,8))\n",
    "#plot_roc(\"NS\", y_test, y_nn_preds)\n",
    "plot_roc(\"Matrix\", y_test, y_matrix_preds)\n",
    "plot_roc(\"Cosine\", y_test, y_cosine_preds)\n",
    "plt.legend(loc='lower right')"
   ]
  },
  {
   "cell_type": "code",
   "execution_count": 17,
   "metadata": {},
   "outputs": [
    {
     "data": {
      "text/plain": [
       "<matplotlib.legend.Legend at 0x1e251801780>"
      ]
     },
     "execution_count": 17,
     "metadata": {},
     "output_type": "execute_result"
    },
    {
     "data": {
      "image/png": "[encoded data removed]",
      "text/plain": [
       "<Figure size 1152x576 with 1 Axes>"
      ]
     },
     "metadata": {
      "needs_background": "light"
     },
     "output_type": "display_data"
    }
   ],
   "source": [
    "plt.figure(figsize=(16,8))\n",
    "#plot_roc(\"NS\", y_test, y_nn_preds)\n",
    "plot_roc(\"Matrix\", y_test, y_matrix_preds)\n",
    "plot_roc(\"Cosine\", y_test, y_cosine_preds)\n",
    "plt.legend(loc='lower right')"
   ]
  },
  {
   "cell_type": "code",
   "execution_count": 188,
   "metadata": {},
   "outputs": [
    {
     "data": {
      "text/plain": [
       "<matplotlib.legend.Legend at 0x2c8f952f9a0>"
      ]
     },
     "execution_count": 188,
     "metadata": {},
     "output_type": "execute_result"
    },
    {
     "data": {
      "image/png": "[encoded data removed]",
      "text/plain": [
       "<Figure size 1152x576 with 1 Axes>"
      ]
     },
     "metadata": {
      "needs_background": "light"
     },
     "output_type": "display_data"
    }
   ],
   "source": [
    "plt.figure(figsize=(16,8))\n",
    "#plot_roc(\"NS\", y_test, y_nn_preds)\n",
    "plot_roc(\"Matrix\", y_test, y_matrix_preds)\n",
    "plot_roc(\"Cosine\", y_test, y_cosine_preds)\n",
    "plt.legend(loc='lower right')"
   ]
  },
  {
   "cell_type": "code",
   "execution_count": 20,
   "metadata": {},
   "outputs": [
    {
     "data": {
      "text/plain": [
       "<matplotlib.legend.Legend at 0x18cb0361120>"
      ]
     },
     "execution_count": 20,
     "metadata": {},
     "output_type": "execute_result"
    },
    {
     "data": {
      "image/png": "[encoded data removed]",
      "text/plain": [
       "<Figure size 1152x576 with 1 Axes>"
      ]
     },
     "metadata": {
      "needs_background": "light"
     },
     "output_type": "display_data"
    }
   ],
   "source": [
    "plt.figure(figsize=(16,8))\n",
    "#plot_roc(\"NS\", y_test, y_nn_preds)\n",
    "plot_roc(\"Matrix\", y_test, y_matrix_preds)\n",
    "plot_roc(\"Cosine\", y_test, y_cosine_preds)\n",
    "plt.legend(loc='lower right')"
   ]
  },
  {
   "cell_type": "code",
   "execution_count": 59,
   "metadata": {},
   "outputs": [
    {
     "data": {
      "text/plain": [
       "<matplotlib.legend.Legend at 0x2299714e290>"
      ]
     },
     "execution_count": 59,
     "metadata": {},
     "output_type": "execute_result"
    },
    {
     "data": {
      "image/png": "[encoded data removed]",
      "text/plain": [
       "<Figure size 1152x576 with 1 Axes>"
      ]
     },
     "metadata": {
      "needs_background": "light"
     },
     "output_type": "display_data"
    }
   ],
   "source": [
    "#plot_roc(\"Train\", train_labels, train_predictions_baseline, color=colors[0])\n",
    "plt.figure(figsize=(16,8))\n",
    "plot_roc(\"NS\", y_test, y_nn_preds.flatten())\n",
    "plot_roc(\"Cosine\", y_test, y_cosine_preds)\n",
    "plt.legend(loc='lower right')"
   ]
  }
 ],
 "metadata": {
  "kernelspec": {
   "display_name": "Python 3",
   "language": "python",
   "name": "python3"
  },
  "language_info": {
   "codemirror_mode": {
    "name": "ipython",
    "version": 3
   },
   "file_extension": ".py",
   "mimetype": "text/x-python",
   "name": "python",
   "nbconvert_exporter": "python",
   "pygments_lexer": "ipython3",
   "version": "3.11.3"
  },
  "orig_nbformat": 4
 },
 "nbformat": 4,
 "nbformat_minor": 2
}
