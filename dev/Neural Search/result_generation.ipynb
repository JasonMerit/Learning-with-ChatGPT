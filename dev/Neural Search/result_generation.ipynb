{
 "cells": [
  {
   "attachments": {},
   "cell_type": "markdown",
   "metadata": {},
   "source": [
    "# Permutations - NB: All models are indiscrimately trained over 10 epochs\n",
    "Book and embedding length - remember to restart kernel everytime\n",
    "- [x] 2450\n",
    "    - [x] 4000\n",
    "    - [x] 2000\n",
    "    - [x] 1000\n",
    "- [x] ww2\n",
    "    - [x] 4000\n",
    "    - [x] 2000\n",
    "    - [x] 1000"
   ]
  },
  {
   "cell_type": "code",
   "execution_count": 4,
   "metadata": {},
   "outputs": [
    {
     "data": {
      "text/plain": [
       "device(type='cuda')"
      ]
     },
     "execution_count": 4,
     "metadata": {},
     "output_type": "execute_result"
    }
   ],
   "source": [
    "# Define embeddings - remember to change the embeddings file to 1000, 2000 or 4000\n",
    "# Select context, context_medium or context_long depending on 1000, 2000 or 4000\n",
    "embedding_length = [1000, 2000, 4000][2]\n",
    "book = [2450, 'ww2'][0]\n",
    "ctx_length_to_name = {1000: 'context', 2000: 'context_medium', 4000: 'context_long'}\n",
    "\n",
    "# use cuda\n",
    "import torch\n",
    "import tensorflow as tf\n",
    "device = torch.device(\"cuda\" if torch.cuda.is_available() else \"cpu\")\n",
    "device"
   ]
  },
  {
   "cell_type": "code",
   "execution_count": 5,
   "metadata": {},
   "outputs": [
    {
     "name": "stderr",
     "output_type": "stream",
     "text": [
      "c:\\Users\\PC\\miniconda3\\envs\\cuda_env\\lib\\site-packages\\tqdm\\auto.py:21: TqdmWarning: IProgress not found. Please update jupyter and ipywidgets. See https://ipywidgets.readthedocs.io/en/stable/user_install.html\n",
      "  from .autonotebook import tqdm as notebook_tqdm\n"
     ]
    }
   ],
   "source": [
    "# Imports\n",
    "import numpy as np\n",
    "import pandas as pd\n",
    "import pickle\n",
    "import random\n",
    "\n",
    "# set randomn seed for reproducibility\n",
    "seed = 23\n",
    "random.seed(seed)\n",
    "np.random.seed(seed)\n",
    "torch.manual_seed(seed)\n",
    "torch.cuda.manual_seed(seed)\n",
    "torch.manual_seed(seed)\n",
    "torch.cuda.manual_seed(seed)\n",
    "tf.random.set_seed(seed)\n",
    "\n",
    "from keras.models import Sequential\n",
    "from keras.layers import Dense\n",
    "from keras import metrics\n",
    "from keras.models import load_model\n",
    "from sentence_transformers import SentenceTransformer\n",
    "import matplotlib.pyplot as plt\n",
    "\n",
    "\n",
    "from tqdm import tqdm\n",
    "\n",
    "from sklearn.metrics import roc_curve, roc_auc_score\n",
    "\n",
    "# use cuda\n",
    "model = SentenceTransformer('sentence-transformers/multi-qa-mpnet-base-dot-v1').to(device)"
   ]
  },
  {
   "cell_type": "code",
   "execution_count": 3,
   "metadata": {},
   "outputs": [],
   "source": [
    "# Get data\n",
    "with open(f'./data/{book}.pkl', 'rb') as f:\n",
    "    df_data = pickle.load(f)\n",
    "df_data.reset_index(inplace=True)"
   ]
  },
  {
   "cell_type": "code",
   "execution_count": 4,
   "metadata": {},
   "outputs": [],
   "source": [
    "u_ctx_short = df_data['context'].unique()\n",
    "\n",
    "ctx_mapping_short_to_medium = {}\n",
    "\n",
    "for i in range(len(u_ctx_short)-1):\n",
    "    if i % 2 == 0:\n",
    "        ctx_mapping_short_to_medium[u_ctx_short[i]] = u_ctx_short[i]+u_ctx_short[i+1]\n",
    "    else:\n",
    "        ctx_mapping_short_to_medium[u_ctx_short[i]] = u_ctx_short[i-1]+u_ctx_short[i]\n",
    "\n",
    "data = []\n",
    "for ctx in df_data['context']:\n",
    "    val = ctx_mapping_short_to_medium.get(ctx)\n",
    "    if val:\n",
    "        data.append(val)\n",
    "    else:\n",
    "        data.append(ctx)\n",
    "\n",
    "df_data['context_medium'] = data\n",
    "\n",
    "u_ctx_medium = df_data['context_medium'].unique()\n",
    "\n",
    "ctx_mapping_medium_to_long = {}\n",
    "\n",
    "n = len(u_ctx_medium)\n",
    "for i in range(n-1,0,-1):\n",
    "    if i % 2 == n % 2:\n",
    "        ctx_mapping_medium_to_long[u_ctx_medium[i]] = u_ctx_medium[i]+u_ctx_medium[i+1]\n",
    "    else:\n",
    "        ctx_mapping_medium_to_long[u_ctx_medium[i]] = u_ctx_medium[i-1]+u_ctx_medium[i]\n",
    "\n",
    "data = []\n",
    "for ctx in df_data['context_medium']:\n",
    "    val = ctx_mapping_medium_to_long.get(ctx)\n",
    "    if val:\n",
    "        data.append(val)\n",
    "    else:\n",
    "        data.append(ctx)\n",
    "\n",
    "df_data['context_long'] = data"
   ]
  },
  {
   "cell_type": "code",
   "execution_count": 5,
   "metadata": {},
   "outputs": [],
   "source": [
    "# # Make embeddings\n",
    "# question_embeddings = {q: model.encode(q) for q in df_data['question'].unique()}\n",
    "# with open(f'./Embeddings/{book}_question_embeddings.pkl', 'wb') as f:\n",
    "#     f.write(pickle.dumps(question_embeddings))\n",
    "\n",
    "# context_embeddings_1000 = {ctx: model.encode(ctx) for ctx in df_data['context'].unique()}\n",
    "# with open(f'./Embeddings/{book}_context_embeddings_1000.pkl', 'wb') as f:\n",
    "#     f.write(pickle.dumps(context_embeddings_1000))\n",
    "\n",
    "# context_embeddings_2000 = {ctx: model.encode(ctx) for ctx in df_data['context_medium'].unique()}\n",
    "# with open(f'./Embeddings/{book}_context_embeddings_2000.pkl', 'wb') as f:\n",
    "#     f.write(pickle.dumps(context_embeddings_2000))\n",
    "\n",
    "# context_embeddings_4000 = {ctx: model.encode(ctx) for ctx in df_data['context_long'].unique()}\n",
    "# with open(f'./Embeddings/{book}_context_embeddings_4000.pkl', 'wb') as f:\n",
    "#     f.write(pickle.dumps(context_embeddings_4000))"
   ]
  },
  {
   "cell_type": "code",
   "execution_count": 6,
   "metadata": {},
   "outputs": [],
   "source": [
    "with open(f'./Embeddings/{book}_context_embeddings_{embedding_length}.pkl', 'rb') as f:\n",
    "    context_embeddings = pickle.loads(f.read())\n",
    "with open(f'./Embeddings/{book}_question_embeddings.pkl', 'rb') as f:\n",
    "    question_embeddings = pickle.loads(f.read())"
   ]
  },
  {
   "cell_type": "code",
   "execution_count": 7,
   "metadata": {},
   "outputs": [
    {
     "data": {
      "text/plain": [
       "3355"
      ]
     },
     "execution_count": 7,
     "metadata": {},
     "output_type": "execute_result"
    }
   ],
   "source": [
    "# Make combinations\n",
    "from collections import defaultdict\n",
    "\n",
    "is_added = defaultdict(lambda: 0)\n",
    "\n",
    "contexts = df_data[ctx_length_to_name[embedding_length]].unique()\n",
    "data = []\n",
    "\n",
    "for i,row in df_data.iterrows():\n",
    "    if is_added[row['question']]:\n",
    "        continue\n",
    "\n",
    "    dft = pd.DataFrame(columns=['context', 'question', 'label'])\n",
    "    dft['context'] = contexts\n",
    "    dft['question'] = row['question']\n",
    "    dft['label'] = 0\n",
    "\n",
    "    for ctx in df_data.loc[df_data['question'] == row['question'], ctx_length_to_name[embedding_length]]:\n",
    "        dft.loc[dft['context']==ctx,'label'] = 1\n",
    "\n",
    "    data.append(dft)\n",
    "\n",
    "    is_added[row['question']] = 1\n",
    "df = pd.concat(data, ignore_index=True)\n",
    "sum(df['label'])"
   ]
  },
  {
   "cell_type": "code",
   "execution_count": 8,
   "metadata": {},
   "outputs": [],
   "source": [
    "# Select for train and test\n",
    "n_test_q = int(0.2*len(df['question'].unique()))\n",
    "test_q = np.random.choice(df['question'].unique(), n_test_q, replace=False)\n",
    "\n",
    "# Make dataframes for repeated contexts\n",
    "df_test_all_ctx = df.loc[df['question'].isin(test_q)]\n",
    "df_test_all_ctx.reset_index(inplace=True, drop=True)\n",
    "df_par_all_ctx =  df.loc[~df['question'].isin(test_q)]\n",
    "df_par_all_ctx.reset_index(inplace=True, drop=True)\n",
    "\n",
    "# Select validation questions\n",
    "n_val_q = int(0.1*len(df_par_all_ctx['question'].unique()))\n",
    "val_q = np.random.choice(df_par_all_ctx['question'].unique(), n_val_q, replace=False)\n",
    "\n",
    "# Make dataframes for train and validation\n",
    "df_val_all_ctx =  df_par_all_ctx.loc[df_par_all_ctx['question'].isin(val_q)]\n",
    "df_val_all_ctx.reset_index(inplace=True, drop=True)\n",
    "df_train_all_ctx =  df_par_all_ctx.loc[~df_par_all_ctx['question'].isin(val_q)]\n",
    "df_train_all_ctx.reset_index(inplace=True, drop=True)\n",
    "\n",
    "# Make train and test data\n",
    "X_train_all_ctx = np.array([np.concatenate((context_embeddings[ctx],question_embeddings[q])) for ctx,q in zip(df_train_all_ctx['context'].values, df_train_all_ctx['question'].values)])\n",
    "y_train_all_ctx = np.array([i for i in df_train_all_ctx['label'].values])\n",
    "\n",
    "X_val_all_ctx = np.array([np.concatenate((context_embeddings[ctx],question_embeddings[q])) for ctx,q in zip(df_val_all_ctx['context'].values, df_val_all_ctx['question'].values)])\n",
    "y_val_all_ctx = np.array([i for i in df_val_all_ctx['label'].values])\n",
    "\n",
    "X_test_all_ctx = np.array([np.concatenate((context_embeddings[ctx],question_embeddings[q])) for ctx,q in zip(df_test_all_ctx['context'].values, df_test_all_ctx['question'].values)])\n",
    "y_test_all_ctx = np.array([i for i in df_test_all_ctx['label'].values])\n",
    "\n",
    "# Shuffle\n",
    "idx_train_all_ctx = np.random.permutation(len(X_train_all_ctx))\n",
    "X_train_all_ctx = X_train_all_ctx[idx_train_all_ctx]\n",
    "y_train_all_ctx = y_train_all_ctx[idx_train_all_ctx]\n",
    "\n",
    "idx_val_all_ctx = np.random.permutation(len(X_val_all_ctx))\n",
    "X_val_all_ctx = X_val_all_ctx[idx_val_all_ctx]\n",
    "y_val_all_ctx = y_val_all_ctx[idx_val_all_ctx]\n",
    "\n",
    "idx_test_all_ctx = np.random.permutation(len(X_test_all_ctx))\n",
    "X_test_all_ctx = X_test_all_ctx[idx_test_all_ctx]\n",
    "y_test_all_ctx = y_test_all_ctx[idx_test_all_ctx]"
   ]
  },
  {
   "cell_type": "code",
   "execution_count": 9,
   "metadata": {},
   "outputs": [],
   "source": [
    "# Save data\n",
    "with open(f'./Results/{embedding_length}/y_labels_{book}', 'wb') as f:\n",
    "    f.write(pickle.dumps(y_test_all_ctx))"
   ]
  },
  {
   "cell_type": "code",
   "execution_count": 10,
   "metadata": {},
   "outputs": [],
   "source": [
    "# # load data\n",
    "# with open(f'./Results/{embedding_length}/y_labels_{book}', 'rb') as f:\n",
    "#     y_test_all_ctx = pickle.loads(f.read())"
   ]
  },
  {
   "cell_type": "code",
   "execution_count": 11,
   "metadata": {},
   "outputs": [
    {
     "name": "stdout",
     "output_type": "stream",
     "text": [
      "Epoch 1/10\n",
      "3181/3181 [==============================] - 31s 9ms/step - loss: 0.0358 - tp: 0.0000e+00 - fp: 42.0000 - tn: 404662.0000 - fn: 2417.0000 - accuracy: 0.9940 - precision: 0.0000e+00 - recall: 0.0000e+00 - auc: 0.6577 - prc: 0.0150 - val_loss: 0.0307 - val_tp: 0.0000e+00 - val_fp: 0.0000e+00 - val_tn: 44856.0000 - val_fn: 267.0000 - val_accuracy: 0.9941 - val_precision: 0.0000e+00 - val_recall: 0.0000e+00 - val_auc: 0.7965 - val_prc: 0.0507\n",
      "Epoch 2/10\n",
      "3181/3181 [==============================] - 26s 8ms/step - loss: 0.0290 - tp: 0.0000e+00 - fp: 0.0000e+00 - tn: 404704.0000 - fn: 2417.0000 - accuracy: 0.9941 - precision: 0.0000e+00 - recall: 0.0000e+00 - auc: 0.8504 - prc: 0.0722 - val_loss: 0.0269 - val_tp: 0.0000e+00 - val_fp: 0.0000e+00 - val_tn: 44856.0000 - val_fn: 267.0000 - val_accuracy: 0.9941 - val_precision: 0.0000e+00 - val_recall: 0.0000e+00 - val_auc: 0.8976 - val_prc: 0.1003\n",
      "Epoch 3/10\n",
      "3181/3181 [==============================] - 26s 8ms/step - loss: 0.0254 - tp: 4.0000 - fp: 2.0000 - tn: 404702.0000 - fn: 2413.0000 - accuracy: 0.9941 - precision: 0.6667 - recall: 0.0017 - auc: 0.9000 - prc: 0.1357 - val_loss: 0.0266 - val_tp: 0.0000e+00 - val_fp: 0.0000e+00 - val_tn: 44856.0000 - val_fn: 267.0000 - val_accuracy: 0.9941 - val_precision: 0.0000e+00 - val_recall: 0.0000e+00 - val_auc: 0.8554 - val_prc: 0.1186\n",
      "Epoch 4/10\n",
      "3181/3181 [==============================] - 26s 8ms/step - loss: 0.0228 - tp: 23.0000 - fp: 19.0000 - tn: 404685.0000 - fn: 2394.0000 - accuracy: 0.9941 - precision: 0.5476 - recall: 0.0095 - auc: 0.9251 - prc: 0.1970 - val_loss: 0.0263 - val_tp: 5.0000 - val_fp: 3.0000 - val_tn: 44853.0000 - val_fn: 262.0000 - val_accuracy: 0.9941 - val_precision: 0.6250 - val_recall: 0.0187 - val_auc: 0.8805 - val_prc: 0.1191\n",
      "Epoch 5/10\n",
      "3181/3181 [==============================] - 30s 9ms/step - loss: 0.0206 - tp: 106.0000 - fp: 84.0000 - tn: 404620.0000 - fn: 2311.0000 - accuracy: 0.9941 - precision: 0.5579 - recall: 0.0439 - auc: 0.9440 - prc: 0.2659 - val_loss: 0.0259 - val_tp: 7.0000 - val_fp: 5.0000 - val_tn: 44851.0000 - val_fn: 260.0000 - val_accuracy: 0.9941 - val_precision: 0.5833 - val_recall: 0.0262 - val_auc: 0.8792 - val_prc: 0.1468\n",
      "Epoch 6/10\n",
      "3181/3181 [==============================] - 29s 9ms/step - loss: 0.0186 - tp: 275.0000 - fp: 171.0000 - tn: 404533.0000 - fn: 2142.0000 - accuracy: 0.9943 - precision: 0.6166 - recall: 0.1138 - auc: 0.9544 - prc: 0.3400 - val_loss: 0.0249 - val_tp: 7.0000 - val_fp: 14.0000 - val_tn: 44842.0000 - val_fn: 260.0000 - val_accuracy: 0.9939 - val_precision: 0.3333 - val_recall: 0.0262 - val_auc: 0.8943 - val_prc: 0.1536\n",
      "Epoch 7/10\n",
      "3181/3181 [==============================] - 26s 8ms/step - loss: 0.0166 - tp: 489.0000 - fp: 275.0000 - tn: 404429.0000 - fn: 1928.0000 - accuracy: 0.9946 - precision: 0.6401 - recall: 0.2023 - auc: 0.9667 - prc: 0.4265 - val_loss: 0.0259 - val_tp: 29.0000 - val_fp: 36.0000 - val_tn: 44820.0000 - val_fn: 238.0000 - val_accuracy: 0.9939 - val_precision: 0.4462 - val_recall: 0.1086 - val_auc: 0.8761 - val_prc: 0.1851\n",
      "Epoch 8/10\n",
      "3181/3181 [==============================] - 26s 8ms/step - loss: 0.0150 - tp: 693.0000 - fp: 328.0000 - tn: 404376.0000 - fn: 1724.0000 - accuracy: 0.9950 - precision: 0.6787 - recall: 0.2867 - auc: 0.9717 - prc: 0.5008 - val_loss: 0.0282 - val_tp: 36.0000 - val_fp: 43.0000 - val_tn: 44813.0000 - val_fn: 231.0000 - val_accuracy: 0.9939 - val_precision: 0.4557 - val_recall: 0.1348 - val_auc: 0.8369 - val_prc: 0.1936\n",
      "Epoch 9/10\n",
      "3181/3181 [==============================] - 26s 8ms/step - loss: 0.0136 - tp: 845.0000 - fp: 355.0000 - tn: 404349.0000 - fn: 1572.0000 - accuracy: 0.9953 - precision: 0.7042 - recall: 0.3496 - auc: 0.9776 - prc: 0.5639 - val_loss: 0.0259 - val_tp: 38.0000 - val_fp: 39.0000 - val_tn: 44817.0000 - val_fn: 229.0000 - val_accuracy: 0.9941 - val_precision: 0.4935 - val_recall: 0.1423 - val_auc: 0.8682 - val_prc: 0.2209\n",
      "Epoch 10/10\n",
      "3181/3181 [==============================] - 26s 8ms/step - loss: 0.0123 - tp: 1048.0000 - fp: 388.0000 - tn: 404316.0000 - fn: 1369.0000 - accuracy: 0.9957 - precision: 0.7298 - recall: 0.4336 - auc: 0.9812 - prc: 0.6290 - val_loss: 0.0262 - val_tp: 43.0000 - val_fp: 55.0000 - val_tn: 44801.0000 - val_fn: 224.0000 - val_accuracy: 0.9938 - val_precision: 0.4388 - val_recall: 0.1610 - val_auc: 0.8554 - val_prc: 0.2105\n",
      "INFO:tensorflow:Assets written to: ./Results/4000/hist_nn_2450\\assets\n",
      "3528/3528 [==============================] - 5s 1ms/step\n",
      "INFO:tensorflow:Assets written to: ram://a06a523a-becc-4e36-9c05-2b0d81981a5a/assets\n"
     ]
    }
   ],
   "source": [
    "# Define NN\n",
    "neural_net_b = Sequential()\n",
    "neural_net_b.add(Dense(768, input_dim=768*2, activation='relu'))\n",
    "neural_net_b.add(Dense(384, activation='relu'))\n",
    "neural_net_b.add(Dense(1, activation='sigmoid'))\n",
    "\n",
    "neural_net_b.compile(loss='binary_crossentropy', optimizer='adam', metrics=[metrics.TruePositives(name='tp'),\n",
    "                metrics.FalsePositives(name='fp'),\n",
    "                metrics.TrueNegatives(name='tn'),\n",
    "                metrics.FalseNegatives(name='fn'),\n",
    "                metrics.BinaryAccuracy(name='accuracy'),\n",
    "                metrics.Precision(name='precision'),\n",
    "                metrics.Recall(name='recall'),\n",
    "                metrics.AUC(name='auc'),\n",
    "                metrics.AUC(name='prc', curve='PR')])\n",
    "\n",
    "# Train NN\n",
    "history_basic = neural_net_b.fit(X_train_all_ctx, y_train_all_ctx, batch_size=128, epochs=10, validation_data=(X_val_all_ctx, y_val_all_ctx))\n",
    "neural_net_b.save(f'./Results/{embedding_length}/hist_nn_{book}')\n",
    "\n",
    "# Test NN\n",
    "y_nnb_preds = neural_net_b.predict(X_test_all_ctx)\n",
    "\n",
    "# Save results\n",
    "with open(f'./Results/{embedding_length}/nn_preds_{book}', 'wb') as f:\n",
    "    f.write(pickle.dumps(y_nnb_preds))\n",
    "\n",
    "with open(f'./Results/{embedding_length}/nn_hist_{book}', 'wb') as f:\n",
    "    f.write(pickle.dumps(history_basic))"
   ]
  },
  {
   "cell_type": "code",
   "execution_count": 17,
   "metadata": {},
   "outputs": [
    {
     "data": {
      "text/plain": [
       "['./Results/4000\\\\nn_preds_2450', './Results/4000\\\\nn_preds_ww2']"
      ]
     },
     "execution_count": 17,
     "metadata": {},
     "output_type": "execute_result"
    }
   ],
   "source": [
    "from glob import glob\n",
    "glob(f'./Results/{embedding_length}/nn_preds_*')"
   ]
  },
  {
   "cell_type": "code",
   "execution_count": null,
   "metadata": {},
   "outputs": [],
   "source": [
    "with open(f'dev/Neural Search/Results/4000/nn_hist_2450', 'rb') as f:\n",
    "    history_basic = pickle.loads(f.read())"
   ]
  },
  {
   "cell_type": "code",
   "execution_count": 11,
   "metadata": {},
   "outputs": [
    {
     "ename": "FileNotFoundError",
     "evalue": "Unsuccessful TensorSliceReader constructor: Failed to find any matching files for ram://6fd20a3c-1ef5-4d1e-952c-8de457088335/variables/variables\n You may be trying to load on a different device from the computational device. Consider setting the `experimental_io_device` option in `tf.saved_model.LoadOptions` to the io_device such as '/job:localhost'.",
     "output_type": "error",
     "traceback": [
      "\u001b[1;31m---------------------------------------------------------------------------\u001b[0m",
      "\u001b[1;31mFileNotFoundError\u001b[0m                         Traceback (most recent call last)",
      "Cell \u001b[1;32mIn[11], line 6\u001b[0m\n\u001b[0;32m      4\u001b[0m \u001b[39m# Load history\u001b[39;00m\n\u001b[0;32m      5\u001b[0m \u001b[39mwith\u001b[39;00m \u001b[39mopen\u001b[39m(\u001b[39mf\u001b[39m\u001b[39m'\u001b[39m\u001b[39m./Results/\u001b[39m\u001b[39m{\u001b[39;00membedding_length\u001b[39m}\u001b[39;00m\u001b[39m/nn_hist_\u001b[39m\u001b[39m{\u001b[39;00mbook\u001b[39m}\u001b[39;00m\u001b[39m'\u001b[39m, \u001b[39m'\u001b[39m\u001b[39mrb\u001b[39m\u001b[39m'\u001b[39m) \u001b[39mas\u001b[39;00m f:\n\u001b[1;32m----> 6\u001b[0m     history_basic \u001b[39m=\u001b[39m pickle\u001b[39m.\u001b[39;49mloads(f\u001b[39m.\u001b[39;49mread())\n",
      "File \u001b[1;32mc:\\Users\\PC\\miniconda3\\envs\\cuda_env\\lib\\site-packages\\keras\\saving\\pickle_utils.py:47\u001b[0m, in \u001b[0;36mdeserialize_model_from_bytecode\u001b[1;34m(serialized_model)\u001b[0m\n\u001b[0;32m     45\u001b[0m             \u001b[39mwith\u001b[39;00m tf\u001b[39m.\u001b[39mio\u001b[39m.\u001b[39mgfile\u001b[39m.\u001b[39mGFile(dest_path, \u001b[39m\"\u001b[39m\u001b[39mwb\u001b[39m\u001b[39m\"\u001b[39m) \u001b[39mas\u001b[39;00m f:\n\u001b[0;32m     46\u001b[0m                 f\u001b[39m.\u001b[39mwrite(archive\u001b[39m.\u001b[39mextractfile(name)\u001b[39m.\u001b[39mread())\n\u001b[1;32m---> 47\u001b[0m model \u001b[39m=\u001b[39m save_module\u001b[39m.\u001b[39;49mload_model(temp_dir)\n\u001b[0;32m     48\u001b[0m tf\u001b[39m.\u001b[39mio\u001b[39m.\u001b[39mgfile\u001b[39m.\u001b[39mrmtree(temp_dir)\n\u001b[0;32m     49\u001b[0m \u001b[39mreturn\u001b[39;00m model\n",
      "File \u001b[1;32mc:\\Users\\PC\\miniconda3\\envs\\cuda_env\\lib\\site-packages\\keras\\utils\\traceback_utils.py:70\u001b[0m, in \u001b[0;36mfilter_traceback.<locals>.error_handler\u001b[1;34m(*args, **kwargs)\u001b[0m\n\u001b[0;32m     67\u001b[0m     filtered_tb \u001b[39m=\u001b[39m _process_traceback_frames(e\u001b[39m.\u001b[39m__traceback__)\n\u001b[0;32m     68\u001b[0m     \u001b[39m# To get the full stack trace, call:\u001b[39;00m\n\u001b[0;32m     69\u001b[0m     \u001b[39m# `tf.debugging.disable_traceback_filtering()`\u001b[39;00m\n\u001b[1;32m---> 70\u001b[0m     \u001b[39mraise\u001b[39;00m e\u001b[39m.\u001b[39mwith_traceback(filtered_tb) \u001b[39mfrom\u001b[39;00m \u001b[39mNone\u001b[39m\n\u001b[0;32m     71\u001b[0m \u001b[39mfinally\u001b[39;00m:\n\u001b[0;32m     72\u001b[0m     \u001b[39mdel\u001b[39;00m filtered_tb\n",
      "File \u001b[1;32mc:\\Users\\PC\\miniconda3\\envs\\cuda_env\\lib\\site-packages\\tensorflow\\python\\saved_model\\load.py:933\u001b[0m, in \u001b[0;36mload_partial\u001b[1;34m(export_dir, filters, tags, options)\u001b[0m\n\u001b[0;32m    930\u001b[0m   loader \u001b[39m=\u001b[39m Loader(object_graph_proto, saved_model_proto, export_dir,\n\u001b[0;32m    931\u001b[0m                   ckpt_options, options, filters)\n\u001b[0;32m    932\u001b[0m \u001b[39mexcept\u001b[39;00m errors\u001b[39m.\u001b[39mNotFoundError \u001b[39mas\u001b[39;00m err:\n\u001b[1;32m--> 933\u001b[0m   \u001b[39mraise\u001b[39;00m \u001b[39mFileNotFoundError\u001b[39;00m(\n\u001b[0;32m    934\u001b[0m       \u001b[39mstr\u001b[39m(err) \u001b[39m+\u001b[39m \u001b[39m\"\u001b[39m\u001b[39m\\n\u001b[39;00m\u001b[39m You may be trying to load on a different device \u001b[39m\u001b[39m\"\u001b[39m\n\u001b[0;32m    935\u001b[0m       \u001b[39m\"\u001b[39m\u001b[39mfrom the computational device. Consider setting the \u001b[39m\u001b[39m\"\u001b[39m\n\u001b[0;32m    936\u001b[0m       \u001b[39m\"\u001b[39m\u001b[39m`experimental_io_device` option in `tf.saved_model.LoadOptions` \u001b[39m\u001b[39m\"\u001b[39m\n\u001b[0;32m    937\u001b[0m       \u001b[39m\"\u001b[39m\u001b[39mto the io_device such as \u001b[39m\u001b[39m'\u001b[39m\u001b[39m/job:localhost\u001b[39m\u001b[39m'\u001b[39m\u001b[39m.\u001b[39m\u001b[39m\"\u001b[39m)\n\u001b[0;32m    938\u001b[0m root \u001b[39m=\u001b[39m loader\u001b[39m.\u001b[39mget(\u001b[39m0\u001b[39m)\n\u001b[0;32m    939\u001b[0m root\u001b[39m.\u001b[39mgraph_debug_info \u001b[39m=\u001b[39m loader\u001b[39m.\u001b[39madjust_debug_info_func_names(debug_info)\n",
      "\u001b[1;31mFileNotFoundError\u001b[0m: Unsuccessful TensorSliceReader constructor: Failed to find any matching files for ram://6fd20a3c-1ef5-4d1e-952c-8de457088335/variables/variables\n You may be trying to load on a different device from the computational device. Consider setting the `experimental_io_device` option in `tf.saved_model.LoadOptions` to the io_device such as '/job:localhost'."
     ]
    }
   ],
   "source": [
    "# Load model\n",
    "neural_net_b = load_model(f'./Results/{embedding_length}/hist_nn_{book}')\n",
    "import pickle\n",
    "# Load history\n",
    "with open(f'./Results/{embedding_length}/nn_hist_{book}', 'rb') as f:\n",
    "    history_basic = pickle.loads(f.read())"
   ]
  },
  {
   "cell_type": "code",
   "execution_count": 6,
   "metadata": {},
   "outputs": [],
   "source": [
    "def plot_metrics(history):\n",
    "  metrics = ['loss', 'prc', 'precision', 'recall']\n",
    "  for n, metric in enumerate(metrics):\n",
    "    name = metric.replace(\"_\",\" \").capitalize()\n",
    "    plt.subplot(2,2,n+1)\n",
    "    plt.plot(history.epoch, history.history[metric], label='Train')\n",
    "    plt.plot(history.epoch, history.history['val_'+metric],\n",
    "              linestyle=\"--\", label='Val')\n",
    "    plt.xlabel('Epoch')\n",
    "    plt.ylabel(name)\n",
    "    if metric == 'loss':\n",
    "      plt.ylim([0, plt.ylim()[1]])\n",
    "    elif metric == 'auc':\n",
    "      plt.ylim([0.8,1])\n",
    "    else:\n",
    "      plt.ylim([0,1])\n",
    "    plt.legend()"
   ]
  },
  {
   "cell_type": "code",
   "execution_count": 7,
   "metadata": {},
   "outputs": [
    {
     "ename": "NameError",
     "evalue": "name 'history_basic' is not defined",
     "output_type": "error",
     "traceback": [
      "\u001b[1;31m---------------------------------------------------------------------------\u001b[0m",
      "\u001b[1;31mNameError\u001b[0m                                 Traceback (most recent call last)",
      "Cell \u001b[1;32mIn[7], line 1\u001b[0m\n\u001b[1;32m----> 1\u001b[0m plot_metrics(history_basic)\n",
      "\u001b[1;31mNameError\u001b[0m: name 'history_basic' is not defined"
     ]
    }
   ],
   "source": [
    "plot_metrics(history_basic)"
   ]
  },
  {
   "cell_type": "code",
   "execution_count": 15,
   "metadata": {},
   "outputs": [
    {
     "name": "stderr",
     "output_type": "stream",
     "text": [
      "100%|██████████| 31810/31810 [02:47<00:00, 189.97it/s]\n"
     ]
    }
   ],
   "source": [
    "# Weighted dot-product\n",
    "learning_rate = 0.2\n",
    "loss_list = []\n",
    "val_list = []\n",
    "\n",
    "T = tf.Variable(np.ones(X_train_all_ctx.shape[1]//2))\n",
    "\n",
    "len_train = X_train_all_ctx.shape[0]\n",
    "\n",
    "optimizer = tf.keras.optimizers.SGD(learning_rate=learning_rate)\n",
    "\n",
    "batch_size = 128\n",
    "itt = int(np.ceil(len_train/batch_size))\n",
    "n_epochs = 10\n",
    "\n",
    "loss = tf.keras.losses.mean_squared_error\n",
    "\n",
    "with tqdm(total=itt*n_epochs) as pbar:\n",
    "    for _ in range(n_epochs):\n",
    "        for i in range(1,itt+1):\n",
    "            low = (i-1)*batch_size\n",
    "            high = min(i*batch_size, len_train)\n",
    "\n",
    "            a = X_train_all_ctx[low:high,:1536//2]\n",
    "            b = X_train_all_ctx[low:high,1536//2:]\n",
    "\n",
    "            y_true = y_train_all_ctx[low:high]\n",
    "            \n",
    "            with tf.GradientTape() as tape:\n",
    "                tape.watch(T)  # Watch the variable T for gradient computation\n",
    "                W = tf.exp(T)\n",
    "                y_preds = tf.math.reduce_sum(a*W*b, axis=1)\n",
    "                error = loss(y_true, y_preds)\n",
    "\n",
    "            gradients = tape.gradient(error, T)\n",
    "            optimizer.apply_gradients([(gradients, T)])\n",
    "            loss_list.append(error.numpy())\n",
    "            pbar.update(1)\n",
    "    \n",
    "        W_val = tf.exp(T)\n",
    "        y_val_preds = tf.math.reduce_sum(X_val_all_ctx[:,:1536//2].astype(np.float32)*W_val*X_val_all_ctx[:,1536//2:].astype(np.float32), axis=1)\n",
    "        val_list.append(loss(y_val_all_ctx, y_val_preds).numpy())\n",
    "\n",
    "loss_list_epochs = []\n",
    "for i in range(n_epochs):\n",
    "    loss_list_epochs.append(np.mean(loss_list[i*itt:(i+1)*itt]))"
   ]
  },
  {
   "cell_type": "code",
   "execution_count": 16,
   "metadata": {},
   "outputs": [],
   "source": [
    "# Save weight information\n",
    "with open(f'./Results/{embedding_length}/dot_weights_{book}', 'wb') as f:\n",
    "    f.write(pickle.dumps(T))\n",
    "\n",
    "with open(f'./Results/{embedding_length}/weight_loss_{book}', 'wb') as f:\n",
    "    f.write(pickle.dumps(loss_list_epochs))\n",
    "\n",
    "with open(f'./Results/{embedding_length}/weight_val_{book}', 'wb') as f:\n",
    "    f.write(pickle.dumps(val_list))"
   ]
  },
  {
   "cell_type": "code",
   "execution_count": 17,
   "metadata": {},
   "outputs": [],
   "source": [
    "# Weight predictions\n",
    "W_test = tf.exp(T)\n",
    "y_weight_preds = tf.math.reduce_sum(X_test_all_ctx[:,:1536//2].astype(np.float32)*W_test*X_test_all_ctx[:,1536//2:].astype(np.float32), axis=1)"
   ]
  },
  {
   "cell_type": "code",
   "execution_count": 18,
   "metadata": {},
   "outputs": [],
   "source": [
    "# Dot predictions\n",
    "y_dot_preds = [np.dot(a, b) for a,b in zip(X_test_all_ctx[:,:1536//2], X_test_all_ctx[:,1536//2:])]"
   ]
  },
  {
   "cell_type": "code",
   "execution_count": 19,
   "metadata": {},
   "outputs": [],
   "source": [
    "def plot_roc(name, labels, predictions, **kwargs):\n",
    "  fp, tp, _ = roc_curve(labels, predictions)\n",
    "  plt.plot(fp, tp, label=f'{name} AUC: {roc_auc_score(labels, predictions):.3f}', linewidth=2, **kwargs)\n",
    "  plt.xlabel('False positives [%]')\n",
    "  plt.ylabel('True positives [%]')\n",
    "  plt.xlim([-0.05,1])\n",
    "  plt.ylim([0,1.05])\n",
    "  plt.grid(True)\n",
    "  ax = plt.gca()\n",
    "  ax.set_aspect('equal')"
   ]
  },
  {
   "cell_type": "code",
   "execution_count": 20,
   "metadata": {},
   "outputs": [
    {
     "data": {
      "image/png": "[encoded data removed]",
      "text/plain": [
       "<Figure size 1000x600 with 1 Axes>"
      ]
     },
     "metadata": {},
     "output_type": "display_data"
    }
   ],
   "source": [
    "# Plot ROC curve\n",
    "plt.figure(figsize=(10,6))\n",
    "plot_roc(\"NS\", y_test_all_ctx, y_nnb_preds)\n",
    "plot_roc(\"Weight\", y_test_all_ctx, y_weight_preds)\n",
    "plot_roc(\"Dot\", y_test_all_ctx, y_dot_preds)\n",
    "plt.plot([0, 1], [0, 1], linestyle='--', lw=2, label='Random guess')\n",
    "plt.title(f\"ROC curve for Neural Search for {embedding_length} characters for {book}\")\n",
    "plt.legend(loc='lower right')\n",
    "plt.savefig(f'./Results/{embedding_length}/search_{embedding_length}_{book}.png')\n",
    "plt.show()"
   ]
  },
  {
   "cell_type": "code",
   "execution_count": 21,
   "metadata": {},
   "outputs": [
    {
     "name": "stdout",
     "output_type": "stream",
     "text": [
      "2450 4000\n"
     ]
    }
   ],
   "source": [
    "print(book, embedding_length)\n"
   ]
  }
 ],
 "metadata": {
  "kernelspec": {
   "display_name": ".venv",
   "language": "python",
   "name": "python3"
  },
  "language_info": {
   "codemirror_mode": {
    "name": "ipython",
    "version": 3
   },
   "file_extension": ".py",
   "mimetype": "text/x-python",
   "name": "python",
   "nbconvert_exporter": "python",
   "pygments_lexer": "ipython3",
   "version": "3.10.10"
  },
  "orig_nbformat": 4
 },
 "nbformat": 4,
 "nbformat_minor": 2
}
