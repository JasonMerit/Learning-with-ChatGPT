{
 "cells": [
  {
   "cell_type": "code",
   "execution_count": 1,
   "metadata": {},
   "outputs": [],
   "source": [
    "import pypdfium2 as pdfium\n",
    "from docarray import Document, DocumentArray\n",
    "import os\n",
    "import openai\n",
    "from dotenv import load_dotenv\n",
    "load_dotenv()\n",
    "openai.api_key = os.getenv('OPENAI_API_KEY')"
   ]
  },
  {
   "cell_type": "code",
   "execution_count": 2,
   "metadata": {},
   "outputs": [],
   "source": [
    "pdf = pdfium.PdfDocument(\"./02465_Notes.pdf\")\n",
    "\n",
    "text_all = \"\"\n",
    "for page in pdf:\n",
    "    textpage = page.get_textpage()\n",
    "    text_all += \" \".join(textpage.get_text_range().splitlines())"
   ]
  },
  {
   "cell_type": "code",
   "execution_count": 3,
   "metadata": {},
   "outputs": [],
   "source": [
    "text_segments = list(filter(None, text_all.split('. ')))\n",
    "text_segments = [seg for seg in text_segments if len(seg)>10]"
   ]
  },
  {
   "cell_type": "code",
   "execution_count": 25,
   "metadata": {},
   "outputs": [
    {
     "data": {
      "text/html": [
       "<pre style=\"white-space:pre;overflow-x:auto;line-height:normal;font-family:Menlo,'DejaVu Sans Mono',consolas,'Courier New',monospace\">\n",
       "</pre>\n"
      ],
      "text/plain": [
       "\n"
      ]
     },
     "metadata": {},
     "output_type": "display_data"
    },
    {
     "data": {
      "text/html": [
       "<pre style=\"white-space:pre;overflow-x:auto;line-height:normal;font-family:Menlo,'DejaVu Sans Mono',consolas,'Courier New',monospace\">╭────────────────────── Documents Summary ───────────────────────╮\n",
       "│                                                                │\n",
       "│   Type                   DocumentArrayInMemory                 │\n",
       "│   Length                 <span style=\"color: #008080; text-decoration-color: #008080; font-weight: bold\">2834</span>                                  │\n",
       "│   Homogenous Documents   <span style=\"color: #00ff00; text-decoration-color: #00ff00; font-style: italic\">True</span>                                  │\n",
       "│   Common Attributes      <span style=\"font-weight: bold\">(</span><span style=\"color: #008000; text-decoration-color: #008000\">'id'</span>, <span style=\"color: #008000; text-decoration-color: #008000\">'text'</span>, <span style=\"color: #008000; text-decoration-color: #008000\">'tags'</span>, <span style=\"color: #008000; text-decoration-color: #008000\">'embedding'</span><span style=\"font-weight: bold\">)</span>   │\n",
       "│   Multimodal dataclass   <span style=\"color: #ff0000; text-decoration-color: #ff0000; font-style: italic\">False</span>                                 │\n",
       "│                                                                │\n",
       "╰────────────────────────────────────────────────────────────────╯\n",
       "╭────────────────────── Attributes Summary ───────────────────────╮\n",
       "│                                                                 │\n",
       "│  <span style=\"font-weight: bold\"> Attribute </span> <span style=\"font-weight: bold\"> Data type    </span> <span style=\"font-weight: bold\"> #Unique values </span> <span style=\"font-weight: bold\"> Has empty value </span>  │\n",
       "│  ─────────────────────────────────────────────────────────────  │\n",
       "│   embedding   <span style=\"font-weight: bold\">(</span><span style=\"color: #008000; text-decoration-color: #008000\">'ndarray'</span>,<span style=\"font-weight: bold\">)</span>   <span style=\"color: #008080; text-decoration-color: #008080; font-weight: bold\">2834</span>             <span style=\"color: #ff0000; text-decoration-color: #ff0000; font-style: italic\">False</span>             │\n",
       "│   id          <span style=\"font-weight: bold\">(</span><span style=\"color: #008000; text-decoration-color: #008000\">'str'</span>,<span style=\"font-weight: bold\">)</span>       <span style=\"color: #008080; text-decoration-color: #008080; font-weight: bold\">2834</span>             <span style=\"color: #ff0000; text-decoration-color: #ff0000; font-style: italic\">False</span>             │\n",
       "│   tags        <span style=\"font-weight: bold\">(</span><span style=\"color: #008000; text-decoration-color: #008000\">'dict'</span>,<span style=\"font-weight: bold\">)</span>      <span style=\"color: #008080; text-decoration-color: #008080; font-weight: bold\">2834</span>             <span style=\"color: #ff0000; text-decoration-color: #ff0000; font-style: italic\">False</span>             │\n",
       "│   text        <span style=\"font-weight: bold\">(</span><span style=\"color: #008000; text-decoration-color: #008000\">'str'</span>,<span style=\"font-weight: bold\">)</span>       <span style=\"color: #008080; text-decoration-color: #008080; font-weight: bold\">2820</span>             <span style=\"color: #ff0000; text-decoration-color: #ff0000; font-style: italic\">False</span>             │\n",
       "│                                                                 │\n",
       "╰─────────────────────────────────────────────────────────────────╯\n",
       "</pre>\n"
      ],
      "text/plain": [
       "╭────────────────────── Documents Summary ───────────────────────╮\n",
       "│                                                                │\n",
       "│   Type                   DocumentArrayInMemory                 │\n",
       "│   Length                 \u001b[1;36m2834\u001b[0m                                  │\n",
       "│   Homogenous Documents   \u001b[3;92mTrue\u001b[0m                                  │\n",
       "│   Common Attributes      \u001b[1m(\u001b[0m\u001b[32m'id'\u001b[0m, \u001b[32m'text'\u001b[0m, \u001b[32m'tags'\u001b[0m, \u001b[32m'embedding'\u001b[0m\u001b[1m)\u001b[0m   │\n",
       "│   Multimodal dataclass   \u001b[3;91mFalse\u001b[0m                                 │\n",
       "│                                                                │\n",
       "╰────────────────────────────────────────────────────────────────╯\n",
       "╭────────────────────── Attributes Summary ───────────────────────╮\n",
       "│                                                                 │\n",
       "│  \u001b[1m \u001b[0m\u001b[1mAttribute\u001b[0m\u001b[1m \u001b[0m \u001b[1m \u001b[0m\u001b[1mData type   \u001b[0m\u001b[1m \u001b[0m \u001b[1m \u001b[0m\u001b[1m#Unique values\u001b[0m\u001b[1m \u001b[0m \u001b[1m \u001b[0m\u001b[1mHas empty value\u001b[0m\u001b[1m \u001b[0m  │\n",
       "│  ─────────────────────────────────────────────────────────────  │\n",
       "│   embedding   \u001b[1m(\u001b[0m\u001b[32m'ndarray'\u001b[0m,\u001b[1m)\u001b[0m   \u001b[1;36m2834\u001b[0m             \u001b[3;91mFalse\u001b[0m             │\n",
       "│   id          \u001b[1m(\u001b[0m\u001b[32m'str'\u001b[0m,\u001b[1m)\u001b[0m       \u001b[1;36m2834\u001b[0m             \u001b[3;91mFalse\u001b[0m             │\n",
       "│   tags        \u001b[1m(\u001b[0m\u001b[32m'dict'\u001b[0m,\u001b[1m)\u001b[0m      \u001b[1;36m2834\u001b[0m             \u001b[3;91mFalse\u001b[0m             │\n",
       "│   text        \u001b[1m(\u001b[0m\u001b[32m'str'\u001b[0m,\u001b[1m)\u001b[0m       \u001b[1;36m2820\u001b[0m             \u001b[3;91mFalse\u001b[0m             │\n",
       "│                                                                 │\n",
       "╰─────────────────────────────────────────────────────────────────╯\n"
      ]
     },
     "metadata": {},
     "output_type": "display_data"
    }
   ],
   "source": [
    "#docs = DocumentArray(Document(text = s, embedding=[0,0,0]) for s in text_segments)\n",
    "#docs.apply(lambda doc: test(doc))\n",
    "\n",
    "\n",
    "\n",
    "len_seg = len(text_segments)\n",
    "\n",
    "def get_color(idx):\n",
    "    color_idx = int((idx/len_seg)*(255*5))\n",
    "    color_round = color_idx//256\n",
    "\n",
    "    r = 0\n",
    "    g = 0\n",
    "    b = 0\n",
    "    if color_round == 0:\n",
    "        r = 255\n",
    "        g = idx % 255\n",
    "        b = 0\n",
    "    elif color_round == 1:\n",
    "        r = 255 - (idx % 255)\n",
    "        g = 255\n",
    "        b = 0\n",
    "    elif color_round == 2:\n",
    "        r = 0\n",
    "        g = 255\n",
    "        b = idx % 255\n",
    "    elif color_round == 3:\n",
    "        r = 0\n",
    "        g = 255 - (idx % 255)\n",
    "        b = 255\n",
    "    elif color_round == 4:\n",
    "        r = idx % 255\n",
    "        g = 0\n",
    "        b = 255\n",
    "        \n",
    "    \n",
    "    #return f'#{r:02x}{g:02x}{b:02x}'\n",
    "    return (r,g,b)\n",
    "\n",
    "\n",
    "\n",
    "docs = DocumentArray(Document(text = s, idx=i, color = get_color(i)) for i,s in enumerate(text_segments))\n",
    "docs.apply(lambda doc: doc.embed_feature_hashing())"
   ]
  },
  {
   "cell_type": "code",
   "execution_count": 43,
   "metadata": {},
   "outputs": [],
   "source": [
    "cols = []\n",
    "for d in docs:\n",
    "    cols.append(d.tags['color'])"
   ]
  },
  {
   "cell_type": "code",
   "execution_count": 26,
   "metadata": {},
   "outputs": [],
   "source": [
    "#question = 'Is Euler-discretization exact when both the dynamics and cost-function for the continuous-time control problem are linear?'\n",
    "question = 'Wat is a cat?'\n",
    "query_ns = (Document(text=question).embed_feature_hashing().match(docs, limit=50, exclude_self=True, metric=\"jaccard\", use_scipy=True))"
   ]
  },
  {
   "cell_type": "code",
   "execution_count": 27,
   "metadata": {},
   "outputs": [],
   "source": [
    "colors = [t['color'] for t in query_ns.matches[:,'tags']]"
   ]
  },
  {
   "cell_type": "code",
   "execution_count": 19,
   "metadata": {},
   "outputs": [],
   "source": [
    "import seaborn as sns"
   ]
  },
  {
   "cell_type": "code",
   "execution_count": 21,
   "metadata": {},
   "outputs": [],
   "source": [
    "sns.set()"
   ]
  },
  {
   "cell_type": "code",
   "execution_count": 28,
   "metadata": {},
   "outputs": [
    {
     "data": {
      "image/png": "[encoded data removed]",
      "text/plain": [
       "<Figure size 3600x72 with 1 Axes>"
      ]
     },
     "metadata": {},
     "output_type": "display_data"
    }
   ],
   "source": [
    "sns.palplot(colors)"
   ]
  },
  {
   "cell_type": "code",
   "execution_count": 8,
   "metadata": {},
   "outputs": [],
   "source": [
    "import numpy as np\n",
    "import matplotlib.pyplot as plt\n",
    "from matplotlib.colors import to_rgba_array"
   ]
  },
  {
   "cell_type": "code",
   "execution_count": 29,
   "metadata": {},
   "outputs": [
    {
     "name": "stderr",
     "output_type": "stream",
     "text": [
      "Clipping input data to the valid range for imshow with RGB data ([0..1] for floats or [0..255] for integers).\n"
     ]
    },
    {
     "data": {
      "image/png": "[encoded data removed]",
      "text/plain": [
       "<Figure size 432x288 with 1 Axes>"
      ]
     },
     "metadata": {},
     "output_type": "display_data"
    }
   ],
   "source": [
    "plt.imshow(to_rgba_array(colors).reshape(5,10,4))\n",
    "plt.show()"
   ]
  }
 ],
 "metadata": {
  "kernelspec": {
   "display_name": "Python 3",
   "language": "python",
   "name": "python3"
  },
  "language_info": {
   "codemirror_mode": {
    "name": "ipython",
    "version": 3
   },
   "file_extension": ".py",
   "mimetype": "text/x-python",
   "name": "python",
   "nbconvert_exporter": "python",
   "pygments_lexer": "ipython3",
   "version": "3.10.4"
  },
  "orig_nbformat": 4,
  "vscode": {
   "interpreter": {
    "hash": "a5229c8ac4c6cd4ed3d13ae1e09e485e92bbc57514db58d5cc1a4a7ec89d5213"
   }
  }
 },
 "nbformat": 4,
 "nbformat_minor": 2
}
