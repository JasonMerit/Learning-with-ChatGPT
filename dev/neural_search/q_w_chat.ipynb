{
  "cells": [
    {
      "cell_type": "code",
      "execution_count": 1,
      "metadata": {},
      "outputs": [],
      "source": [
        "import pypdfium2 as pdfium\n",
        "import re\n",
        "import pandas as pd\n",
        "import pickle\n",
        "import openai\n",
        "import time\n",
        "import os\n",
        "import numpy as np\n",
        "from dotenv import load_dotenv\n",
        "load_dotenv()\n",
        "openai.api_key = os.getenv('OPENAI_API_KEY')"
      ]
    },
    {
      "cell_type": "code",
      "execution_count": 43,
      "metadata": {},
      "outputs": [],
      "source": [
        "pdf = pdfium.PdfDocument(\"../books/02450_Book.pdf\")\n",
        "\n",
        "text_all = \"\"\n",
        "for page in pdf:\n",
        "    textpage = page.get_textpage()\n",
        "    text_all += \" \".join(textpage.get_text_range().splitlines())"
      ]
    },
    {
      "cell_type": "code",
      "execution_count": 45,
      "metadata": {},
      "outputs": [
        {
          "data": {
            "text/plain": [
              "'inery and intelligence. Mind, pages 433–460, 1950.'"
            ]
          },
          "execution_count": 45,
          "metadata": {},
          "output_type": "execute_result"
        }
      ],
      "source": [
        "text_all[-50:]"
      ]
    },
    {
      "cell_type": "code",
      "execution_count": 46,
      "metadata": {},
      "outputs": [],
      "source": [
        "text_split = list(re.split('(\\. |\\? |\\! )', text_all))\n",
        "text_sentences = []\n",
        "i = 0\n",
        "n = len(text_split)\n",
        "while i < n-1:\n",
        "    text_sentences.append(text_split[i]+text_split[i+1][:-1])\n",
        "    i+=2\n",
        "if i == n-1:\n",
        "    text_sentences.append(text_split[i])\n",
        "text_sentences = [s for s in text_sentences if len(s)>10]"
      ]
    },
    {
      "cell_type": "code",
      "execution_count": 9,
      "metadata": {},
      "outputs": [],
      "source": [
        "text_sentences = list(re.split('([\\.\\?\\!]) ', text_all))\n",
        "#text_sentences = [''.join(x) for x in zip(text_sentences[0::2], text_sentences[1::2])]\n",
        "text_sentences = [s for s in text_sentences if len(s)>10]"
      ]
    },
    {
      "cell_type": "code",
      "execution_count": 50,
      "metadata": {},
      "outputs": [],
      "source": [
        "text_segments = []\n",
        "seg = \"\"\n",
        "threshold = 3000 #chars\n",
        "for s in text_sentences:\n",
        "    if len(seg)+len(s)>threshold:\n",
        "        text_segments.append(seg.strip())\n",
        "        seg = s\n",
        "    else:\n",
        "        seg+=f' {s}'"
      ]
    },
    {
      "cell_type": "code",
      "execution_count": 125,
      "metadata": {},
      "outputs": [],
      "source": [
        "text_segments_old = text_segments"
      ]
    },
    {
      "cell_type": "code",
      "execution_count": 128,
      "metadata": {},
      "outputs": [],
      "source": [
        "text_segments = [''.join(x) for x in zip(text_segments_old,text_sentences[1::2])]"
      ]
    },
    {
      "cell_type": "code",
      "execution_count": 132,
      "metadata": {},
      "outputs": [
        {
          "data": {
            "text/plain": [
              "'.'"
            ]
          },
          "execution_count": 132,
          "metadata": {},
          "output_type": "execute_result"
        }
      ],
      "source": [
        "text_sentences[1::2][0]"
      ]
    },
    {
      "cell_type": "code",
      "execution_count": 129,
      "metadata": {},
      "outputs": [
        {
          "data": {
            "text/plain": [
              "671"
            ]
          },
          "execution_count": 129,
          "metadata": {},
          "output_type": "execute_result"
        }
      ],
      "source": [
        "len(text_segments)"
      ]
    },
    {
      "cell_type": "code",
      "execution_count": 130,
      "metadata": {},
      "outputs": [
        {
          "data": {
            "text/plain": [
              "1002"
            ]
          },
          "execution_count": 130,
          "metadata": {},
          "output_type": "execute_result"
        }
      ],
      "source": [
        "max([len(seg) for seg in text_segments])"
      ]
    },
    {
      "cell_type": "code",
      "execution_count": 133,
      "metadata": {},
      "outputs": [
        {
          "data": {
            "text/plain": [
              "' Tue Herlau, Mikkel N Schmidt and Morten Mørup Introduction to Machine Learning and Data Mining Lecture notes, Spring 2022, version 1.0 Version for print This document may not be redistributed All rights belongs to the authors and DTU April 5, 2022 Technical University of DenmarkNotation cheat sheet Matlab var Type Size Description X Numeric N × M Data matrix: The rows correspond to N data objects, each of which contains M at\\ufffetributes attributeNames Cell array M × 1 Attribute names: Name (string) for each of the M attributes N Numeric Scalar Number of data objects M Numeric Scalar Number of attributes Regression y Numeric N × 1 Dependent variable (output): For each data object, y contains an output value that we wish to predict Classification y Numeric N × 1 Class index: For each data object, y con\\ufffetains a class index, yn ∈ {0, 1,  , C − 1}, where C is the total number of classes classNames Cell array C × 1 Class names: Name (string) for each of the C classes.'"
            ]
          },
          "execution_count": 133,
          "metadata": {},
          "output_type": "execute_result"
        }
      ],
      "source": [
        "text_segments[0]"
      ]
    },
    {
      "cell_type": "code",
      "execution_count": 27,
      "metadata": {},
      "outputs": [
        {
          "name": "stdout",
          "output_type": "stream",
          "text": [
            "Questions from round 1 saved!\n",
            "Questions from round 2 saved!\n",
            "Questions from round 3 saved!\n",
            "Questions from round 4 saved!\n",
            "Questions from round 5 saved!\n",
            "Questions from round 6 saved!\n",
            "Questions from round 7 saved!\n",
            "Questions from round 8 saved!\n",
            "Questions from round 9 saved!\n",
            "Questions from round 10 saved!\n",
            "Questions from round 11 saved!\n",
            "Questions from round 12 saved!\n",
            "Questions from round 13 saved!\n",
            "Questions from round 14 saved!\n",
            "Questions from round 15 saved!\n",
            "Questions from round 16 saved!\n",
            "Questions from round 17 saved!\n",
            "Questions from round 18 saved!\n",
            "Questions from round 19 saved!\n",
            "Questions from round 20 saved!\n",
            "Questions from round 21 saved!\n",
            "Questions from round 22 saved!\n",
            "Questions from round 23 saved!\n",
            "Questions from round 24 saved!\n",
            "Questions from round 25 saved!\n",
            "Questions from round 26 saved!\n",
            "OPENAI_ERROR: That model is currently overloaded with other requests. You can retry your request, or contact us through our help center at help.openai.com if the error persists. (Please include the request ID 951017b3bcbae2a6a9590ee9b3df84b0 in your message.)\n",
            "Questions from round 28 saved!\n",
            "Questions from round 29 saved!\n",
            "Questions from round 30 saved!\n",
            "Questions from round 31 saved!\n",
            "Questions from round 32 saved!\n",
            "Questions from round 33 saved!\n",
            "Questions from round 34 saved!\n",
            "Questions from round 35 saved!\n",
            "Questions from round 36 saved!\n",
            "Questions from round 37 saved!\n",
            "Questions from round 38 saved!\n",
            "Questions from round 39 saved!\n",
            "Questions from round 40 saved!\n",
            "Questions from round 41 saved!\n",
            "Questions from round 42 saved!\n",
            "Questions from round 43 saved!\n",
            "Questions from round 44 saved!\n",
            "Questions from round 45 saved!\n",
            "Questions from round 46 saved!\n",
            "Questions from round 47 saved!\n",
            "Questions from round 48 saved!\n",
            "Questions from round 49 saved!\n",
            "Questions from round 50 saved!\n",
            "Questions from round 51 saved!\n",
            "Questions from round 52 saved!\n",
            "Questions from round 53 saved!\n",
            "Questions from round 54 saved!\n",
            "Questions from round 55 saved!\n",
            "Questions from round 56 saved!\n",
            "OPENAI_ERROR: That model is currently overloaded with other requests. You can retry your request, or contact us through our help center at help.openai.com if the error persists. (Please include the request ID 7c1c7722d3948bbf157f99598b87588d in your message.)\n",
            "Questions from round 58 saved!\n",
            "Questions from round 59 saved!\n",
            "Questions from round 60 saved!\n",
            "Questions from round 61 saved!\n",
            "Questions from round 62 saved!\n",
            "Questions from round 63 saved!\n",
            "Questions from round 64 saved!\n",
            "Questions from round 65 saved!\n",
            "Questions from round 66 saved!\n",
            "Questions from round 67 saved!\n",
            "Questions from round 68 saved!\n",
            "Questions from round 69 saved!\n",
            "Questions from round 70 saved!\n",
            "Questions from round 71 saved!\n",
            "Questions from round 72 saved!\n",
            "Questions from round 73 saved!\n",
            "Questions from round 74 saved!\n",
            "Questions from round 75 saved!\n",
            "Questions from round 76 saved!\n",
            "Questions from round 77 saved!\n",
            "Questions from round 78 saved!\n",
            "Questions from round 79 saved!\n",
            "Questions from round 80 saved!\n",
            "Questions from round 81 saved!\n",
            "Questions from round 82 saved!\n",
            "Questions from round 83 saved!\n",
            "Questions from round 84 saved!\n",
            "Questions from round 85 saved!\n",
            "Questions from round 86 saved!\n",
            "Questions from round 87 saved!\n",
            "Questions from round 88 saved!\n",
            "Questions from round 89 saved!\n",
            "Questions from round 90 saved!\n",
            "Questions from round 91 saved!\n",
            "Questions from round 92 saved!\n",
            "Questions from round 93 saved!\n",
            "Questions from round 94 saved!\n",
            "Questions from round 95 saved!\n",
            "Questions from round 96 saved!\n",
            "Questions from round 97 saved!\n",
            "Questions from round 98 saved!\n",
            "Questions from round 99 saved!\n",
            "Questions from round 100 saved!\n",
            "Questions from round 101 saved!\n",
            "Questions from round 102 saved!\n",
            "Questions from round 103 saved!\n",
            "Questions from round 104 saved!\n",
            "Questions from round 105 saved!\n",
            "Questions from round 106 saved!\n",
            "Questions from round 107 saved!\n",
            "Questions from round 108 saved!\n",
            "Questions from round 109 saved!\n",
            "Questions from round 110 saved!\n",
            "Questions from round 111 saved!\n",
            "Questions from round 112 saved!\n",
            "Questions from round 113 saved!\n",
            "Questions from round 114 saved!\n",
            "Questions from round 115 saved!\n",
            "Questions from round 116 saved!\n",
            "Questions from round 117 saved!\n",
            "Questions from round 118 saved!\n",
            "Questions from round 119 saved!\n",
            "Questions from round 120 saved!\n",
            "Questions from round 121 saved!\n",
            "Questions from round 122 saved!\n",
            "Questions from round 123 saved!\n",
            "Questions from round 124 saved!\n",
            "Questions from round 125 saved!\n",
            "Questions from round 126 saved!\n",
            "Questions from round 127 saved!\n",
            "Questions from round 128 saved!\n",
            "Questions from round 129 saved!\n",
            "Questions from round 130 saved!\n",
            "Questions from round 131 saved!\n",
            "Questions from round 132 saved!\n",
            "Questions from round 133 saved!\n",
            "Questions from round 134 saved!\n",
            "Questions from round 135 saved!\n",
            "Questions from round 136 saved!\n",
            "OPENAI_ERROR: That model is currently overloaded with other requests. You can retry your request, or contact us through our help center at help.openai.com if the error persists. (Please include the request ID be193e44cc921c5b8b525db863a52a16 in your message.)\n",
            "Questions from round 138 saved!\n",
            "Questions from round 139 saved!\n",
            "Questions from round 140 saved!\n",
            "Questions from round 141 saved!\n",
            "Questions from round 142 saved!\n",
            "Questions from round 143 saved!\n",
            "Questions from round 144 saved!\n",
            "Questions from round 145 saved!\n",
            "Questions from round 146 saved!\n",
            "Questions from round 147 saved!\n",
            "Questions from round 148 saved!\n",
            "Questions from round 149 saved!\n",
            "Questions from round 150 saved!\n",
            "Questions from round 151 saved!\n",
            "Questions from round 152 saved!\n",
            "Questions from round 153 saved!\n",
            "OPENAI_ERROR: That model is currently overloaded with other requests. You can retry your request, or contact us through our help center at help.openai.com if the error persists. (Please include the request ID 687e3fb46f2f593f5d213e4e79afdf4a in your message.)\n",
            "Questions from round 155 saved!\n",
            "Questions from round 156 saved!\n",
            "Questions from round 157 saved!\n",
            "Questions from round 158 saved!\n",
            "Questions from round 159 saved!\n",
            "Questions from round 160 saved!\n",
            "Questions from round 161 saved!\n",
            "Questions from round 162 saved!\n",
            "Questions from round 163 saved!\n",
            "OPENAI_ERROR: That model is currently overloaded with other requests. You can retry your request, or contact us through our help center at help.openai.com if the error persists. (Please include the request ID 1f366f1c31bc795fef784e0266750ab3 in your message.)\n",
            "Questions from round 165 saved!\n",
            "Questions from round 166 saved!\n",
            "Questions from round 167 saved!\n",
            "Questions from round 168 saved!\n",
            "Questions from round 169 saved!\n",
            "Questions from round 170 saved!\n",
            "Questions from round 171 saved!\n",
            "Questions from round 172 saved!\n",
            "Questions from round 173 saved!\n",
            "Questions from round 174 saved!\n",
            "Questions from round 175 saved!\n",
            "Questions from round 176 saved!\n",
            "Questions from round 177 saved!\n",
            "Questions from round 178 saved!\n",
            "Questions from round 179 saved!\n",
            "Questions from round 180 saved!\n",
            "Questions from round 181 saved!\n",
            "Questions from round 182 saved!\n",
            "Questions from round 183 saved!\n",
            "Questions from round 184 saved!\n",
            "Questions from round 185 saved!\n",
            "Questions from round 186 saved!\n",
            "Questions from round 187 saved!\n",
            "Questions from round 188 saved!\n",
            "Questions from round 189 saved!\n",
            "Questions from round 190 saved!\n",
            "Questions from round 191 saved!\n",
            "Questions from round 192 saved!\n",
            "Questions from round 193 saved!\n",
            "Questions from round 194 saved!\n",
            "Questions from round 195 saved!\n",
            "Questions from round 196 saved!\n",
            "Questions from round 197 saved!\n",
            "Questions from round 198 saved!\n",
            "Questions from round 199 saved!\n",
            "OPENAI_ERROR: That model is currently overloaded with other requests. You can retry your request, or contact us through our help center at help.openai.com if the error persists. (Please include the request ID 5d14d485d3af0a2eaeebf7708a688ec3 in your message.)\n",
            "Questions from round 201 saved!\n",
            "Questions from round 202 saved!\n",
            "Questions from round 203 saved!\n",
            "Questions from round 204 saved!\n",
            "Questions from round 205 saved!\n",
            "OPENAI_ERROR: That model is currently overloaded with other requests. You can retry your request, or contact us through our help center at help.openai.com if the error persists. (Please include the request ID 2f43bc87f36f8fef0baedf4717b82540 in your message.)\n",
            "Questions from round 207 saved!\n",
            "Questions from round 208 saved!\n",
            "Questions from round 209 saved!\n",
            "Questions from round 210 saved!\n",
            "Questions from round 211 saved!\n",
            "Questions from round 212 saved!\n",
            "Questions from round 213 saved!\n",
            "Questions from round 214 saved!\n",
            "Questions from round 215 saved!\n",
            "Questions from round 216 saved!\n",
            "Questions from round 217 saved!\n",
            "Questions from round 218 saved!\n",
            "Questions from round 219 saved!\n",
            "Questions from round 220 saved!\n",
            "Questions from round 221 saved!\n",
            "Questions from round 222 saved!\n",
            "Questions from round 223 saved!\n",
            "Questions from round 224 saved!\n",
            "Questions from round 225 saved!\n",
            "Questions from round 226 saved!\n",
            "Questions from round 227 saved!\n",
            "Questions from round 228 saved!\n",
            "Questions from round 229 saved!\n",
            "Questions from round 230 saved!\n",
            "Questions from round 231 saved!\n",
            "Questions from round 232 saved!\n",
            "Questions from round 233 saved!\n",
            "Questions from round 234 saved!\n",
            "Questions from round 235 saved!\n",
            "Questions from round 236 saved!\n",
            "Questions from round 237 saved!\n",
            "Questions from round 238 saved!\n",
            "Questions from round 239 saved!\n",
            "Questions from round 240 saved!\n",
            "Questions from round 241 saved!\n",
            "Questions from round 242 saved!\n",
            "Questions from round 243 saved!\n",
            "Questions from round 244 saved!\n",
            "Questions from round 245 saved!\n",
            "Questions from round 246 saved!\n",
            "Questions from round 247 saved!\n",
            "Questions from round 248 saved!\n",
            "Questions from round 249 saved!\n",
            "Questions from round 250 saved!\n",
            "Questions from round 251 saved!\n",
            "Questions from round 252 saved!\n",
            "Questions from round 253 saved!\n",
            "Questions from round 254 saved!\n",
            "Questions from round 255 saved!\n",
            "Questions from round 256 saved!\n",
            "Questions from round 257 saved!\n",
            "Questions from round 258 saved!\n",
            "Questions from round 259 saved!\n",
            "Questions from round 260 saved!\n",
            "Questions from round 261 saved!\n",
            "Questions from round 262 saved!\n",
            "Questions from round 263 saved!\n",
            "Questions from round 264 saved!\n",
            "Questions from round 265 saved!\n",
            "Questions from round 266 saved!\n",
            "Questions from round 267 saved!\n",
            "Questions from round 268 saved!\n",
            "Questions from round 269 saved!\n",
            "Questions from round 270 saved!\n",
            "Questions from round 271 saved!\n",
            "Questions from round 272 saved!\n",
            "Questions from round 273 saved!\n",
            "Questions from round 274 saved!\n",
            "Questions from round 275 saved!\n",
            "Questions from round 276 saved!\n",
            "Questions from round 277 saved!\n",
            "Questions from round 278 saved!\n",
            "Questions from round 279 saved!\n",
            "Questions from round 280 saved!\n",
            "Questions from round 281 saved!\n",
            "Questions from round 282 saved!\n",
            "Questions from round 283 saved!\n",
            "Questions from round 284 saved!\n",
            "Questions from round 285 saved!\n",
            "Questions from round 286 saved!\n",
            "Questions from round 287 saved!\n",
            "Questions from round 288 saved!\n",
            "Questions from round 289 saved!\n",
            "Questions from round 290 saved!\n",
            "Questions from round 291 saved!\n",
            "Questions from round 292 saved!\n",
            "Questions from round 293 saved!\n",
            "Questions from round 294 saved!\n",
            "Questions from round 295 saved!\n",
            "Questions from round 296 saved!\n",
            "Questions from round 297 saved!\n",
            "Questions from round 298 saved!\n",
            "Questions from round 299 saved!\n",
            "Questions from round 300 saved!\n",
            "Questions from round 301 saved!\n",
            "Questions from round 302 saved!\n",
            "Questions from round 303 saved!\n",
            "Questions from round 304 saved!\n",
            "Questions from round 305 saved!\n",
            "Questions from round 306 saved!\n",
            "Questions from round 307 saved!\n",
            "Questions from round 308 saved!\n",
            "Questions from round 309 saved!\n",
            "Questions from round 310 saved!\n",
            "Questions from round 311 saved!\n",
            "Questions from round 312 saved!\n",
            "Questions from round 313 saved!\n",
            "Questions from round 314 saved!\n",
            "Questions from round 315 saved!\n",
            "Questions from round 316 saved!\n",
            "Questions from round 317 saved!\n",
            "Questions from round 318 saved!\n",
            "Questions from round 319 saved!\n",
            "Questions from round 320 saved!\n",
            "OPENAI_ERROR: That model is currently overloaded with other requests. You can retry your request, or contact us through our help center at help.openai.com if the error persists. (Please include the request ID aeb12a93b87fee06df6e48b53ebda333 in your message.)\n",
            "Questions from round 322 saved!\n",
            "Questions from round 323 saved!\n",
            "Questions from round 324 saved!\n",
            "Questions from round 325 saved!\n",
            "Questions from round 326 saved!\n",
            "Questions from round 327 saved!\n",
            "Questions from round 328 saved!\n",
            "Questions from round 329 saved!\n",
            "Questions from round 330 saved!\n",
            "Questions from round 331 saved!\n",
            "Questions from round 332 saved!\n",
            "Questions from round 333 saved!\n",
            "Questions from round 334 saved!\n",
            "Questions from round 335 saved!\n",
            "Questions from round 336 saved!\n",
            "Questions from round 337 saved!\n",
            "OPENAI_ERROR: That model is currently overloaded with other requests. You can retry your request, or contact us through our help center at help.openai.com if the error persists. (Please include the request ID b8515328801b7abca97a9384bf096698 in your message.)\n",
            "Questions from round 339 saved!\n",
            "Questions from round 340 saved!\n",
            "Questions from round 341 saved!\n",
            "Questions from round 342 saved!\n",
            "Questions from round 343 saved!\n",
            "Questions from round 344 saved!\n",
            "Questions from round 345 saved!\n",
            "Questions from round 346 saved!\n",
            "Questions from round 347 saved!\n",
            "Questions from round 348 saved!\n",
            "Questions from round 349 saved!\n",
            "Questions from round 350 saved!\n",
            "Questions from round 351 saved!\n",
            "Questions from round 352 saved!\n",
            "Questions from round 353 saved!\n",
            "Questions from round 354 saved!\n",
            "Questions from round 355 saved!\n",
            "Questions from round 356 saved!\n",
            "Questions from round 357 saved!\n",
            "Questions from round 358 saved!\n",
            "[Error] questions not generated for 358\n",
            "Questions from round 360 saved!\n",
            "Questions from round 361 saved!\n",
            "Questions from round 362 saved!\n",
            "Questions from round 363 saved!\n",
            "Questions from round 364 saved!\n",
            "Questions from round 365 saved!\n",
            "Questions from round 366 saved!\n",
            "Questions from round 367 saved!\n",
            "Questions from round 368 saved!\n",
            "Questions from round 369 saved!\n",
            "Questions from round 370 saved!\n",
            "Questions from round 371 saved!\n",
            "Questions from round 372 saved!\n",
            "Questions from round 373 saved!\n",
            "Questions from round 374 saved!\n",
            "Questions from round 375 saved!\n",
            "Questions from round 376 saved!\n",
            "Questions from round 377 saved!\n",
            "Questions from round 378 saved!\n",
            "Questions from round 379 saved!\n",
            "Questions from round 380 saved!\n",
            "Questions from round 381 saved!\n",
            "Questions from round 382 saved!\n",
            "Questions from round 383 saved!\n",
            "Questions from round 384 saved!\n",
            "Questions from round 385 saved!\n",
            "Questions from round 386 saved!\n",
            "Questions from round 387 saved!\n",
            "Questions from round 388 saved!\n",
            "Questions from round 389 saved!\n",
            "Questions from round 390 saved!\n",
            "Questions from round 391 saved!\n",
            "Questions from round 392 saved!\n",
            "Questions from round 393 saved!\n",
            "Questions from round 394 saved!\n",
            "Questions from round 395 saved!\n",
            "OPENAI_ERROR: That model is currently overloaded with other requests. You can retry your request, or contact us through our help center at help.openai.com if the error persists. (Please include the request ID b459743ba0ad02b695c165f2d3701cda in your message.)\n",
            "Questions from round 397 saved!\n",
            "Questions from round 398 saved!\n",
            "Questions from round 399 saved!\n",
            "Questions from round 400 saved!\n",
            "Questions from round 401 saved!\n",
            "Questions from round 402 saved!\n",
            "Questions from round 403 saved!\n",
            "Questions from round 404 saved!\n",
            "Questions from round 405 saved!\n",
            "Questions from round 406 saved!\n",
            "Questions from round 407 saved!\n",
            "Questions from round 408 saved!\n",
            "Questions from round 409 saved!\n",
            "Questions from round 410 saved!\n",
            "Questions from round 411 saved!\n",
            "Questions from round 412 saved!\n",
            "Questions from round 413 saved!\n",
            "Questions from round 414 saved!\n",
            "Questions from round 415 saved!\n",
            "Questions from round 416 saved!\n",
            "Questions from round 417 saved!\n",
            "Questions from round 418 saved!\n",
            "Questions from round 419 saved!\n",
            "Questions from round 420 saved!\n",
            "Questions from round 421 saved!\n",
            "Questions from round 422 saved!\n",
            "Questions from round 423 saved!\n",
            "Questions from round 424 saved!\n",
            "OPENAI_ERROR: That model is currently overloaded with other requests. You can retry your request, or contact us through our help center at help.openai.com if the error persists. (Please include the request ID ff213df92be841b421be5bbd7980cc78 in your message.)\n",
            "Questions from round 426 saved!\n",
            "Questions from round 427 saved!\n",
            "Questions from round 428 saved!\n",
            "Questions from round 429 saved!\n",
            "Questions from round 430 saved!\n",
            "Questions from round 431 saved!\n",
            "Questions from round 432 saved!\n",
            "OPENAI_ERROR: That model is currently overloaded with other requests. You can retry your request, or contact us through our help center at help.openai.com if the error persists. (Please include the request ID 9f8f591e342ab2e62ae2bf562d7cc050 in your message.)\n",
            "Questions from round 434 saved!\n",
            "Questions from round 435 saved!\n",
            "Questions from round 436 saved!\n",
            "Questions from round 437 saved!\n",
            "Questions from round 438 saved!\n",
            "Questions from round 439 saved!\n",
            "Questions from round 440 saved!\n",
            "Questions from round 441 saved!\n",
            "Questions from round 442 saved!\n",
            "Questions from round 443 saved!\n",
            "Questions from round 444 saved!\n",
            "Questions from round 445 saved!\n",
            "Questions from round 446 saved!\n",
            "Questions from round 447 saved!\n",
            "Questions from round 448 saved!\n",
            "Questions from round 449 saved!\n",
            "Questions from round 450 saved!\n",
            "Questions from round 451 saved!\n",
            "Questions from round 452 saved!\n",
            "Questions from round 453 saved!\n",
            "Questions from round 454 saved!\n",
            "Questions from round 455 saved!\n",
            "Questions from round 456 saved!\n",
            "Questions from round 457 saved!\n",
            "Questions from round 458 saved!\n",
            "Questions from round 459 saved!\n",
            "Questions from round 460 saved!\n",
            "Questions from round 461 saved!\n",
            "Questions from round 462 saved!\n",
            "Questions from round 463 saved!\n",
            "OPENAI_ERROR: That model is currently overloaded with other requests. You can retry your request, or contact us through our help center at help.openai.com if the error persists. (Please include the request ID e3f00b62eb6b0038b8699faf732909c3 in your message.)\n",
            "Questions from round 465 saved!\n",
            "Questions from round 466 saved!\n",
            "Questions from round 467 saved!\n",
            "Questions from round 468 saved!\n",
            "Questions from round 469 saved!\n",
            "Questions from round 470 saved!\n",
            "Questions from round 471 saved!\n",
            "Questions from round 472 saved!\n",
            "Questions from round 473 saved!\n",
            "Questions from round 474 saved!\n",
            "Questions from round 475 saved!\n",
            "Questions from round 476 saved!\n",
            "Questions from round 477 saved!\n",
            "Questions from round 478 saved!\n",
            "Questions from round 479 saved!\n",
            "Questions from round 480 saved!\n",
            "Questions from round 481 saved!\n",
            "Questions from round 482 saved!\n",
            "Questions from round 483 saved!\n",
            "Questions from round 484 saved!\n",
            "Questions from round 485 saved!\n",
            "Questions from round 486 saved!\n",
            "Questions from round 487 saved!\n",
            "Questions from round 488 saved!\n",
            "Questions from round 489 saved!\n",
            "Questions from round 490 saved!\n",
            "Questions from round 491 saved!\n",
            "Questions from round 492 saved!\n",
            "Questions from round 493 saved!\n",
            "Questions from round 494 saved!\n",
            "Questions from round 495 saved!\n",
            "Questions from round 496 saved!\n",
            "Questions from round 497 saved!\n",
            "Questions from round 498 saved!\n",
            "Questions from round 499 saved!\n",
            "Questions from round 500 saved!\n",
            "Questions from round 501 saved!\n",
            "Questions from round 502 saved!\n",
            "Questions from round 503 saved!\n",
            "Questions from round 504 saved!\n",
            "Questions from round 505 saved!\n",
            "Questions from round 506 saved!\n",
            "Questions from round 507 saved!\n",
            "Questions from round 508 saved!\n",
            "Questions from round 509 saved!\n",
            "Questions from round 510 saved!\n",
            "Questions from round 511 saved!\n",
            "Questions from round 512 saved!\n",
            "Questions from round 513 saved!\n",
            "Questions from round 514 saved!\n",
            "Questions from round 515 saved!\n",
            "Questions from round 516 saved!\n",
            "Questions from round 517 saved!\n",
            "Questions from round 518 saved!\n",
            "Questions from round 519 saved!\n",
            "Questions from round 520 saved!\n",
            "Questions from round 521 saved!\n",
            "Questions from round 522 saved!\n",
            "Questions from round 523 saved!\n",
            "Questions from round 524 saved!\n",
            "Questions from round 525 saved!\n",
            "Questions from round 526 saved!\n",
            "Questions from round 527 saved!\n",
            "Questions from round 528 saved!\n",
            "Questions from round 529 saved!\n",
            "Questions from round 530 saved!\n",
            "Questions from round 531 saved!\n",
            "Questions from round 532 saved!\n",
            "Questions from round 533 saved!\n",
            "Questions from round 534 saved!\n",
            "Questions from round 535 saved!\n",
            "Questions from round 536 saved!\n",
            "Questions from round 537 saved!\n",
            "Questions from round 538 saved!\n",
            "Questions from round 539 saved!\n",
            "Questions from round 540 saved!\n",
            "Questions from round 541 saved!\n",
            "Questions from round 542 saved!\n",
            "Questions from round 543 saved!\n",
            "Questions from round 544 saved!\n",
            "Questions from round 545 saved!\n",
            "Questions from round 546 saved!\n",
            "Questions from round 547 saved!\n",
            "Questions from round 548 saved!\n",
            "Questions from round 549 saved!\n",
            "Questions from round 550 saved!\n",
            "Questions from round 551 saved!\n",
            "Questions from round 552 saved!\n",
            "Questions from round 553 saved!\n",
            "Questions from round 554 saved!\n",
            "Questions from round 555 saved!\n",
            "Questions from round 556 saved!\n",
            "Questions from round 557 saved!\n",
            "Questions from round 558 saved!\n",
            "Questions from round 559 saved!\n",
            "Questions from round 560 saved!\n",
            "Questions from round 561 saved!\n",
            "Questions from round 562 saved!\n",
            "Questions from round 563 saved!\n",
            "Questions from round 564 saved!\n",
            "Questions from round 565 saved!\n",
            "Questions from round 566 saved!\n",
            "Questions from round 567 saved!\n",
            "Questions from round 568 saved!\n",
            "OPENAI_ERROR: That model is currently overloaded with other requests. You can retry your request, or contact us through our help center at help.openai.com if the error persists. (Please include the request ID 64dc70cc5ead61a272e576c54bd6a540 in your message.)\n",
            "Questions from round 570 saved!\n",
            "Questions from round 571 saved!\n",
            "Questions from round 572 saved!\n",
            "Questions from round 573 saved!\n",
            "Questions from round 574 saved!\n",
            "Questions from round 575 saved!\n",
            "Questions from round 576 saved!\n",
            "Questions from round 577 saved!\n",
            "Questions from round 578 saved!\n",
            "Questions from round 579 saved!\n",
            "Questions from round 580 saved!\n",
            "Questions from round 581 saved!\n",
            "Questions from round 582 saved!\n",
            "Questions from round 583 saved!\n",
            "Questions from round 584 saved!\n",
            "Questions from round 585 saved!\n",
            "Questions from round 586 saved!\n",
            "Questions from round 587 saved!\n",
            "Questions from round 588 saved!\n",
            "Questions from round 589 saved!\n",
            "Questions from round 590 saved!\n",
            "Questions from round 591 saved!\n",
            "Questions from round 592 saved!\n",
            "Questions from round 593 saved!\n",
            "Questions from round 594 saved!\n",
            "Questions from round 595 saved!\n",
            "Questions from round 596 saved!\n",
            "Questions from round 597 saved!\n",
            "Questions from round 598 saved!\n",
            "Questions from round 599 saved!\n",
            "OPENAI_ERROR: That model is currently overloaded with other requests. You can retry your request, or contact us through our help center at help.openai.com if the error persists. (Please include the request ID 7e6663ff9e7c5fd6bd3a9827fecb4233 in your message.)\n",
            "Questions from round 601 saved!\n",
            "Questions from round 602 saved!\n",
            "Questions from round 603 saved!\n",
            "Questions from round 604 saved!\n",
            "Questions from round 605 saved!\n",
            "Questions from round 606 saved!\n",
            "Questions from round 607 saved!\n",
            "Questions from round 608 saved!\n",
            "Questions from round 609 saved!\n",
            "Questions from round 610 saved!\n",
            "Questions from round 611 saved!\n",
            "Questions from round 612 saved!\n",
            "Questions from round 613 saved!\n",
            "Questions from round 614 saved!\n",
            "Questions from round 615 saved!\n",
            "Questions from round 616 saved!\n",
            "Questions from round 617 saved!\n",
            "Questions from round 618 saved!\n",
            "Questions from round 619 saved!\n",
            "Questions from round 620 saved!\n",
            "Questions from round 621 saved!\n",
            "Questions from round 622 saved!\n",
            "Questions from round 623 saved!\n",
            "Questions from round 624 saved!\n",
            "Questions from round 625 saved!\n",
            "Questions from round 626 saved!\n",
            "OPENAI_ERROR: That model is currently overloaded with other requests. You can retry your request, or contact us through our help center at help.openai.com if the error persists. (Please include the request ID 533510f2cdefdab219855d96dd02d2f5 in your message.)\n",
            "Questions from round 628 saved!\n",
            "Questions from round 629 saved!\n",
            "Questions from round 630 saved!\n",
            "Questions from round 631 saved!\n",
            "Questions from round 632 saved!\n",
            "Questions from round 633 saved!\n",
            "Questions from round 634 saved!\n",
            "Questions from round 635 saved!\n",
            "Questions from round 636 saved!\n",
            "Questions from round 637 saved!\n",
            "Questions from round 638 saved!\n",
            "Questions from round 639 saved!\n",
            "Questions from round 640 saved!\n",
            "Questions from round 641 saved!\n",
            "Questions from round 642 saved!\n",
            "Questions from round 643 saved!\n",
            "Questions from round 644 saved!\n",
            "Questions from round 645 saved!\n",
            "Questions from round 646 saved!\n",
            "Questions from round 647 saved!\n",
            "Questions from round 648 saved!\n",
            "Questions from round 649 saved!\n",
            "Questions from round 650 saved!\n",
            "OPENAI_ERROR: That model is currently overloaded with other requests. You can retry your request, or contact us through our help center at help.openai.com if the error persists. (Please include the request ID 5f5e64083765ba9f84f84ac4b2682d65 in your message.)\n",
            "Questions from round 652 saved!\n",
            "Questions from round 653 saved!\n",
            "Questions from round 654 saved!\n",
            "Questions from round 655 saved!\n",
            "Questions from round 656 saved!\n",
            "Questions from round 657 saved!\n",
            "Questions from round 658 saved!\n",
            "Questions from round 659 saved!\n",
            "Questions from round 660 saved!\n",
            "Questions from round 661 saved!\n",
            "Questions from round 662 saved!\n",
            "Questions from round 663 saved!\n",
            "Questions from round 664 saved!\n",
            "Questions from round 665 saved!\n",
            "Questions from round 666 saved!\n",
            "Questions from round 667 saved!\n",
            "Questions from round 668 saved!\n",
            "Questions from round 669 saved!\n",
            "OPENAI_ERROR: That model is currently overloaded with other requests. You can retry your request, or contact us through our help center at help.openai.com if the error persists. (Please include the request ID 17a1e7b26b7740083bbdea0f74cb4e74 in your message.)\n",
            "Questions from round 671 saved!\n"
          ]
        }
      ],
      "source": [
        "# Ask ChatGPT to make questions to sections\n",
        "combinations = []\n",
        "\n",
        "req_per_min = 0\n",
        "max_req_per_min = 3\n",
        "last_time_stamp = time.time()\n",
        "# For each pair of questions\n",
        "for i in range(0, len(text_segments)):\n",
        "    context = text_segments[i]\n",
        "    \n",
        "    # Check rate limit\n",
        "    req_per_min += 1\n",
        "    while req_per_min>=max_req_per_min:\n",
        "        time_stamp = time.time()\n",
        "        if int(time.time()-last_time_stamp) > 60:\n",
        "            last_time_stamp = time_stamp\n",
        "            req_per_min = 0\n",
        "        else:\n",
        "            time.sleep(10)\n",
        "        \n",
        "    # Ask the oracle for label for the context and two questions\n",
        "    try:\n",
        "        completion = openai.ChatCompletion.create(\n",
        "            model=\"gpt-3.5-turbo\",\n",
        "            temperature=0,\n",
        "            messages=[\n",
        "            {\"role\":\"system\", \"content\":\"You are a system designed to generate questions that can be answered using ANY part of a provided text, and which are specific to it.\"},\n",
        "            {\"role\": \"user\", \"content\": f'Please Generate 5 questions CONTEXT: ```{context}```'}\n",
        "            ]\n",
        "        )\n",
        "    except Exception as e:\n",
        "        print(\"OPENAI_ERROR:\",str(e))\n",
        "        continue\n",
        "\n",
        "    # Parse the response to get labels\n",
        "    res = completion.choices[0].message.content\n",
        "\n",
        "    # Split and remove index\n",
        "    split = res.splitlines()\n",
        "    questions = [re.sub(r'^\\d+\\.\\s', '', q) for q in split]\n",
        "    #print(questions)\n",
        "    \n",
        "    # If 5 questions are not found, assume something went wrong and skip this iteration\n",
        "    if len(questions) != 5:\n",
        "        print(f'[Error] questions not generated for {i}')\n",
        "        continue\n",
        "    \n",
        "    # Save data into a dataframe\n",
        "    combinations += [{'context': context, 'question': question} for question in questions]\n",
        "    print(f\"Questions from round {i+1} saved!\")"
      ]
    },
    {
      "cell_type": "code",
      "execution_count": 74,
      "metadata": {},
      "outputs": [
        {
          "name": "stdout",
          "output_type": "stream",
          "text": [
            "Questions from round 358 saved!\n"
          ]
        }
      ],
      "source": [
        "# Ask ChatGPT to make questions to failed sections in 02450\n",
        "#fails = [26, 56, 136, 153, 163, 199, 205, 320, 337, 358, 395, 424, 432, 463, 568, 599, 626, 650, 669]\n",
        "#fails = [358, 395]\n",
        "fails = [358]\n",
        "\n",
        "req_per_min = 0\n",
        "max_req_per_min = 2\n",
        "last_time_stamp = time.time()\n",
        "# For each pair of questions\n",
        "for f in fails:\n",
        "    context = text_segments[f]\n",
        "    \n",
        "    # Check rate limit\n",
        "    req_per_min += 1\n",
        "    while req_per_min>=max_req_per_min:\n",
        "        time_stamp = time.time()\n",
        "        if int(time.time()-last_time_stamp) > 59:\n",
        "            last_time_stamp = time_stamp\n",
        "            req_per_min = 0\n",
        "        else:\n",
        "            time.sleep(15)\n",
        "        \n",
        "    # Ask the oracle for label for the context and two questions\n",
        "    try:\n",
        "        completion = openai.ChatCompletion.create(\n",
        "            model=\"gpt-3.5-turbo\",\n",
        "            temperature=0,\n",
        "            messages=[\n",
        "            {\"role\":\"system\", \"content\":\"You are a system designed to generate questions that can be answered using ANY part of a provided text, and which are specific to it.\"},\n",
        "            {\"role\": \"user\", \"content\": f'Please Generate 5 questions CONTEXT: ```{context}```'}\n",
        "            ]\n",
        "        )\n",
        "    except Exception as e:\n",
        "        print(\"OPENAI_ERROR:\",str(e))\n",
        "        continue\n",
        "\n",
        "    # Parse the response to get labels\n",
        "    res = completion.choices[0].message.content\n",
        "\n",
        "    # Split and remove index\n",
        "    split = res.splitlines()\n",
        "    questions = [re.sub(r'^\\d+\\.\\s', '', q) for q in split]\n",
        "    #print(questions)\n",
        "    \n",
        "    # If 5 questions are not found, assume something went wrong and skip this iteration\n",
        "    if len(questions) != 5:\n",
        "        print(f'[Error] questions not generated for {f}')\n",
        "        print(questions)\n",
        "        continue\n",
        "    \n",
        "    # Save data into a dataframe\n",
        "    fail_combinations += [{'context': context, 'question': question} for question in questions]\n",
        "    print(f\"Questions from round {f} saved!\")"
      ]
    },
    {
      "cell_type": "code",
      "execution_count": 161,
      "metadata": {},
      "outputs": [],
      "source": [
        "#df = pd.DataFrame(columns=['context', 'question'], data = combinations)\n",
        "\n",
        "with open('./data/final_2450.pkl', 'wb') as fp:\n",
        "    pickle.dump(df, fp)"
      ]
    },
    {
      "cell_type": "code",
      "execution_count": 75,
      "metadata": {},
      "outputs": [],
      "source": [
        "df_fail = pd.DataFrame(columns=['context', 'question'], data = fail_combinations)\n",
        "\n",
        "with open('./data/fails3_2450.pkl', 'wb') as fp:\n",
        "    pickle.dump(df_fail, fp)"
      ]
    },
    {
      "cell_type": "code",
      "execution_count": 4,
      "metadata": {},
      "outputs": [],
      "source": [
        "with open('./data/fails3_2450.pkl', 'rb') as f:\n",
        "    df_fail = pickle.load(f)"
      ]
    },
    {
      "cell_type": "code",
      "execution_count": 157,
      "metadata": {},
      "outputs": [
        {
          "data": {
            "text/plain": [
              "' Root mean square error (rmse) for the train\\ufffeing and test set when using an artificial neural network with three hidden units to predict the Area of an island based only on the four attributes x1, x2, x5 and x6 using the hold-out method with 40 % of the observations hold-out for testing Attribute description Abbrev x1 Number of plant species Plants x2 Number of endemic plant species E-Plants x3 Area of island (in km2 ) Area x4 Max elevation above sea-level (in m) Elev x5 Distance to nearest island (in km) DistNI x6 Distance to Santa Cruz Island (in km) StCruz x7 Area of adjacent island (in km2 ) AreaNI Table 10.7 The seven attributes of the data on a selection of 29 of the Gal´apagos islands A Neither forward nor backward selection will identify the optimal feature combination for this problem B Forward selection will result in a better model being selected than using backward selection C Backward selection will terminate at the model that includes the features x1, x2, and x6'"
            ]
          },
          "execution_count": 157,
          "metadata": {},
          "output_type": "execute_result"
        }
      ],
      "source": [
        "# 26, 56, 136, 153, 163, 199, 205, 320, 337, 424, 432, 463, 568, 599, 626, 650, 669, 395, 358\n",
        "text_segments[359]"
      ]
    },
    {
      "cell_type": "code",
      "execution_count": 152,
      "metadata": {},
      "outputs": [
        {
          "data": {
            "text/plain": [
              "' D For least squares linear regression the test error will always decrease as we include more attributes in the model E Don’t know Question 4: We would like to fit an artificial neural network (ANN) model to the Galagapos dataset shown in Table 10.7 To reduce the computational cost of fitting the models it was decided to not include Elev, i.e x4, and AreaNI, i.e x7 in the ANN models We there\\ufffefore only consider x1, x2, x5 and x6 in order to predict Area, i.e x3 An artificial neural network with three hid\\ufffeden units is applied to the data with these four attributes and trained using different combinations of the four at\\ufffetributes x1, x2, x5 and x6 Table 10.6 gives the training and test performance in terms of root mean squared error (rmse) of the ANN for different combinations of the con\\ufffesidered attributes Which one of the following statements is correct'"
            ]
          },
          "execution_count": 152,
          "metadata": {},
          "output_type": "execute_result"
        }
      ],
      "source": [
        "df_fail.loc[90,'context']"
      ]
    },
    {
      "cell_type": "code",
      "execution_count": 156,
      "metadata": {},
      "outputs": [
        {
          "data": {
            "text/plain": [
              "' Root mean square error (rmse) for the train\\ufffeing and test set when using an artificial neural network with three hidden units to predict the Area of an island based only on the four attributes x1, x2, x5 and x6 using the hold-out method with 40 % of the observations hold-out for testing Attribute description Abbrev x1 Number of plant species Plants x2 Number of endemic plant species E-Plants x3 Area of island (in km2 ) Area x4 Max elevation above sea-level (in m) Elev x5 Distance to nearest island (in km) DistNI x6 Distance to Santa Cruz Island (in km) StCruz x7 Area of adjacent island (in km2 ) AreaNI Table 10.7 The seven attributes of the data on a selection of 29 of the Gal´apagos islands A Neither forward nor backward selection will identify the optimal feature combination for this problem B Forward selection will result in a better model being selected than using backward selection C Backward selection will terminate at the model that includes the features x1, x2, and x6'"
            ]
          },
          "execution_count": 156,
          "metadata": {},
          "output_type": "execute_result"
        }
      ],
      "source": [
        "df.loc[1745,'context']"
      ]
    },
    {
      "cell_type": "code",
      "execution_count": 158,
      "metadata": {},
      "outputs": [
        {
          "data": {
            "text/html": [
              "<div>\n",
              "<style scoped>\n",
              "    .dataframe tbody tr th:only-of-type {\n",
              "        vertical-align: middle;\n",
              "    }\n",
              "\n",
              "    .dataframe tbody tr th {\n",
              "        vertical-align: top;\n",
              "    }\n",
              "\n",
              "    .dataframe thead th {\n",
              "        text-align: right;\n",
              "    }\n",
              "</style>\n",
              "<table border=\"1\" class=\"dataframe\">\n",
              "  <thead>\n",
              "    <tr style=\"text-align: right;\">\n",
              "      <th></th>\n",
              "      <th>context</th>\n",
              "      <th>question</th>\n",
              "    </tr>\n",
              "  </thead>\n",
              "  <tbody>\n",
              "    <tr>\n",
              "      <th>0.0</th>\n",
              "      <td>Tue Herlau, Mikkel N Schmidt and Morten Mørup...</td>\n",
              "      <td>What is the purpose of the Introduction to Mac...</td>\n",
              "    </tr>\n",
              "    <tr>\n",
              "      <th>1.0</th>\n",
              "      <td>Tue Herlau, Mikkel N Schmidt and Morten Mørup...</td>\n",
              "      <td>What is the size of the data matrix X?</td>\n",
              "    </tr>\n",
              "    <tr>\n",
              "      <th>2.0</th>\n",
              "      <td>Tue Herlau, Mikkel N Schmidt and Morten Mørup...</td>\n",
              "      <td>What is the difference between the dependent v...</td>\n",
              "    </tr>\n",
              "    <tr>\n",
              "      <th>3.0</th>\n",
              "      <td>Tue Herlau, Mikkel N Schmidt and Morten Mørup...</td>\n",
              "      <td>What is the range of values that the class ind...</td>\n",
              "    </tr>\n",
              "    <tr>\n",
              "      <th>4.0</th>\n",
              "      <td>Tue Herlau, Mikkel N Schmidt and Morten Mørup...</td>\n",
              "      <td>What is the purpose of the attributeNames cell...</td>\n",
              "    </tr>\n",
              "    <tr>\n",
              "      <th>...</th>\n",
              "      <td>...</td>\n",
              "      <td>...</td>\n",
              "    </tr>\n",
              "    <tr>\n",
              "      <th>1744.1</th>\n",
              "      <td>D For least squares linear regression the tes...</td>\n",
              "      <td>What is the purpose of fitting an artificial n...</td>\n",
              "    </tr>\n",
              "    <tr>\n",
              "      <th>1744.3</th>\n",
              "      <td>D For least squares linear regression the tes...</td>\n",
              "      <td>Which attributes were excluded from the ANN mo...</td>\n",
              "    </tr>\n",
              "    <tr>\n",
              "      <th>1744.5</th>\n",
              "      <td>D For least squares linear regression the tes...</td>\n",
              "      <td>Which attributes were considered in the ANN mo...</td>\n",
              "    </tr>\n",
              "    <tr>\n",
              "      <th>1744.7</th>\n",
              "      <td>D For least squares linear regression the tes...</td>\n",
              "      <td>How many hidden units were used in the ANN model?</td>\n",
              "    </tr>\n",
              "    <tr>\n",
              "      <th>1744.9</th>\n",
              "      <td>D For least squares linear regression the tes...</td>\n",
              "      <td>What is the performance metric used to evaluat...</td>\n",
              "    </tr>\n",
              "  </tbody>\n",
              "</table>\n",
              "<p>3355 rows × 2 columns</p>\n",
              "</div>"
            ],
            "text/plain": [
              "                                                  context  \\\n",
              "0.0      Tue Herlau, Mikkel N Schmidt and Morten Mørup...   \n",
              "1.0      Tue Herlau, Mikkel N Schmidt and Morten Mørup...   \n",
              "2.0      Tue Herlau, Mikkel N Schmidt and Morten Mørup...   \n",
              "3.0      Tue Herlau, Mikkel N Schmidt and Morten Mørup...   \n",
              "4.0      Tue Herlau, Mikkel N Schmidt and Morten Mørup...   \n",
              "...                                                   ...   \n",
              "1744.1   D For least squares linear regression the tes...   \n",
              "1744.3   D For least squares linear regression the tes...   \n",
              "1744.5   D For least squares linear regression the tes...   \n",
              "1744.7   D For least squares linear regression the tes...   \n",
              "1744.9   D For least squares linear regression the tes...   \n",
              "\n",
              "                                                 question  \n",
              "0.0     What is the purpose of the Introduction to Mac...  \n",
              "1.0                What is the size of the data matrix X?  \n",
              "2.0     What is the difference between the dependent v...  \n",
              "3.0     What is the range of values that the class ind...  \n",
              "4.0     What is the purpose of the attributeNames cell...  \n",
              "...                                                   ...  \n",
              "1744.1  What is the purpose of fitting an artificial n...  \n",
              "1744.3  Which attributes were excluded from the ANN mo...  \n",
              "1744.5  Which attributes were considered in the ANN mo...  \n",
              "1744.7  How many hidden units were used in the ANN model?  \n",
              "1744.9  What is the performance metric used to evaluat...  \n",
              "\n",
              "[3355 rows x 2 columns]"
            ]
          },
          "execution_count": 158,
          "metadata": {},
          "output_type": "execute_result"
        }
      ],
      "source": [
        "for i in range(5):\n",
        "    n = round(1744.1+i*0.2,1)\n",
        "    c = i+90\n",
        "    df.loc[n] = df_fail.loc[c, 'context'], df_fail.loc[c, 'question']\n",
        "df"
      ]
    },
    {
      "cell_type": "code",
      "execution_count": 159,
      "metadata": {},
      "outputs": [],
      "source": [
        "df = df.sort_index().reset_index(drop=True)"
      ]
    },
    {
      "cell_type": "code",
      "execution_count": 160,
      "metadata": {},
      "outputs": [
        {
          "data": {
            "text/html": [
              "<div>\n",
              "<style scoped>\n",
              "    .dataframe tbody tr th:only-of-type {\n",
              "        vertical-align: middle;\n",
              "    }\n",
              "\n",
              "    .dataframe tbody tr th {\n",
              "        vertical-align: top;\n",
              "    }\n",
              "\n",
              "    .dataframe thead th {\n",
              "        text-align: right;\n",
              "    }\n",
              "</style>\n",
              "<table border=\"1\" class=\"dataframe\">\n",
              "  <thead>\n",
              "    <tr style=\"text-align: right;\">\n",
              "      <th></th>\n",
              "      <th>context</th>\n",
              "      <th>question</th>\n",
              "    </tr>\n",
              "  </thead>\n",
              "  <tbody>\n",
              "    <tr>\n",
              "      <th>0</th>\n",
              "      <td>Tue Herlau, Mikkel N Schmidt and Morten Mørup...</td>\n",
              "      <td>What is the purpose of the Introduction to Mac...</td>\n",
              "    </tr>\n",
              "    <tr>\n",
              "      <th>1</th>\n",
              "      <td>Tue Herlau, Mikkel N Schmidt and Morten Mørup...</td>\n",
              "      <td>What is the size of the data matrix X?</td>\n",
              "    </tr>\n",
              "    <tr>\n",
              "      <th>2</th>\n",
              "      <td>Tue Herlau, Mikkel N Schmidt and Morten Mørup...</td>\n",
              "      <td>What is the difference between the dependent v...</td>\n",
              "    </tr>\n",
              "    <tr>\n",
              "      <th>3</th>\n",
              "      <td>Tue Herlau, Mikkel N Schmidt and Morten Mørup...</td>\n",
              "      <td>What is the range of values that the class ind...</td>\n",
              "    </tr>\n",
              "    <tr>\n",
              "      <th>4</th>\n",
              "      <td>Tue Herlau, Mikkel N Schmidt and Morten Mørup...</td>\n",
              "      <td>What is the purpose of the attributeNames cell...</td>\n",
              "    </tr>\n",
              "    <tr>\n",
              "      <th>...</th>\n",
              "      <td>...</td>\n",
              "      <td>...</td>\n",
              "    </tr>\n",
              "    <tr>\n",
              "      <th>3350</th>\n",
              "      <td>Rex Bryce, James A Hagans, Thomas C Chalmers,...</td>\n",
              "      <td>What is the title of the article published in ...</td>\n",
              "    </tr>\n",
              "    <tr>\n",
              "      <th>3351</th>\n",
              "      <td>Rex Bryce, James A Hagans, Thomas C Chalmers,...</td>\n",
              "      <td>In which year was the article \"On the theory o...</td>\n",
              "    </tr>\n",
              "    <tr>\n",
              "      <th>3352</th>\n",
              "      <td>Rex Bryce, James A Hagans, Thomas C Chalmers,...</td>\n",
              "      <td>Who are the authors of the article \"Cluster en...</td>\n",
              "    </tr>\n",
              "    <tr>\n",
              "      <th>3353</th>\n",
              "      <td>Rex Bryce, James A Hagans, Thomas C Chalmers,...</td>\n",
              "      <td>What is the name of the book published by Addi...</td>\n",
              "    </tr>\n",
              "    <tr>\n",
              "      <th>3354</th>\n",
              "      <td>Rex Bryce, James A Hagans, Thomas C Chalmers,...</td>\n",
              "      <td>Who wrote the article \"On the early history of...</td>\n",
              "    </tr>\n",
              "  </tbody>\n",
              "</table>\n",
              "<p>3355 rows × 2 columns</p>\n",
              "</div>"
            ],
            "text/plain": [
              "                                                context  \\\n",
              "0      Tue Herlau, Mikkel N Schmidt and Morten Mørup...   \n",
              "1      Tue Herlau, Mikkel N Schmidt and Morten Mørup...   \n",
              "2      Tue Herlau, Mikkel N Schmidt and Morten Mørup...   \n",
              "3      Tue Herlau, Mikkel N Schmidt and Morten Mørup...   \n",
              "4      Tue Herlau, Mikkel N Schmidt and Morten Mørup...   \n",
              "...                                                 ...   \n",
              "3350   Rex Bryce, James A Hagans, Thomas C Chalmers,...   \n",
              "3351   Rex Bryce, James A Hagans, Thomas C Chalmers,...   \n",
              "3352   Rex Bryce, James A Hagans, Thomas C Chalmers,...   \n",
              "3353   Rex Bryce, James A Hagans, Thomas C Chalmers,...   \n",
              "3354   Rex Bryce, James A Hagans, Thomas C Chalmers,...   \n",
              "\n",
              "                                               question  \n",
              "0     What is the purpose of the Introduction to Mac...  \n",
              "1                What is the size of the data matrix X?  \n",
              "2     What is the difference between the dependent v...  \n",
              "3     What is the range of values that the class ind...  \n",
              "4     What is the purpose of the attributeNames cell...  \n",
              "...                                                 ...  \n",
              "3350  What is the title of the article published in ...  \n",
              "3351  In which year was the article \"On the theory o...  \n",
              "3352  Who are the authors of the article \"Cluster en...  \n",
              "3353  What is the name of the book published by Addi...  \n",
              "3354  Who wrote the article \"On the early history of...  \n",
              "\n",
              "[3355 rows x 2 columns]"
            ]
          },
          "execution_count": 160,
          "metadata": {},
          "output_type": "execute_result"
        }
      ],
      "source": [
        "df"
      ]
    },
    {
      "attachments": {},
      "cell_type": "markdown",
      "metadata": {},
      "source": [
        "## Genarate answers for A/B context length test"
      ]
    },
    {
      "cell_type": "code",
      "execution_count": 174,
      "metadata": {},
      "outputs": [],
      "source": [
        "import time\n",
        "import numpy as np\n",
        "import pickle\n",
        "import openai\n",
        "import os\n",
        "from dotenv import load_dotenv\n",
        "load_dotenv()\n",
        "openai.api_key = os.getenv('OPENAI_API_KEY')"
      ]
    },
    {
      "cell_type": "code",
      "execution_count": 2,
      "metadata": {},
      "outputs": [],
      "source": [
        "with open('../../web/chatta/ab_test/context_length/df_data_original.pkl','rb') as f:\n",
        "    df_ab = pickle.loads(f.read())\n",
        "\n",
        "df_ab['answer_short'] = np.nan\n",
        "df_ab['answer_medium'] = np.nan\n",
        "df_ab['answer_long'] = np.nan"
      ]
    },
    {
      "cell_type": "code",
      "execution_count": 42,
      "metadata": {},
      "outputs": [
        {
          "name": "stdout",
          "output_type": "stream",
          "text": [
            "Questions from round 0 saved! Index: 1663\n",
            "Questions from round 1 saved! Index: 1744\n",
            "Questions from round 2 saved! Index: 2174\n",
            "Questions from round 3 saved! Index: 1101\n",
            "Questions from round 4 saved! Index: 2126\n",
            "Questions from round 5 saved! Index: 68\n",
            "Questions from round 6 saved! Index: 537\n",
            "Questions from round 7 saved! Index: 3078\n",
            "Questions from round 8 saved! Index: 1194\n",
            "Questions from round 9 saved! Index: 2334\n",
            "Questions from round 10 saved! Index: 1480\n",
            "Questions from round 11 saved! Index: 2892\n",
            "Questions from round 12 saved! Index: 2036\n",
            "Questions from round 13 saved! Index: 2110\n",
            "Questions from round 14 saved! Index: 2796\n",
            "Questions from round 15 saved! Index: 3008\n",
            "Questions from round 16 saved! Index: 2151\n",
            "Questions from round 17 saved! Index: 2920\n",
            "Questions from round 18 saved! Index: 1470\n",
            "Questions from round 19 saved! Index: 1096\n",
            "Questions from round 20 saved! Index: 2145\n",
            "Questions from round 21 saved! Index: 553\n",
            "Questions from round 22 saved! Index: 2923\n",
            "Questions from round 23 saved! Index: 2362\n",
            "Questions from round 24 saved! Index: 1293\n",
            "Questions from round 25 saved! Index: 2922\n",
            "Questions from round 26 saved! Index: 758\n",
            "Questions from round 27 saved! Index: 140\n",
            "Questions from round 28 saved! Index: 1611\n",
            "OPENAI_ERROR: That model is currently overloaded with other requests. You can retry your request, or contact us through our help center at help.openai.com if the error persists. (Please include the request ID 75e17e16431de8573aee203b70cdcfa7 in your message.)\n",
            "Questions from round 29 saved! Index: 833\n",
            "Questions from round 30 saved! Index: 43\n",
            "Questions from round 31 saved! Index: 2578\n",
            "Questions from round 32 saved! Index: 2368\n",
            "Questions from round 33 saved! Index: 1679\n",
            "OPENAI_ERROR: That model is currently overloaded with other requests. You can retry your request, or contact us through our help center at help.openai.com if the error persists. (Please include the request ID 25b0115ff1ae99b2fc0a08c3f756be9a in your message.)\n",
            "Questions from round 34 saved! Index: 2739\n",
            "Questions from round 35 saved! Index: 2251\n",
            "Questions from round 36 saved! Index: 584\n",
            "Questions from round 37 saved! Index: 2171\n",
            "Questions from round 38 saved! Index: 1158\n",
            "Questions from round 39 saved! Index: 2252\n",
            "Questions from round 40 saved! Index: 2556\n",
            "Questions from round 41 saved! Index: 2972\n",
            "Questions from round 42 saved! Index: 2761\n",
            "Questions from round 43 saved! Index: 2241\n",
            "Questions from round 44 saved! Index: 504\n",
            "Questions from round 45 saved! Index: 2478\n",
            "Questions from round 46 saved! Index: 624\n",
            "Questions from round 47 saved! Index: 2046\n",
            "Questions from round 48 saved! Index: 661\n",
            "Questions from round 49 saved! Index: 2235\n",
            "Questions from round 50 saved! Index: 318\n",
            "Questions from round 51 saved! Index: 1160\n",
            "Questions from round 52 saved! Index: 754\n",
            "Questions from round 53 saved! Index: 1270\n",
            "Questions from round 54 saved! Index: 1942\n",
            "Questions from round 55 saved! Index: 2506\n",
            "Questions from round 56 saved! Index: 489\n",
            "Questions from round 57 saved! Index: 3294\n",
            "Questions from round 58 saved! Index: 1899\n",
            "Questions from round 59 saved! Index: 3226\n",
            "OPENAI_ERROR: That model is currently overloaded with other requests. You can retry your request, or contact us through our help center at help.openai.com if the error persists. (Please include the request ID 0f4718a84acd53df9bfa61d231b0d37e in your message.)\n",
            "Questions from round 60 saved! Index: 2983\n",
            "Questions from round 61 saved! Index: 1697\n",
            "Questions from round 62 saved! Index: 1009\n",
            "Questions from round 63 saved! Index: 3220\n",
            "Questions from round 64 saved! Index: 1485\n",
            "Questions from round 65 saved! Index: 655\n",
            "Questions from round 66 saved! Index: 3289\n",
            "Questions from round 67 saved! Index: 907\n",
            "Questions from round 68 saved! Index: 2164\n",
            "Questions from round 69 saved! Index: 2091\n",
            "OPENAI_ERROR: That model is currently overloaded with other requests. You can retry your request, or contact us through our help center at help.openai.com if the error persists. (Please include the request ID 3290432bd9c13a867c2d7706e3ecdb35 in your message.)\n",
            "Questions from round 70 saved! Index: 100\n",
            "Questions from round 71 saved! Index: 2341\n",
            "Questions from round 72 saved! Index: 1815\n",
            "Questions from round 73 saved! Index: 2084\n",
            "Questions from round 74 saved! Index: 2201\n",
            "OPENAI_ERROR: That model is currently overloaded with other requests. You can retry your request, or contact us through our help center at help.openai.com if the error persists. (Please include the request ID 86e9d13fdc001a31b39cc000149c600f in your message.)\n",
            "Questions from round 75 saved! Index: 2264\n",
            "Questions from round 76 saved! Index: 1547\n",
            "Questions from round 77 saved! Index: 2507\n",
            "Questions from round 78 saved! Index: 1803\n",
            "Questions from round 79 saved! Index: 1018\n",
            "Questions from round 80 saved! Index: 1475\n",
            "Questions from round 81 saved! Index: 2528\n",
            "Questions from round 82 saved! Index: 1946\n",
            "Questions from round 83 saved! Index: 3081\n",
            "Questions from round 84 saved! Index: 2391\n",
            "Questions from round 85 saved! Index: 330\n",
            "Questions from round 86 saved! Index: 990\n",
            "Questions from round 87 saved! Index: 2748\n",
            "Questions from round 88 saved! Index: 2998\n",
            "Questions from round 89 saved! Index: 2289\n",
            "Questions from round 90 saved! Index: 412\n",
            "Questions from round 91 saved! Index: 666\n",
            "Questions from round 92 saved! Index: 227\n"
          ]
        }
      ],
      "source": [
        "# Ask ChatGPT to make answers to 3 lengths of contexs\n",
        "\n",
        "req_per_min = 0\n",
        "max_req_per_min = 3\n",
        "last_time_stamp = time.time()\n",
        "# For each pair of questions\n",
        "i = 0\n",
        "for idx,row in df_ab[df_ab['answer_short'].isna()].sample(n=98).iterrows():\n",
        "    question = row['question']\n",
        "    context_short = row['short']\n",
        "    context_medium = row['medium']\n",
        "    context_long = row['long']\n",
        "    \n",
        "    # Check rate limit\n",
        "    req_per_min += 3\n",
        "    while req_per_min>=max_req_per_min:\n",
        "        time_stamp = time.time()\n",
        "        if int(time.time()-last_time_stamp) > 60:\n",
        "            last_time_stamp = time_stamp\n",
        "            req_per_min = 0\n",
        "        else:\n",
        "            time.sleep(5)\n",
        "        \n",
        "    # Ask the oracle for label for the context and two questions\n",
        "    try:\n",
        "        completion = openai.ChatCompletion.create(\n",
        "            model=\"gpt-3.5-turbo\",\n",
        "            temperature=0,\n",
        "            messages=[\n",
        "                {\"role\": \"user\", \"content\": f'Act as a teacher. A student asks the following question: {question}. Use the following context to answer the question: {context_short}'}\n",
        "            ]\n",
        "        )\n",
        "\n",
        "        answer_short = completion.choices[0].message.content\n",
        "\n",
        "        df_ab.loc[idx,'answer_short'] = answer_short\n",
        "\n",
        "        completion = openai.ChatCompletion.create(\n",
        "            model=\"gpt-3.5-turbo\",\n",
        "            temperature=0,\n",
        "            messages=[\n",
        "                {\"role\": \"user\", \"content\": f'Act as a teacher. A student asks the following question: {question}. Use the following context to answer the question: {context_medium}'}\n",
        "            ]\n",
        "        )\n",
        "\n",
        "        answer_medium = completion.choices[0].message.content\n",
        "\n",
        "        df_ab.loc[idx,'answer_medium'] = answer_medium\n",
        "\n",
        "        completion = openai.ChatCompletion.create(\n",
        "            model=\"gpt-3.5-turbo\",\n",
        "            temperature=0,\n",
        "            messages=[\n",
        "                {\"role\": \"user\", \"content\": f'Act as a teacher. A student asks the following question: {question}. Use the following context to answer the question: {context_long}'}\n",
        "            ]\n",
        "        )\n",
        "\n",
        "        answer_long = completion.choices[0].message.content\n",
        "\n",
        "        df_ab.loc[idx,'answer_long'] = answer_long\n",
        "\n",
        "    except Exception as e:\n",
        "        print(\"OPENAI_ERROR:\",str(e))\n",
        "        continue\n",
        "    print(f\"Questions from round {i} saved! Index: {idx}\")\n",
        "    i+=1"
      ]
    },
    {
      "cell_type": "code",
      "execution_count": 114,
      "metadata": {},
      "outputs": [
        {
          "ename": "IndexError",
          "evalue": "single positional indexer is out-of-bounds",
          "output_type": "error",
          "traceback": [
            "\u001b[1;31m---------------------------------------------------------------------------\u001b[0m",
            "\u001b[1;31mIndexError\u001b[0m                                Traceback (most recent call last)",
            "\u001b[1;32mc:\\Users\\Lauritz\\Documents\\DTU\\4-semester\\fagprojekt\\Learning-with-ChatGPT\\dev\\Neural Search\\q_w_chat.ipynb Cell 23\u001b[0m in \u001b[0;36m<cell line: 1>\u001b[1;34m()\u001b[0m\n\u001b[1;32m----> <a href='vscode-notebook-cell:/c%3A/Users/Lauritz/Documents/DTU/4-semester/fagprojekt/Learning-with-ChatGPT/dev/Neural%20Search/q_w_chat.ipynb#X44sZmlsZQ%3D%3D?line=0'>1</a>\u001b[0m q \u001b[39m=\u001b[39m df_ab[(\u001b[39m~\u001b[39;49mdf_ab[\u001b[39m'\u001b[39;49m\u001b[39manswer_short\u001b[39;49m\u001b[39m'\u001b[39;49m]\u001b[39m.\u001b[39;49misna()) \u001b[39m&\u001b[39;49m (df_ab[\u001b[39m'\u001b[39;49m\u001b[39manswer_long\u001b[39;49m\u001b[39m'\u001b[39;49m]\u001b[39m.\u001b[39;49misna())]\u001b[39m.\u001b[39;49miloc[\u001b[39m0\u001b[39;49m][\u001b[39m'\u001b[39m\u001b[39mquestion\u001b[39m\u001b[39m'\u001b[39m]\n\u001b[0;32m      <a href='vscode-notebook-cell:/c%3A/Users/Lauritz/Documents/DTU/4-semester/fagprojekt/Learning-with-ChatGPT/dev/Neural%20Search/q_w_chat.ipynb#X44sZmlsZQ%3D%3D?line=1'>2</a>\u001b[0m ctx \u001b[39m=\u001b[39m df_ab[(\u001b[39m~\u001b[39mdf_ab[\u001b[39m'\u001b[39m\u001b[39manswer_short\u001b[39m\u001b[39m'\u001b[39m]\u001b[39m.\u001b[39misna()) \u001b[39m&\u001b[39m (df_ab[\u001b[39m'\u001b[39m\u001b[39manswer_long\u001b[39m\u001b[39m'\u001b[39m]\u001b[39m.\u001b[39misna())]\u001b[39m.\u001b[39miloc[\u001b[39m0\u001b[39m][\u001b[39m'\u001b[39m\u001b[39mlong\u001b[39m\u001b[39m'\u001b[39m]\n\u001b[0;32m      <a href='vscode-notebook-cell:/c%3A/Users/Lauritz/Documents/DTU/4-semester/fagprojekt/Learning-with-ChatGPT/dev/Neural%20Search/q_w_chat.ipynb#X44sZmlsZQ%3D%3D?line=2'>3</a>\u001b[0m df_ab[(\u001b[39m~\u001b[39mdf_ab[\u001b[39m'\u001b[39m\u001b[39manswer_short\u001b[39m\u001b[39m'\u001b[39m]\u001b[39m.\u001b[39misna()) \u001b[39m&\u001b[39m (df_ab[\u001b[39m'\u001b[39m\u001b[39manswer_long\u001b[39m\u001b[39m'\u001b[39m]\u001b[39m.\u001b[39misna())]\u001b[39m.\u001b[39miloc[\u001b[39m0\u001b[39m]\n",
            "File \u001b[1;32mc:\\Users\\Lauritz\\AppData\\Local\\Programs\\Python\\Python310\\lib\\site-packages\\pandas\\core\\indexing.py:1073\u001b[0m, in \u001b[0;36m_LocationIndexer.__getitem__\u001b[1;34m(self, key)\u001b[0m\n\u001b[0;32m   1070\u001b[0m axis \u001b[39m=\u001b[39m \u001b[39mself\u001b[39m\u001b[39m.\u001b[39maxis \u001b[39mor\u001b[39;00m \u001b[39m0\u001b[39m\n\u001b[0;32m   1072\u001b[0m maybe_callable \u001b[39m=\u001b[39m com\u001b[39m.\u001b[39mapply_if_callable(key, \u001b[39mself\u001b[39m\u001b[39m.\u001b[39mobj)\n\u001b[1;32m-> 1073\u001b[0m \u001b[39mreturn\u001b[39;00m \u001b[39mself\u001b[39;49m\u001b[39m.\u001b[39;49m_getitem_axis(maybe_callable, axis\u001b[39m=\u001b[39;49maxis)\n",
            "File \u001b[1;32mc:\\Users\\Lauritz\\AppData\\Local\\Programs\\Python\\Python310\\lib\\site-packages\\pandas\\core\\indexing.py:1625\u001b[0m, in \u001b[0;36m_iLocIndexer._getitem_axis\u001b[1;34m(self, key, axis)\u001b[0m\n\u001b[0;32m   1622\u001b[0m     \u001b[39mraise\u001b[39;00m \u001b[39mTypeError\u001b[39;00m(\u001b[39m\"\u001b[39m\u001b[39mCannot index by location index with a non-integer key\u001b[39m\u001b[39m\"\u001b[39m)\n\u001b[0;32m   1624\u001b[0m \u001b[39m# validate the location\u001b[39;00m\n\u001b[1;32m-> 1625\u001b[0m \u001b[39mself\u001b[39;49m\u001b[39m.\u001b[39;49m_validate_integer(key, axis)\n\u001b[0;32m   1627\u001b[0m \u001b[39mreturn\u001b[39;00m \u001b[39mself\u001b[39m\u001b[39m.\u001b[39mobj\u001b[39m.\u001b[39m_ixs(key, axis\u001b[39m=\u001b[39maxis)\n",
            "File \u001b[1;32mc:\\Users\\Lauritz\\AppData\\Local\\Programs\\Python\\Python310\\lib\\site-packages\\pandas\\core\\indexing.py:1557\u001b[0m, in \u001b[0;36m_iLocIndexer._validate_integer\u001b[1;34m(self, key, axis)\u001b[0m\n\u001b[0;32m   1555\u001b[0m len_axis \u001b[39m=\u001b[39m \u001b[39mlen\u001b[39m(\u001b[39mself\u001b[39m\u001b[39m.\u001b[39mobj\u001b[39m.\u001b[39m_get_axis(axis))\n\u001b[0;32m   1556\u001b[0m \u001b[39mif\u001b[39;00m key \u001b[39m>\u001b[39m\u001b[39m=\u001b[39m len_axis \u001b[39mor\u001b[39;00m key \u001b[39m<\u001b[39m \u001b[39m-\u001b[39mlen_axis:\n\u001b[1;32m-> 1557\u001b[0m     \u001b[39mraise\u001b[39;00m \u001b[39mIndexError\u001b[39;00m(\u001b[39m\"\u001b[39m\u001b[39msingle positional indexer is out-of-bounds\u001b[39m\u001b[39m\"\u001b[39m)\n",
            "\u001b[1;31mIndexError\u001b[0m: single positional indexer is out-of-bounds"
          ]
        }
      ],
      "source": [
        "q = df_ab[(~df_ab['answer_short'].isna()) & (df_ab['answer_long'].isna())].iloc[0]['question']\n",
        "ctx = df_ab[(~df_ab['answer_short'].isna()) & (df_ab['answer_long'].isna())].iloc[0]['long']\n",
        "df_ab[(~df_ab['answer_short'].isna()) & (df_ab['answer_long'].isna())].iloc[0]"
      ]
    },
    {
      "cell_type": "code",
      "execution_count": 110,
      "metadata": {},
      "outputs": [],
      "source": [
        "completion = openai.ChatCompletion.create(\n",
        "            model=\"gpt-3.5-turbo\",\n",
        "            temperature=0,\n",
        "            messages=[\n",
        "                {\"role\": \"user\", \"content\": f'Act as a teacher. A student asks the following question: {q}. Use the following context to answer the question: {ctx}'}\n",
        "            ]\n",
        "        )\n",
        "\n",
        "ans = completion.choices[0].message.content"
      ]
    },
    {
      "cell_type": "code",
      "execution_count": 112,
      "metadata": {},
      "outputs": [],
      "source": [
        "df_ab.loc[(~df_ab['answer_short'].isna()) & (df_ab['long'] == ctx), 'answer_long'] = ans"
      ]
    },
    {
      "cell_type": "code",
      "execution_count": 128,
      "metadata": {},
      "outputs": [],
      "source": [
        "import pickle\n",
        "with open('../../web/chatta/ab_test/context_length/df_ab_original.pkl','wb') as f:\n",
        "    f.write(pickle.dumps(df_ab[~df_ab['answer_short'].isna()]))"
      ]
    },
    {
      "attachments": {},
      "cell_type": "markdown",
      "metadata": {},
      "source": [
        "# Generate new questions for 2450 and ww2 A/B test"
      ]
    },
    {
      "cell_type": "code",
      "execution_count": 13,
      "metadata": {},
      "outputs": [],
      "source": [
        "import os\n",
        "import time\n",
        "import pickle\n",
        "import numpy as np\n",
        "import pandas as pd\n",
        "import openai\n",
        "from dotenv import load_dotenv\n",
        "load_dotenv()\n",
        "openai.api_key = os.getenv('OPENAI_API_KEY')"
      ]
    },
    {
      "cell_type": "code",
      "execution_count": 14,
      "metadata": {},
      "outputs": [],
      "source": [
        "with open('./data/ww2_long_contexts.pkl','rb') as f:\n",
        "    contexts = pickle.loads(f.read())"
      ]
    },
    {
      "cell_type": "code",
      "execution_count": 57,
      "metadata": {},
      "outputs": [],
      "source": [
        "df_history_results_u = df_history_results.loc[df_history_results['question'].drop_duplicates().index]"
      ]
    },
    {
      "cell_type": "code",
      "execution_count": 111,
      "metadata": {},
      "outputs": [
        {
          "data": {
            "text/plain": [
              "41    answer_context\n",
              "49    answer_context\n",
              "Name: choice, dtype: object"
            ]
          },
          "execution_count": 111,
          "metadata": {},
          "output_type": "execute_result"
        }
      ],
      "source": [
        "q = df_2450_results.loc[df_2450_results['question'].duplicated(keep=False),'question'].unique()[4]\n",
        "df_2450_results.loc[df_2450_results['question']==q,'choice']"
      ]
    },
    {
      "cell_type": "code",
      "execution_count": 106,
      "metadata": {},
      "outputs": [
        {
          "data": {
            "text/plain": [
              "1"
            ]
          },
          "execution_count": 106,
          "metadata": {},
          "output_type": "execute_result"
        }
      ],
      "source": [
        "np.random.randint(0,2)"
      ]
    },
    {
      "cell_type": "code",
      "execution_count": 58,
      "metadata": {},
      "outputs": [
        {
          "data": {
            "text/plain": [
              "(43, 9)"
            ]
          },
          "execution_count": 58,
          "metadata": {},
          "output_type": "execute_result"
        }
      ],
      "source": [
        "df_history_results_u.shape"
      ]
    },
    {
      "cell_type": "code",
      "execution_count": 109,
      "metadata": {},
      "outputs": [],
      "source": [
        "df_2450_results_u.loc[df_2450_results_u['question']==q,'choice'] = 'answer_context'"
      ]
    },
    {
      "cell_type": "code",
      "execution_count": 59,
      "metadata": {},
      "outputs": [],
      "source": [
        "df_history_results_updated = pd.concat((df_history_results_u,df_history_extra))"
      ]
    },
    {
      "cell_type": "code",
      "execution_count": 60,
      "metadata": {},
      "outputs": [
        {
          "data": {
            "text/plain": [
              "(50,)"
            ]
          },
          "execution_count": 60,
          "metadata": {},
          "output_type": "execute_result"
        }
      ],
      "source": [
        "df_history_results_updated['question'].unique().shape"
      ]
    },
    {
      "cell_type": "code",
      "execution_count": 24,
      "metadata": {},
      "outputs": [
        {
          "data": {
            "text/html": [
              "<div>\n",
              "<style scoped>\n",
              "    .dataframe tbody tr th:only-of-type {\n",
              "        vertical-align: middle;\n",
              "    }\n",
              "\n",
              "    .dataframe tbody tr th {\n",
              "        vertical-align: top;\n",
              "    }\n",
              "\n",
              "    .dataframe thead th {\n",
              "        text-align: right;\n",
              "    }\n",
              "</style>\n",
              "<table border=\"1\" class=\"dataframe\">\n",
              "  <thead>\n",
              "    <tr style=\"text-align: right;\">\n",
              "      <th></th>\n",
              "      <th>question</th>\n",
              "      <th>correct_context</th>\n",
              "      <th>answer</th>\n",
              "      <th>answer_correct_context</th>\n",
              "      <th>fetched</th>\n",
              "      <th>fetched_time</th>\n",
              "      <th>choice</th>\n",
              "      <th>answer_context</th>\n",
              "      <th>context</th>\n",
              "    </tr>\n",
              "  </thead>\n",
              "  <tbody>\n",
              "    <tr>\n",
              "      <th>11</th>\n",
              "      <td>What is the main focus of the third chapter of...</td>\n",
              "      <td>The third chapter of the pamphlet examines t...</td>\n",
              "      <td>The main focus of the third chapter of the pam...</td>\n",
              "      <td>The main focus of the third chapter of the pam...</td>\n",
              "      <td>True</td>\n",
              "      <td>1686747591</td>\n",
              "      <td>answer</td>\n",
              "      <td>The main focus of the third chapter of the pam...</td>\n",
              "      <td>As we have already seen in the previous sect...</td>\n",
              "    </tr>\n",
              "    <tr>\n",
              "      <th>13</th>\n",
              "      <td>What evidence suggests that Hitler was already...</td>\n",
              "      <td>At the same time, Overy has argued that, by t...</td>\n",
              "      <td>There is no concrete evidence that suggests Hi...</td>\n",
              "      <td>There is evidence to suggest that Hitler was a...</td>\n",
              "      <td>True</td>\n",
              "      <td>1686743885</td>\n",
              "      <td>answer_context</td>\n",
              "      <td>There is no direct evidence in the given conte...</td>\n",
              "      <td>In the course of 1940, as the German armies  ...</td>\n",
              "    </tr>\n",
              "    <tr>\n",
              "      <th>20</th>\n",
              "      <td>What were some of the factors that led to risi...</td>\n",
              "      <td>The more the League of Nations tried to put p...</td>\n",
              "      <td>Sure, I can help you with that question. The r...</td>\n",
              "      <td>The rising nationalist protests in Japan and t...</td>\n",
              "      <td>True</td>\n",
              "      <td>1686773241</td>\n",
              "      <td>answer_context</td>\n",
              "      <td>The rising nationalist protests in Japan and t...</td>\n",
              "      <td>The more the League of Nations tried to put p...</td>\n",
              "    </tr>\n",
              "    <tr>\n",
              "      <th>28</th>\n",
              "      <td>What were the reasons behind the United States...</td>\n",
              "      <td>Some historians, such as Arnold Offner, in h...</td>\n",
              "      <td>The United States' policy of appeasement towar...</td>\n",
              "      <td>The reasons behind the United States' policy o...</td>\n",
              "      <td>True</td>\n",
              "      <td>1686747523</td>\n",
              "      <td>answer</td>\n",
              "      <td>The United States' policy of appeasement towar...</td>\n",
              "      <td>The onward march of fascism was underlined b...</td>\n",
              "    </tr>\n",
              "    <tr>\n",
              "      <th>29</th>\n",
              "      <td>What was Hitler's plan for expanding German te...</td>\n",
              "      <td>A racially strong and  expanding German popul...</td>\n",
              "      <td>:\\n\\nHitler's plan for expanding German territ...</td>\n",
              "      <td>Hitler's plan for expanding German territory w...</td>\n",
              "      <td>True</td>\n",
              "      <td>1686772009</td>\n",
              "      <td>answer</td>\n",
              "      <td>Hitler's plan for expanding German territory w...</td>\n",
              "      <td>The onward march of fascism was underlined b...</td>\n",
              "    </tr>\n",
              "    <tr>\n",
              "      <th>30</th>\n",
              "      <td>What was Hitler's ultimate goal in terms of fo...</td>\n",
              "      <td>However, there still  remained some areas of ...</td>\n",
              "      <td>Hitler's ultimate goal in terms of foreign pol...</td>\n",
              "      <td>Hitler's ultimate goal in terms of foreign pol...</td>\n",
              "      <td>True</td>\n",
              "      <td>1686747507</td>\n",
              "      <td>answer</td>\n",
              "      <td>According to historians, Hitler's ultimate goa...</td>\n",
              "      <td>But it is less clear that a pact with Russia...</td>\n",
              "    </tr>\n",
              "    <tr>\n",
              "      <th>33</th>\n",
              "      <td>What was the main argument presented by A.J.P....</td>\n",
              "      <td>Detailed studies began  to show that Hitler’s...</td>\n",
              "      <td>A.J.P. Taylor's main argument in his book Orig...</td>\n",
              "      <td>A.J.P. Taylor's main argument in his book Orig...</td>\n",
              "      <td>True</td>\n",
              "      <td>1686745816</td>\n",
              "      <td>answer</td>\n",
              "      <td>I appreciate your question about A.J.P. Taylor...</td>\n",
              "      <td>As we have already seen in the previous sect...</td>\n",
              "    </tr>\n",
              "    <tr>\n",
              "      <th>36</th>\n",
              "      <td>What is the main focus of the third chapter of...</td>\n",
              "      <td>The third chapter of the pamphlet examines t...</td>\n",
              "      <td>The main focus of the third chapter of the pam...</td>\n",
              "      <td>NaN</td>\n",
              "      <td>False</td>\n",
              "      <td>0</td>\n",
              "      <td>NaN</td>\n",
              "      <td>The main focus of the third chapter of the pam...</td>\n",
              "      <td>Much of it has focused on the diplomatic even...</td>\n",
              "    </tr>\n",
              "    <tr>\n",
              "      <th>37</th>\n",
              "      <td>What was Hitler's plan for expanding German te...</td>\n",
              "      <td>A racially strong and  expanding German popul...</td>\n",
              "      <td>:\\n\\nHitler's plan for expanding German territ...</td>\n",
              "      <td>NaN</td>\n",
              "      <td>False</td>\n",
              "      <td>0</td>\n",
              "      <td>NaN</td>\n",
              "      <td>Hitler's plan for expanding German territory w...</td>\n",
              "      <td>As we shall see,  social tensions, economic w...</td>\n",
              "    </tr>\n",
              "    <tr>\n",
              "      <th>38</th>\n",
              "      <td>What were the reasons behind the United States...</td>\n",
              "      <td>Some historians, such as Arnold Offner, in h...</td>\n",
              "      <td>The United States' policy of appeasement towar...</td>\n",
              "      <td>NaN</td>\n",
              "      <td>False</td>\n",
              "      <td>0</td>\n",
              "      <td>NaN</td>\n",
              "      <td>The United States' policy of appeasement towar...</td>\n",
              "      <td>The third chapter of the pamphlet examines t...</td>\n",
              "    </tr>\n",
              "    <tr>\n",
              "      <th>41</th>\n",
              "      <td>What was Hitler's ultimate goal in terms of fo...</td>\n",
              "      <td>However, there still  remained some areas of ...</td>\n",
              "      <td>Hitler's ultimate goal in terms of foreign pol...</td>\n",
              "      <td>NaN</td>\n",
              "      <td>False</td>\n",
              "      <td>0</td>\n",
              "      <td>NaN</td>\n",
              "      <td>Hitler's ultimate goal in terms of foreign pol...</td>\n",
              "      <td>For, as Taylor pointed out, the  peace settle...</td>\n",
              "    </tr>\n",
              "    <tr>\n",
              "      <th>42</th>\n",
              "      <td>What evidence suggests that Hitler was already...</td>\n",
              "      <td>At the same time, Overy has argued that, by t...</td>\n",
              "      <td>There is no concrete evidence that suggests Hi...</td>\n",
              "      <td>NaN</td>\n",
              "      <td>False</td>\n",
              "      <td>0</td>\n",
              "      <td>NaN</td>\n",
              "      <td>There is no direct evidence that suggests Hitl...</td>\n",
              "      <td>Baldwin and Chamberlain were repeatedly warne...</td>\n",
              "    </tr>\n",
              "    <tr>\n",
              "      <th>45</th>\n",
              "      <td>What were some of the factors that led to risi...</td>\n",
              "      <td>The more the League of Nations tried to put p...</td>\n",
              "      <td>Sure, I can help you with that question. The r...</td>\n",
              "      <td>NaN</td>\n",
              "      <td>False</td>\n",
              "      <td>0</td>\n",
              "      <td>NaN</td>\n",
              "      <td>The rising nationalist protests in Japan and t...</td>\n",
              "      <td>For, as Taylor pointed out, the  peace settle...</td>\n",
              "    </tr>\n",
              "    <tr>\n",
              "      <th>46</th>\n",
              "      <td>What was the main argument presented by A.J.P....</td>\n",
              "      <td>Detailed studies began  to show that Hitler’s...</td>\n",
              "      <td>A.J.P. Taylor's main argument in his book Orig...</td>\n",
              "      <td>NaN</td>\n",
              "      <td>False</td>\n",
              "      <td>0</td>\n",
              "      <td>NaN</td>\n",
              "      <td>A.J.P. Taylor's main argument in his book Orig...</td>\n",
              "      <td>As we shall see,  social tensions, economic w...</td>\n",
              "    </tr>\n",
              "  </tbody>\n",
              "</table>\n",
              "</div>"
            ],
            "text/plain": [
              "                                             question  \\\n",
              "11  What is the main focus of the third chapter of...   \n",
              "13  What evidence suggests that Hitler was already...   \n",
              "20  What were some of the factors that led to risi...   \n",
              "28  What were the reasons behind the United States...   \n",
              "29  What was Hitler's plan for expanding German te...   \n",
              "30  What was Hitler's ultimate goal in terms of fo...   \n",
              "33  What was the main argument presented by A.J.P....   \n",
              "36  What is the main focus of the third chapter of...   \n",
              "37  What was Hitler's plan for expanding German te...   \n",
              "38  What were the reasons behind the United States...   \n",
              "41  What was Hitler's ultimate goal in terms of fo...   \n",
              "42  What evidence suggests that Hitler was already...   \n",
              "45  What were some of the factors that led to risi...   \n",
              "46  What was the main argument presented by A.J.P....   \n",
              "\n",
              "                                      correct_context  \\\n",
              "11    The third chapter of the pamphlet examines t...   \n",
              "13   At the same time, Overy has argued that, by t...   \n",
              "20   The more the League of Nations tried to put p...   \n",
              "28    Some historians, such as Arnold Offner, in h...   \n",
              "29   A racially strong and  expanding German popul...   \n",
              "30   However, there still  remained some areas of ...   \n",
              "33   Detailed studies began  to show that Hitler’s...   \n",
              "36    The third chapter of the pamphlet examines t...   \n",
              "37   A racially strong and  expanding German popul...   \n",
              "38    Some historians, such as Arnold Offner, in h...   \n",
              "41   However, there still  remained some areas of ...   \n",
              "42   At the same time, Overy has argued that, by t...   \n",
              "45   The more the League of Nations tried to put p...   \n",
              "46   Detailed studies began  to show that Hitler’s...   \n",
              "\n",
              "                                               answer  \\\n",
              "11  The main focus of the third chapter of the pam...   \n",
              "13  There is no concrete evidence that suggests Hi...   \n",
              "20  Sure, I can help you with that question. The r...   \n",
              "28  The United States' policy of appeasement towar...   \n",
              "29  :\\n\\nHitler's plan for expanding German territ...   \n",
              "30  Hitler's ultimate goal in terms of foreign pol...   \n",
              "33  A.J.P. Taylor's main argument in his book Orig...   \n",
              "36  The main focus of the third chapter of the pam...   \n",
              "37  :\\n\\nHitler's plan for expanding German territ...   \n",
              "38  The United States' policy of appeasement towar...   \n",
              "41  Hitler's ultimate goal in terms of foreign pol...   \n",
              "42  There is no concrete evidence that suggests Hi...   \n",
              "45  Sure, I can help you with that question. The r...   \n",
              "46  A.J.P. Taylor's main argument in his book Orig...   \n",
              "\n",
              "                               answer_correct_context  fetched  fetched_time  \\\n",
              "11  The main focus of the third chapter of the pam...     True    1686747591   \n",
              "13  There is evidence to suggest that Hitler was a...     True    1686743885   \n",
              "20  The rising nationalist protests in Japan and t...     True    1686773241   \n",
              "28  The reasons behind the United States' policy o...     True    1686747523   \n",
              "29  Hitler's plan for expanding German territory w...     True    1686772009   \n",
              "30  Hitler's ultimate goal in terms of foreign pol...     True    1686747507   \n",
              "33  A.J.P. Taylor's main argument in his book Orig...     True    1686745816   \n",
              "36                                                NaN    False             0   \n",
              "37                                                NaN    False             0   \n",
              "38                                                NaN    False             0   \n",
              "41                                                NaN    False             0   \n",
              "42                                                NaN    False             0   \n",
              "45                                                NaN    False             0   \n",
              "46                                                NaN    False             0   \n",
              "\n",
              "            choice                                     answer_context  \\\n",
              "11          answer  The main focus of the third chapter of the pam...   \n",
              "13  answer_context  There is no direct evidence in the given conte...   \n",
              "20  answer_context  The rising nationalist protests in Japan and t...   \n",
              "28          answer  The United States' policy of appeasement towar...   \n",
              "29          answer  Hitler's plan for expanding German territory w...   \n",
              "30          answer  According to historians, Hitler's ultimate goa...   \n",
              "33          answer  I appreciate your question about A.J.P. Taylor...   \n",
              "36             NaN  The main focus of the third chapter of the pam...   \n",
              "37             NaN  Hitler's plan for expanding German territory w...   \n",
              "38             NaN  The United States' policy of appeasement towar...   \n",
              "41             NaN  Hitler's ultimate goal in terms of foreign pol...   \n",
              "42             NaN  There is no direct evidence that suggests Hitl...   \n",
              "45             NaN  The rising nationalist protests in Japan and t...   \n",
              "46             NaN  A.J.P. Taylor's main argument in his book Orig...   \n",
              "\n",
              "                                              context  \n",
              "11    As we have already seen in the previous sect...  \n",
              "13   In the course of 1940, as the German armies  ...  \n",
              "20   The more the League of Nations tried to put p...  \n",
              "28    The onward march of fascism was underlined b...  \n",
              "29    The onward march of fascism was underlined b...  \n",
              "30    But it is less clear that a pact with Russia...  \n",
              "33    As we have already seen in the previous sect...  \n",
              "36   Much of it has focused on the diplomatic even...  \n",
              "37   As we shall see,  social tensions, economic w...  \n",
              "38    The third chapter of the pamphlet examines t...  \n",
              "41   For, as Taylor pointed out, the  peace settle...  \n",
              "42   Baldwin and Chamberlain were repeatedly warne...  \n",
              "45   For, as Taylor pointed out, the  peace settle...  \n",
              "46   As we shall see,  social tensions, economic w...  "
            ]
          },
          "execution_count": 24,
          "metadata": {},
          "output_type": "execute_result"
        }
      ],
      "source": [
        "df_history_results.loc[df_history_results['question'].duplicated(keep=False),:]"
      ]
    },
    {
      "cell_type": "code",
      "execution_count": 22,
      "metadata": {},
      "outputs": [
        {
          "data": {
            "text/plain": [
              "(43,)"
            ]
          },
          "execution_count": 22,
          "metadata": {},
          "output_type": "execute_result"
        }
      ],
      "source": [
        "df_history_results['question'].unique().shape"
      ]
    },
    {
      "cell_type": "code",
      "execution_count": 38,
      "metadata": {},
      "outputs": [],
      "source": [
        "context_sample = [c for c in contexts if c not in df_history_results['context'].unique()]\n",
        "context_sample = np.random.choice(contexts,4,replace=False)"
      ]
    },
    {
      "cell_type": "code",
      "execution_count": 39,
      "metadata": {},
      "outputs": [
        {
          "name": "stdout",
          "output_type": "stream",
          "text": [
            "Questions from round 0 saved!\n",
            "Questions from round 1 saved!\n",
            "Questions from round 2 saved!\n",
            "Questions from round 3 saved!\n"
          ]
        }
      ],
      "source": [
        "# Ask ChatGPT to make questions to sections\n",
        "data = []\n",
        "\n",
        "req_per_min = 0\n",
        "max_req_per_min = 3\n",
        "last_time_stamp = time.time()\n",
        "# For each pair of questions\n",
        "for i in range(len(context_sample)):\n",
        "    context = context_sample[i]\n",
        "    \n",
        "    # Check rate limit\n",
        "    req_per_min += 1\n",
        "    while req_per_min>=max_req_per_min:\n",
        "        time_stamp = time.time()\n",
        "        if int(time.time()-last_time_stamp) > 60:\n",
        "            last_time_stamp = time_stamp\n",
        "            req_per_min = 0\n",
        "        else:\n",
        "            time.sleep(10)\n",
        "        \n",
        "    # Ask the oracle for label for the context and two questions\n",
        "    try:\n",
        "        completion = openai.ChatCompletion.create(\n",
        "            model=\"gpt-3.5-turbo\",\n",
        "            temperature=0,\n",
        "            messages=[\n",
        "            {\"role\":\"system\", \"content\":\"You are a system designed to generate a question that can be answered well using a provided context. It should also be possible to answer the question without knowing the context.\"},\n",
        "            {\"role\": \"user\", \"content\": f'CONTEXT: ```{context}```'}\n",
        "            ]\n",
        "        )\n",
        "    except Exception as e:\n",
        "        print(\"OPENAI_ERROR:\",str(e))\n",
        "        continue\n",
        "\n",
        "    # Parse the response to get labels\n",
        "    res = completion.choices[0].message.content\n",
        "    \n",
        "    # Save data into a dataframe\n",
        "    data += [{'correct_context': context, 'question': res}]\n",
        "    print(f\"Questions from round {i} saved!\")"
      ]
    },
    {
      "cell_type": "code",
      "execution_count": 37,
      "metadata": {},
      "outputs": [
        {
          "data": {
            "text/html": [
              "<div>\n",
              "<style scoped>\n",
              "    .dataframe tbody tr th:only-of-type {\n",
              "        vertical-align: middle;\n",
              "    }\n",
              "\n",
              "    .dataframe tbody tr th {\n",
              "        vertical-align: top;\n",
              "    }\n",
              "\n",
              "    .dataframe thead th {\n",
              "        text-align: right;\n",
              "    }\n",
              "</style>\n",
              "<table border=\"1\" class=\"dataframe\">\n",
              "  <thead>\n",
              "    <tr style=\"text-align: right;\">\n",
              "      <th></th>\n",
              "      <th>question</th>\n",
              "      <th>correct_context</th>\n",
              "      <th>answer</th>\n",
              "      <th>answer_correct_context</th>\n",
              "      <th>fetched</th>\n",
              "      <th>fetched_time</th>\n",
              "      <th>choice</th>\n",
              "      <th>answer_context</th>\n",
              "      <th>context</th>\n",
              "    </tr>\n",
              "  </thead>\n",
              "  <tbody>\n",
              "    <tr>\n",
              "      <th>0</th>\n",
              "      <td>What were the key themes in Hitler's thinking ...</td>\n",
              "      <td>(For further discussion of this topic  see th...</td>\n",
              "      <td>NaN</td>\n",
              "      <td>NaN</td>\n",
              "      <td>False</td>\n",
              "      <td>0</td>\n",
              "      <td>NaN</td>\n",
              "      <td>NaN</td>\n",
              "      <td>NaN</td>\n",
              "    </tr>\n",
              "    <tr>\n",
              "      <th>1</th>\n",
              "      <td>What is the focus of the book \"The Origins of ...</td>\n",
              "      <td>The Origins of the Second World War  1933–194...</td>\n",
              "      <td>NaN</td>\n",
              "      <td>NaN</td>\n",
              "      <td>False</td>\n",
              "      <td>0</td>\n",
              "      <td>NaN</td>\n",
              "      <td>NaN</td>\n",
              "      <td>NaN</td>\n",
              "    </tr>\n",
              "    <tr>\n",
              "      <th>2</th>\n",
              "      <td>What were the fundamental beliefs of the Nazi ...</td>\n",
              "      <td>Other races, notably eastern ones, could carr...</td>\n",
              "      <td>NaN</td>\n",
              "      <td>NaN</td>\n",
              "      <td>False</td>\n",
              "      <td>0</td>\n",
              "      <td>NaN</td>\n",
              "      <td>NaN</td>\n",
              "      <td>NaN</td>\n",
              "    </tr>\n",
              "    <tr>\n",
              "      <th>3</th>\n",
              "      <td>What was the Sudeten German leader's tactic in...</td>\n",
              "      <td>Schuschnigg took the hint, and on his return...</td>\n",
              "      <td>NaN</td>\n",
              "      <td>NaN</td>\n",
              "      <td>False</td>\n",
              "      <td>0</td>\n",
              "      <td>NaN</td>\n",
              "      <td>NaN</td>\n",
              "      <td>NaN</td>\n",
              "    </tr>\n",
              "    <tr>\n",
              "      <th>6</th>\n",
              "      <td>What were the alternative policies towards Ger...</td>\n",
              "      <td>He  further points out that, by early 1939, t...</td>\n",
              "      <td>NaN</td>\n",
              "      <td>NaN</td>\n",
              "      <td>False</td>\n",
              "      <td>0</td>\n",
              "      <td>NaN</td>\n",
              "      <td>NaN</td>\n",
              "      <td>NaN</td>\n",
              "    </tr>\n",
              "  </tbody>\n",
              "</table>\n",
              "</div>"
            ],
            "text/plain": [
              "                                            question  \\\n",
              "0  What were the key themes in Hitler's thinking ...   \n",
              "1  What is the focus of the book \"The Origins of ...   \n",
              "2  What were the fundamental beliefs of the Nazi ...   \n",
              "3  What was the Sudeten German leader's tactic in...   \n",
              "6  What were the alternative policies towards Ger...   \n",
              "\n",
              "                                     correct_context  answer  \\\n",
              "0   (For further discussion of this topic  see th...     NaN   \n",
              "1   The Origins of the Second World War  1933–194...     NaN   \n",
              "2   Other races, notably eastern ones, could carr...     NaN   \n",
              "3    Schuschnigg took the hint, and on his return...     NaN   \n",
              "6   He  further points out that, by early 1939, t...     NaN   \n",
              "\n",
              "   answer_correct_context  fetched  fetched_time  choice  answer_context  \\\n",
              "0                     NaN    False             0     NaN             NaN   \n",
              "1                     NaN    False             0     NaN             NaN   \n",
              "2                     NaN    False             0     NaN             NaN   \n",
              "3                     NaN    False             0     NaN             NaN   \n",
              "6                     NaN    False             0     NaN             NaN   \n",
              "\n",
              "   context  \n",
              "0      NaN  \n",
              "1      NaN  \n",
              "2      NaN  \n",
              "3      NaN  \n",
              "6      NaN  "
            ]
          },
          "execution_count": 37,
          "metadata": {},
          "output_type": "execute_result"
        }
      ],
      "source": [
        "df_history_extra"
      ]
    },
    {
      "cell_type": "code",
      "execution_count": 42,
      "metadata": {},
      "outputs": [
        {
          "data": {
            "text/html": [
              "<div>\n",
              "<style scoped>\n",
              "    .dataframe tbody tr th:only-of-type {\n",
              "        vertical-align: middle;\n",
              "    }\n",
              "\n",
              "    .dataframe tbody tr th {\n",
              "        vertical-align: top;\n",
              "    }\n",
              "\n",
              "    .dataframe thead th {\n",
              "        text-align: right;\n",
              "    }\n",
              "</style>\n",
              "<table border=\"1\" class=\"dataframe\">\n",
              "  <thead>\n",
              "    <tr style=\"text-align: right;\">\n",
              "      <th></th>\n",
              "      <th>question</th>\n",
              "      <th>correct_context</th>\n",
              "      <th>answer</th>\n",
              "      <th>answer_correct_context</th>\n",
              "      <th>fetched</th>\n",
              "      <th>fetched_time</th>\n",
              "      <th>choice</th>\n",
              "      <th>answer_context</th>\n",
              "      <th>context</th>\n",
              "    </tr>\n",
              "  </thead>\n",
              "  <tbody>\n",
              "    <tr>\n",
              "      <th>0</th>\n",
              "      <td>What were the consequences of the Maginot line...</td>\n",
              "      <td>Further-more, Britain had only skeletal home...</td>\n",
              "      <td>NaN</td>\n",
              "      <td>NaN</td>\n",
              "      <td>False</td>\n",
              "      <td>0</td>\n",
              "      <td>NaN</td>\n",
              "      <td>NaN</td>\n",
              "      <td>NaN</td>\n",
              "    </tr>\n",
              "    <tr>\n",
              "      <th>1</th>\n",
              "      <td>What was the anti-comintern pact and how did i...</td>\n",
              "      <td>The onward march of fascism was underlined b...</td>\n",
              "      <td>NaN</td>\n",
              "      <td>NaN</td>\n",
              "      <td>False</td>\n",
              "      <td>0</td>\n",
              "      <td>NaN</td>\n",
              "      <td>NaN</td>\n",
              "      <td>NaN</td>\n",
              "    </tr>\n",
              "  </tbody>\n",
              "</table>\n",
              "</div>"
            ],
            "text/plain": [
              "                                            question  \\\n",
              "0  What were the consequences of the Maginot line...   \n",
              "1  What was the anti-comintern pact and how did i...   \n",
              "\n",
              "                                     correct_context  answer  \\\n",
              "0    Further-more, Britain had only skeletal home...     NaN   \n",
              "1    The onward march of fascism was underlined b...     NaN   \n",
              "\n",
              "   answer_correct_context  fetched  fetched_time  choice  answer_context  \\\n",
              "0                     NaN    False             0     NaN             NaN   \n",
              "1                     NaN    False             0     NaN             NaN   \n",
              "\n",
              "   context  \n",
              "0      NaN  \n",
              "1      NaN  "
            ]
          },
          "execution_count": 42,
          "metadata": {},
          "output_type": "execute_result"
        }
      ],
      "source": []
    },
    {
      "cell_type": "code",
      "execution_count": 36,
      "metadata": {},
      "outputs": [],
      "source": [
        "df_history_extra = df_history_extra[~df_history_extra['question'].isin(df_history_results['question'].values)]"
      ]
    },
    {
      "cell_type": "code",
      "execution_count": 43,
      "metadata": {},
      "outputs": [],
      "source": [
        "df_history_extra = pd.concat((df_history_extra,df_history_extra_e[~df_history_extra_e['question'].isin(df_history_results['question'].values)].iloc[0:2]))"
      ]
    },
    {
      "cell_type": "code",
      "execution_count": 40,
      "metadata": {},
      "outputs": [],
      "source": [
        "df_history_extra = pd.DataFrame(columns=df_history_results.columns, data=data)\n",
        "df_history_extra['fetched'] = False\n",
        "df_history_extra['fetched_time'] = 0"
      ]
    },
    {
      "cell_type": "code",
      "execution_count": 141,
      "metadata": {},
      "outputs": [],
      "source": [
        "df = pd.DataFrame(columns=['question','context'],data=data)"
      ]
    },
    {
      "cell_type": "code",
      "execution_count": 143,
      "metadata": {},
      "outputs": [],
      "source": [
        "with open('./data/history_long_contexts_questions.pkl','wb') as f:\n",
        "    f.write(pickle.dumps(df))"
      ]
    },
    {
      "attachments": {},
      "cell_type": "markdown",
      "metadata": {},
      "source": [
        "# Generate answers for A/B test w and w/o context"
      ]
    },
    {
      "cell_type": "code",
      "execution_count": 3,
      "metadata": {},
      "outputs": [],
      "source": [
        "with open('./data/2450_long_contexts_questions.pkl','rb') as f:\n",
        "    df_ab = pickle.loads(f.read())"
      ]
    },
    {
      "cell_type": "code",
      "execution_count": 166,
      "metadata": {},
      "outputs": [],
      "source": [
        "df_ab['answer'] = np.nan\n",
        "df_ab['answer_context'] = np.nan"
      ]
    },
    {
      "cell_type": "code",
      "execution_count": 74,
      "metadata": {},
      "outputs": [
        {
          "name": "stdout",
          "output_type": "stream",
          "text": [
            "Questions from round 0 saved! Index: 43\n",
            "Questions from round 1 saved! Index: 44\n",
            "Questions from round 2 saved! Index: 45\n",
            "Questions from round 3 saved! Index: 46\n",
            "Questions from round 4 saved! Index: 47\n",
            "Questions from round 5 saved! Index: 48\n",
            "Questions from round 6 saved! Index: 49\n"
          ]
        }
      ],
      "source": [
        "# Ask ChatGPT to make answers to 3 lengths of contexs\n",
        "\n",
        "\n",
        "req_per_min = 0\n",
        "max_req_per_min = 3\n",
        "last_time_stamp = time.time()\n",
        "# For each pair of questions\n",
        "i = 0\n",
        "for idx,row in df_ab.iloc[43:].iterrows():\n",
        "    question = row['question']\n",
        "    context = row['context']\n",
        "    \n",
        "    # Check rate limit\n",
        "    req_per_min += 1\n",
        "    while req_per_min>=max_req_per_min:\n",
        "        time_stamp = time.time()\n",
        "        if int(time.time()-last_time_stamp) > 60:\n",
        "            last_time_stamp = time_stamp\n",
        "            req_per_min = 0\n",
        "        else:\n",
        "            time.sleep(5)\n",
        "        \n",
        "    # Ask the oracle for label for the context and two questions\n",
        "    try:\n",
        "        completion = openai.ChatCompletion.create(\n",
        "            model=\"gpt-3.5-turbo\",\n",
        "            temperature=0,\n",
        "            messages=[\n",
        "                {\"role\": \"user\", \"content\": f'Act as a teacher. A student asks the following question: ```{question}```. Answer the question with help from the following context: ```{context}```'}\n",
        "            ]\n",
        "        )\n",
        "\n",
        "        answer = completion.choices[0].message.content\n",
        "\n",
        "        df_ab.loc[idx,'answer_context'] = answer\n",
        "\n",
        "    except Exception as e:\n",
        "        print(\"OPENAI_ERROR:\",str(e))\n",
        "        continue\n",
        "\n",
        "    # Check rate limit\n",
        "    req_per_min += 1\n",
        "    while req_per_min>=max_req_per_min:\n",
        "        time_stamp = time.time()\n",
        "        if int(time.time()-last_time_stamp) > 60:\n",
        "            last_time_stamp = time_stamp\n",
        "            req_per_min = 0\n",
        "        else:\n",
        "            time.sleep(5)\n",
        "        \n",
        "    # Ask the oracle for label for the context and two questions\n",
        "    try:\n",
        "        completion = openai.ChatCompletion.create(\n",
        "            model=\"gpt-3.5-turbo\",\n",
        "            temperature=0,\n",
        "            messages=[\n",
        "                {\"role\": \"user\", \"content\": f'Act as a teacher. A student asks the following question: ```{question}```. Answer the question'}\n",
        "            ]\n",
        "        )\n",
        "\n",
        "        answer = completion.choices[0].message.content\n",
        "\n",
        "        df_ab.loc[idx,'answer'] = answer\n",
        "\n",
        "    except Exception as e:\n",
        "        print(\"OPENAI_ERROR:\",str(e))\n",
        "        continue\n",
        "\n",
        "    \n",
        "\n",
        "    print(f\"Questions from round {i} saved! Index: {idx}\")\n",
        "    i+=1"
      ]
    },
    {
      "cell_type": "code",
      "execution_count": 18,
      "metadata": {},
      "outputs": [],
      "source": [
        "df_ab['fetched'] = False\n",
        "df_ab['fetched_time'] = 0\n",
        "df_ab['choice'] = np.nan\n",
        "with open('../../web/chatta/ab_test/context_history/saves/df_ab_original.pkl','wb') as f:\n",
        "    f.write(pickle.dumps(df_ab))"
      ]
    },
    {
      "attachments": {},
      "cell_type": "markdown",
      "metadata": {},
      "source": [
        "# Find contexts with NN model"
      ]
    },
    {
      "cell_type": "code",
      "execution_count": 16,
      "metadata": {},
      "outputs": [],
      "source": [
        "import torch\n",
        "import tensorflow as tf\n",
        "# Imports\n",
        "import numpy as np\n",
        "import pandas as pd\n",
        "import pickle\n",
        "import random\n",
        "\n",
        "# set randomn seed for reproducibility\n",
        "seed = 23\n",
        "random.seed(seed)\n",
        "np.random.seed(seed)\n",
        "torch.manual_seed(seed)\n",
        "torch.cuda.manual_seed(seed)\n",
        "torch.manual_seed(seed)\n",
        "torch.cuda.manual_seed(seed)\n",
        "tf.random.set_seed(seed)\n",
        "\n",
        "from keras.models import Sequential\n",
        "from keras.layers import Dense\n",
        "from keras import metrics\n",
        "from keras.models import load_model\n",
        "\n",
        "from sentence_transformers import SentenceTransformer\n",
        "emb_model = SentenceTransformer('sentence-transformers/multi-qa-mpnet-base-dot-v1')"
      ]
    },
    {
      "cell_type": "code",
      "execution_count": 17,
      "metadata": {},
      "outputs": [
        {
          "data": {
            "text/plain": [
              "3281"
            ]
          },
          "execution_count": 17,
          "metadata": {},
          "output_type": "execute_result"
        }
      ],
      "source": [
        "len(contexts[10])"
      ]
    },
    {
      "cell_type": "code",
      "execution_count": 22,
      "metadata": {},
      "outputs": [],
      "source": [
        "a = emb_model.encode(contexts[10])"
      ]
    },
    {
      "cell_type": "code",
      "execution_count": 30,
      "metadata": {},
      "outputs": [
        {
          "data": {
            "text/plain": [
              "True"
            ]
          },
          "execution_count": 30,
          "metadata": {},
          "output_type": "execute_result"
        }
      ],
      "source": [
        "b = emb_model.encode(contexts[10][0:-500])\n",
        "all(a == b)"
      ]
    },
    {
      "cell_type": "code",
      "execution_count": 29,
      "metadata": {},
      "outputs": [
        {
          "data": {
            "text/plain": [
              "471"
            ]
          },
          "execution_count": 29,
          "metadata": {},
          "output_type": "execute_result"
        }
      ],
      "source": [
        "len(contexts[10][0:-500].split(\" \"))"
      ]
    },
    {
      "cell_type": "code",
      "execution_count": 28,
      "metadata": {},
      "outputs": [
        {
          "data": {
            "text/plain": [
              "'ed his political elevation entirely to the  effects of the depression in Germany, though the evidence does appear to support this  interpretation Clearly the Nazis, under Hitler’s leadership, were sufficiently organized to  have exploited any internal crisis, though whether this would have resulted in such  widespread electoral support, or perhaps have involved a more forceful seizure of power,  we cannot know Would the Weimar system of coalition governments have survived  without the depression'"
            ]
          },
          "execution_count": 28,
          "metadata": {},
          "output_type": "execute_result"
        }
      ],
      "source": [
        "contexts[10][-500:]"
      ]
    },
    {
      "cell_type": "code",
      "execution_count": 52,
      "metadata": {},
      "outputs": [],
      "source": [
        "# Define NN\n",
        "neural_net = Sequential()\n",
        "neural_net.add(Dense(768, input_dim=768*2, activation='relu'))\n",
        "neural_net.add(Dense(384, activation='relu'))\n",
        "neural_net.add(Dense(1, activation='sigmoid'))\n",
        "\n",
        "neural_net.compile(loss='binary_crossentropy', optimizer='adam', metrics=[metrics.TruePositives(name='tp'),\n",
        "                metrics.FalsePositives(name='fp'),\n",
        "                metrics.TrueNegatives(name='tn'),\n",
        "                metrics.FalseNegatives(name='fn'),\n",
        "                metrics.BinaryAccuracy(name='accuracy'),\n",
        "                metrics.Precision(name='precision'),\n",
        "                metrics.Recall(name='recall'),\n",
        "                metrics.AUC(name='auc'),\n",
        "                metrics.AUC(name='prc', curve='PR')])"
      ]
    },
    {
      "cell_type": "code",
      "execution_count": 53,
      "metadata": {},
      "outputs": [
        {
          "data": {
            "text/plain": [
              "<tensorflow.python.checkpoint.checkpoint.CheckpointLoadStatus at 0x156f5b134c0>"
            ]
          },
          "execution_count": 53,
          "metadata": {},
          "output_type": "execute_result"
        }
      ],
      "source": [
        "neural_net.load_weights('./Results/NN/basic_all_ctx/')"
      ]
    },
    {
      "cell_type": "code",
      "execution_count": 54,
      "metadata": {},
      "outputs": [],
      "source": [
        "# with open('../../web/chatta/ab_test/context_history/saves/df_ab_original_old.pkl','rb') as f:\n",
        "#     df_ab = pickle.loads(f.read())\n",
        "with open('./data/ww2_long_contexts.pkl','rb') as f:\n",
        "    contexts = pickle.loads(f.read())\n",
        "with open(f'./Embeddings/ww2_context_embeddings_4000.pkl', 'rb') as f:\n",
        "    context_embeddings = pickle.loads(f.read())"
      ]
    },
    {
      "cell_type": "code",
      "execution_count": 92,
      "metadata": {},
      "outputs": [],
      "source": [
        "with open('../../web/chatta/ab_test/context_2450/saves/df_ab_original_old.pkl','rb') as f:\n",
        "    df_ab = pickle.loads(f.read())\n",
        "with open('./data/2450_long_contexts.pkl','rb') as f:\n",
        "    contexts = pickle.loads(f.read())\n",
        "with open(f'./Embeddings/2450_context_embeddings_4000.pkl', 'rb') as f:\n",
        "    context_embeddings = pickle.loads(f.read())"
      ]
    },
    {
      "cell_type": "code",
      "execution_count": 61,
      "metadata": {},
      "outputs": [],
      "source": [
        "df_ab = df_history_results_updated"
      ]
    },
    {
      "cell_type": "code",
      "execution_count": 62,
      "metadata": {},
      "outputs": [],
      "source": [
        "questions = df_ab['question'].unique()"
      ]
    },
    {
      "cell_type": "code",
      "execution_count": 63,
      "metadata": {},
      "outputs": [],
      "source": [
        "question_embeddings = {q:emb_model.encode(q) for q in questions}"
      ]
    },
    {
      "cell_type": "code",
      "execution_count": 64,
      "metadata": {},
      "outputs": [],
      "source": [
        "q_to_found_ctx = {}\n",
        "for q in questions:\n",
        "    q_emb = question_embeddings[q]\n",
        "    inp = np.array([\n",
        "    np.concatenate((context_embeddings[ctx],q_emb)) for ctx in contexts])\n",
        "    out = neural_net(inp)\n",
        "    #out = np.array([[np.dot(context_embeddings[ctx],q_emb)] for ctx in contexts])\n",
        "    found_ctx = contexts[np.argmax(out)]\n",
        "    q_to_found_ctx[q] = found_ctx"
      ]
    },
    {
      "cell_type": "code",
      "execution_count": 96,
      "metadata": {},
      "outputs": [],
      "source": [
        "df_ab.rename(columns={'context':'correct_context'},inplace=True)\n",
        "df_ab.rename(columns={'answer_context':'answer_correct_context'},inplace=True)\n",
        "df_ab['answer_context'] = np.nan\n",
        "df_ab['context'] = np.nan"
      ]
    },
    {
      "cell_type": "code",
      "execution_count": 72,
      "metadata": {},
      "outputs": [],
      "source": [
        "for idx,row in df_ab.iloc[43:].iterrows():\n",
        "    df_ab.loc[idx,'context'] = q_to_found_ctx[row['question']]"
      ]
    },
    {
      "cell_type": "code",
      "execution_count": 78,
      "metadata": {},
      "outputs": [],
      "source": [
        "with open('../../web/chatta/ab_test/context_history/saves/df_ab_fixed.pkl','wb') as f:\n",
        "    f.write(pickle.dumps(df_ab))"
      ]
    },
    {
      "cell_type": "code",
      "execution_count": 2,
      "metadata": {},
      "outputs": [],
      "source": [
        "import pickle"
      ]
    },
    {
      "cell_type": "code",
      "execution_count": 79,
      "metadata": {},
      "outputs": [],
      "source": [
        "with open('../../web/chatta/ab_test/context_history/saves/df_ab_fixed.pkl','rb') as f:\n",
        "    df_fixed = pickle.loads(f.read())"
      ]
    },
    {
      "cell_type": "code",
      "execution_count": 4,
      "metadata": {},
      "outputs": [
        {
          "data": {
            "text/plain": [
              "11      The third chapter of the pamphlet examines t...\n",
              "36      The third chapter of the pamphlet examines t...\n",
              "Name: correct_context, dtype: object"
            ]
          },
          "execution_count": 4,
          "metadata": {},
          "output_type": "execute_result"
        }
      ],
      "source": [
        "df_fixed.loc[df_fixed['question']=='What is the main focus of the third chapter of the pamphlet \"The Origins of the Second World War 1933-1941\"?','correct_context']"
      ]
    },
    {
      "cell_type": "code",
      "execution_count": 12,
      "metadata": {},
      "outputs": [
        {
          "ename": "NameError",
          "evalue": "name 'df_fixed' is not defined",
          "output_type": "error",
          "traceback": [
            "\u001b[1;31m---------------------------------------------------------------------------\u001b[0m",
            "\u001b[1;31mNameError\u001b[0m                                 Traceback (most recent call last)",
            "\u001b[1;32mc:\\Users\\Lauritz\\Documents\\DTU\\4-semester\\fagprojekt\\Learning-with-ChatGPT\\dev\\Neural Search\\q_w_chat.ipynb Cell 73\u001b[0m in \u001b[0;36m<cell line: 1>\u001b[1;34m()\u001b[0m\n\u001b[1;32m----> <a href='vscode-notebook-cell:/c%3A/Users/Lauritz/Documents/DTU/4-semester/fagprojekt/Learning-with-ChatGPT/dev/Neural%20Search/q_w_chat.ipynb#Y132sZmlsZQ%3D%3D?line=0'>1</a>\u001b[0m df_fixed[\u001b[39m'\u001b[39m\u001b[39mquestion\u001b[39m\u001b[39m'\u001b[39m]\u001b[39m.\u001b[39munique()\u001b[39m.\u001b[39mshape\n",
            "\u001b[1;31mNameError\u001b[0m: name 'df_fixed' is not defined"
          ]
        }
      ],
      "source": [
        "df_fixed['question'].unique().shape"
      ]
    },
    {
      "cell_type": "code",
      "execution_count": 4,
      "metadata": {},
      "outputs": [],
      "source": [
        "with open('../ab_test_2450_final.pkl','rb') as f:\n",
        "    df_2450_results = pickle.loads(f.read())\n",
        "with open('../ab_test_history_final.pkl','rb') as f:\n",
        "    df_history_results = pickle.loads(f.read())"
      ]
    },
    {
      "cell_type": "code",
      "execution_count": 3,
      "metadata": {},
      "outputs": [],
      "source": [
        "with open('../16_2450_final.pkl','rb') as f:\n",
        "    df_2450_results = pickle.loads(f.read())\n",
        "with open('../16_history_final.pkl','rb') as f:\n",
        "    df_history_results = pickle.loads(f.read())"
      ]
    },
    {
      "cell_type": "code",
      "execution_count": 9,
      "metadata": {},
      "outputs": [
        {
          "data": {
            "text/plain": [
              "answer            28\n",
              "answer_context    22\n",
              "Name: choice, dtype: int64"
            ]
          },
          "execution_count": 9,
          "metadata": {},
          "output_type": "execute_result"
        }
      ],
      "source": [
        "df_2450_results['choice'].value_counts()"
      ]
    },
    {
      "cell_type": "code",
      "execution_count": 11,
      "metadata": {},
      "outputs": [
        {
          "data": {
            "text/plain": [
              "answer            30\n",
              "answer_context    20\n",
              "Name: choice, dtype: int64"
            ]
          },
          "execution_count": 11,
          "metadata": {},
          "output_type": "execute_result"
        }
      ],
      "source": [
        "df_history_results['choice'].value_counts()"
      ]
    },
    {
      "cell_type": "code",
      "execution_count": 8,
      "metadata": {},
      "outputs": [
        {
          "data": {
            "text/plain": [
              "answer            33\n",
              "answer_context    17\n",
              "Name: choice, dtype: int64"
            ]
          },
          "execution_count": 8,
          "metadata": {},
          "output_type": "execute_result"
        }
      ],
      "source": [
        "df_history_results['choice'].value_counts()"
      ]
    },
    {
      "cell_type": "code",
      "execution_count": 11,
      "metadata": {},
      "outputs": [
        {
          "data": {
            "text/plain": [
              "(44,)"
            ]
          },
          "execution_count": 11,
          "metadata": {},
          "output_type": "execute_result"
        }
      ],
      "source": [
        "df_2450_results['question'].unique().shape"
      ]
    },
    {
      "cell_type": "code",
      "execution_count": 14,
      "metadata": {},
      "outputs": [
        {
          "data": {
            "text/plain": [
              "What is the definition of a symmetric matrix?                                                                                                                      3\n",
              "What is the impurity measure used in the decision tree in the given context?                                                                                       2\n",
              "What is the purpose of using a baseline in machine learning?                                                                                                       2\n",
              "What is the most common choice for the logistic function used to define the density of the Bernoulli distribution?                                                 2\n",
              "What is the horizon effect and how does pruning attempt to address it?                                                                                             2\n",
              "What is the main distinction in statistical testing between setup I and setup II?                                                                                  1\n",
              "What is the delta function and how is it used in computing the number of observations in a cluster?                                                                1\n",
              "What is the subject of Alan Turing's famous essay \"Computing machinery and intelligence\"?                                                                          1\n",
              "What is the focus of chapters 5 and 6 in the provided context?                                                                                                     1\n",
              "What is the expected value of a random variable x given its density function p(x), as shown in Figure 6.13? (Context needed to answer this question is missing)    1\n",
              "What is the purpose of applying logarithm to a feature column in machine learning?                                                                                 1\n",
              "What is leave-one-out cross-validation and how is it used in KNN regression?                                                                                       1\n",
              "What is the sum rule for mutually exclusive events?                                                                                                                1\n",
              "What is regularization and how is it used to control model complexity?                                                                                             1\n",
              "What is the advantage of using a histogram to visualize a single attribute of a dataset?                                                                           1\n",
              "What is the goal of building a machine learning system for the MNIST dataset?                                                                                      1\n",
              "What is the significance level commonly used to reject the null hypothesis in statistical testing?                                                                 1\n",
              "What is cross-validation and why is it important in evaluating model performance?                                                                                  1\n",
              "What is the definition of a basis of a subspace?                                                                                                                   1\n",
              "What is the title of the book that contains the article \"Data mining for imbalanced datasets: An overview\"?                                                        1\n",
              "What is the purpose of cross-validation in estimating the generalization error?                                                                                    1\n",
              "What is cross-validation and how is it used for model selection?                                                                                                   1\n",
              "What is the goal of principal component analysis?                                                                                                                  1\n",
              "What is the binomial distribution and how is it used to compute the probability of observing m positive outcomes in a sequence of N Bernoulli events?              1\n",
              "What is forward selection and how does it work in the context of model selection?                                                                                  1\n",
              "What is KNN regression and how is it different from KNN classification?                                                                                            1\n",
              "Using the data in Table 4.4, which of the following statements is correct?                                                                                         1\n",
              "What is the Apriori algorithm used for?                                                                                                                            1\n",
              "What is the purpose of the document \"Introduction to Machine Learning and Data Mining Lecture notes, Spring 2022\"?                                                 1\n",
              "What are two popular frameworks for automating the construction of neural network algorithms, and what are some benefits of using them?                            1\n",
              "What is KNN regression and how can it be extended?                                                                                                                 1\n",
              "What is the AdaBoost algorithm and how does it work?                                                                                                               1\n",
              "What is PCA and what are its applications?                                                                                                                         1\n",
              "What is the naive baseline level for a dataset with 100 classes, each with the same number of elements?                                                            1\n",
              "What is the purpose of the Introduction to Machine Learning and Data Mining Lecture notes?                                                                         1\n",
              "What is the standard data format used in the course and how is it represented?                                                                                     1\n",
              "What is the correct answer for problem 7.2 and how was it obtained?                                                                                                1\n",
              "What is the goal of K-means clustering?                                                                                                                            1\n",
              "What is the definition of the p'th percentile and how is it calculated using linear interpolation?                                                                 1\n",
              "What is the data set described in Table 2.3 about and how many observations and input attributes does it contain?                                                  1\n",
              "What is the formula for updating the location of cluster centers in the K-means algorithm?                                                                         1\n",
              "What is cross-validation and why is it used to estimate a model's generalization error?                                                                            1\n",
              "What is regularization in linear regression?                                                                                                                       1\n",
              "What is the aim of regularized least squares regression?                                                                                                           1\n",
              "Name: question, dtype: int64"
            ]
          },
          "execution_count": 14,
          "metadata": {},
          "output_type": "execute_result"
        }
      ],
      "source": [
        "df_2450_results['question'].value_counts()"
      ]
    },
    {
      "cell_type": "code",
      "execution_count": 15,
      "metadata": {},
      "outputs": [
        {
          "data": {
            "text/plain": [
              "(35,)"
            ]
          },
          "execution_count": 15,
          "metadata": {},
          "output_type": "execute_result"
        }
      ],
      "source": [
        "df_history_results['question'].unique().shape"
      ]
    },
    {
      "cell_type": "code",
      "execution_count": 16,
      "metadata": {},
      "outputs": [
        {
          "data": {
            "text/plain": [
              "What was the significance of the German-Soviet non-aggression pact in the context of the events leading up to World War II?                                                                                3\n",
              "What were the three developments that split open the united front of Britain, France, and Italy against German rearmament in the mid-1930s?                                                                3\n",
              "What were the objectives of Japan's expansion in the Pacific region during World War II?                                                                                                                   3\n",
              "What was Hitler's plan for expanding German territory and how did he justify it?                                                                                                                           2\n",
              "What are some recommended sources for studying the strategic and economic problems facing Britain in the inter-war period, as well as specific crises that occurred between 1935 and 1941?                 2\n",
              "What were the challenges faced by Britain and the United States in containing Japanese expansion in East Asia before the outbreak of the Second World War?                                                 2\n",
              "What evidence suggests that Hitler was already looking ahead to a conflict against the United States for world domination?                                                                                 2\n",
              "What was the Hoare-Laval pact and why did it cause an uproar in Britain?                                                                                                                                   2\n",
              "What was Stalin's main concern during the mid- and late 1930s in terms of Soviet foreign policy, and how did this influence their actions towards Nazi Germany?                                            2\n",
              "What was the concern of Mussolini regarding German expansionist aims and how did he plan to establish Italy's own empire?                                                                                  2\n",
              "What was the British government's approach towards dealing with Hitler's grievances in the mid-1930s and why did they adopt this approach?                                                                 2\n",
              "What was Hitler's reaction to the Munich settlement and how did he plan to continue his expansionist ambitions?                                                                                            2\n",
              "What were the difficulties in forming an alliance between Britain, France, and Soviet Russia in the lead up to World War II?                                                                               1\n",
              "What was Chamberlain's approach to negotiating territorial change with Hitler and Mussolini, and how was it received by his contemporaries?                                                                1\n",
              "What was the main argument presented by A.J.P. Taylor in his book Origins of the Second World War and how did it shift the debate about Hitler's role in the outbreak of the war?                          1\n",
              "What were some of the challenges faced by Germany in implementing the Treaty of Versailles, and how did these challenges contribute to the rise of extreme nationalist groups in Germany?                  1\n",
              "What was the outcome of the conference at Munich in 1938, and what were the consequences of this outcome for Czechoslovakia?                                                                               1\n",
              "What was Hitler's ultimate goal in terms of foreign policy, according to historians?                                                                                                                       1\n",
              "What was Hitler's reaction to the Munich settlement and what actions did he take afterwards?                                                                                                               1\n",
              "What were the reasons behind the United States' policy of appeasement towards Hitler in the mid- to late 1930s, and how did it change by 1940?                                                             1\n",
              "What were the reasons for the failure of attempts to draw up a draft arms limitation convention agreeable to the major world powers and members of the League of Nations?                                  1\n",
              "What was the impact of the Wall Street crash of 1929 on Germany and other European countries?                                                                                                              1\n",
              "What were the main causes of the outbreak of war in Europe in 1939 and how did it escalate into a global conflict by 1941?                                                                                 1\n",
              "What was the Night of the Long Knives and how did it impact Hitler's power in Germany?                                                                                                                     1\n",
              "What was the secret protocol in the Nazi-Soviet pact and how did it affect Poland?                                                                                                                         1\n",
              "What were some of the factors that led to rising nationalist protests in Japan and the eventual withdrawal of Japan from the League of Nations in 1933?                                                    1\n",
              "What are some recommended books for studying the diplomacy and politics leading up to the Second World War, including American foreign policy towards Europe and Japanese foreign and imperial policy?     1\n",
              "What are some recommended books and essays for understanding the origins of the Second World War, Fascist and Nazi ideology, inter-war German history, and Soviet foreign policy during Stalin's reign?    1\n",
              "What was Mussolini's aim in the mid-1920s and how did he plan to achieve it?                                                                                                                               1\n",
              "What was the reason behind the French and British reluctance to impose oil sanctions and close the Suez Canal during the years 1933-41, and how did this impact the Italian war effort?                    1\n",
              "What were the major global challenges faced by the British and French governments in the inter-war period and how did these challenges shape their policies towards Hitler after 1933?                     1\n",
              "What was the controversy surrounding A.J.P. Taylor's interpretation of the origins of the Second World War, and how did it impact the study of Nazi foreign policy?                                        1\n",
              "What were the obstacles to Italy forming a political or military alliance with France and its eastern European allies in the 1930s?                                                                        1\n",
              "What is the main focus of the third chapter of the pamphlet \"The Origins of the Second World War 1933-1941\"?                                                                                               1\n",
              "What was the historical debate surrounding the extent to which Hitler shaped Nazi foreign policy?                                                                                                          1\n",
              "Name: question, dtype: int64"
            ]
          },
          "execution_count": 16,
          "metadata": {},
          "output_type": "execute_result"
        }
      ],
      "source": [
        "df_history_results['question'].value_counts()"
      ]
    }
  ],
  "metadata": {
    "kernelspec": {
      "display_name": ".venv",
      "language": "python",
      "name": "python3"
    },
    "language_info": {
      "codemirror_mode": {
        "name": "ipython",
        "version": 3
      },
      "file_extension": ".py",
      "mimetype": "text/x-python",
      "name": "python",
      "nbconvert_exporter": "python",
      "pygments_lexer": "ipython3",
      "version": "3.10.4"
    },
    "orig_nbformat": 4
  },
  "nbformat": 4,
  "nbformat_minor": 2
}
