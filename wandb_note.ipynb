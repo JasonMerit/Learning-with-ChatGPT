{
 "cells": [
  {
   "cell_type": "code",
   "execution_count": 11,
   "metadata": {},
   "outputs": [],
   "source": [
    "import tensorflow as tf\n",
    "import numpy as np\n",
    "import wandb\n",
    "from wandb.keras import WandbCallback"
   ]
  },
  {
   "cell_type": "code",
   "execution_count": 12,
   "metadata": {},
   "outputs": [
    {
     "ename": "AttributeError",
     "evalue": "module 'tensorflow' has no attribute 'placeholder'",
     "output_type": "error",
     "traceback": [
      "\u001b[1;31m---------------------------------------------------------------------------\u001b[0m",
      "\u001b[1;31mAttributeError\u001b[0m                            Traceback (most recent call last)",
      "Cell \u001b[1;32mIn[12], line 2\u001b[0m\n\u001b[0;32m      1\u001b[0m \u001b[39m# x and y are placeholders\u001b[39;00m\n\u001b[1;32m----> 2\u001b[0m x \u001b[39m=\u001b[39m tf\u001b[39m.\u001b[39;49mplaceholder(tf\u001b[39m.\u001b[39mfloat32)\n\u001b[0;32m      3\u001b[0m y \u001b[39m=\u001b[39m tf\u001b[39m.\u001b[39mplaceholder(tf\u001b[39m.\u001b[39mfloat32)\n\u001b[0;32m      5\u001b[0m \u001b[39m# Equation y = b*x*x\u001b[39;00m\n",
      "\u001b[1;31mAttributeError\u001b[0m: module 'tensorflow' has no attribute 'placeholder'"
     ]
    }
   ],
   "source": [
    "# x and y are placeholders\n",
    "x = tf.placeholder(tf.float32)\n",
    "y = tf.placeholder(tf.float32)\n",
    " \n",
    "# Equation y = b*x*x\n",
    "b = tf.Variable([0.0], name=\"b\")\n",
    "ys = tf.multiply(tf.multiply(x, x),b)\n",
    " \n",
    "# Error \n",
    "e = tf.square(y - ys)\n",
    " \n",
    "# The Gradient Descent Optimizer\n",
    "# 1.0 is learning_rate. The learning rate to use by Tensorflow.\n",
    "train = tf.train.GradientDescentOptimizer(1.0).minimize(e)\n",
    " \n",
    "# Create a session and run the model\n",
    "model = tf.global_variables_initializer()\n",
    " \n",
    "with tf.Session() as session:\n",
    "    session.run(model)\n",
    "    for i in range(50):\n",
    "        x_value = np.random.rand()\n",
    "        # Assume b=4, then let's find b_value = 4 and find it \n",
    "  # by gradient descent\n",
    "        # y = 4*x*x\n",
    "        y_value = 4.0*x_value*x_value\n",
    "        session.run(train, feed_dict={x: x_value, y: y_value})\n",
    " \n",
    "    b_value = session.run(b)\n",
    "    print(\"Predicted model: b = \", b_value)"
   ]
  },
  {
   "cell_type": "code",
   "execution_count": 20,
   "metadata": {},
   "outputs": [],
   "source": [
    "# load the data\n",
    "import pickle\n",
    "with open('dev/AL - experiment/df_pickle\\\\df_questions.pkl', 'rb') as f:\n",
    "    df_questions = pickle.load(f)"
   ]
  },
  {
   "cell_type": "code",
   "execution_count": 16,
   "metadata": {},
   "outputs": [],
   "source": [
    "from glob import glob"
   ]
  },
  {
   "cell_type": "code",
   "execution_count": 18,
   "metadata": {},
   "outputs": [
    {
     "data": {
      "text/plain": [
       "['dev/AL - experiment/df_pickle\\\\02450_data.pkl',\n",
       " 'dev/AL - experiment/df_pickle\\\\df_context.pkl',\n",
       " 'dev/AL - experiment/df_pickle\\\\df_gen.pkl',\n",
       " 'dev/AL - experiment/df_pickle\\\\df_gen_old.pkl',\n",
       " 'dev/AL - experiment/df_pickle\\\\df_questions.pkl',\n",
       " 'dev/AL - experiment/df_pickle\\\\df_questions_old.pkl',\n",
       " 'dev/AL - experiment/df_pickle\\\\df_test.pkl',\n",
       " 'dev/AL - experiment/df_pickle\\\\df_test_old.pkl',\n",
       " 'dev/AL - experiment/df_pickle\\\\df_train.pkl',\n",
       " 'dev/AL - experiment/df_pickle\\\\df_train_old.pkl',\n",
       " 'dev/AL - experiment/df_pickle\\\\long_to_short_contexts.pkl',\n",
       " 'dev/AL - experiment/df_pickle\\\\question-context-!dublicates.pkl',\n",
       " 'dev/AL - experiment/df_pickle\\\\question-context-20.pkl',\n",
       " 'dev/AL - experiment/df_pickle\\\\rng_acc.pkl',\n",
       " 'dev/AL - experiment/df_pickle\\\\sections.pkl',\n",
       " 'dev/AL - experiment/df_pickle\\\\test_acc.pkl',\n",
       " 'dev/AL - experiment/df_pickle\\\\test_acc_new.pkl',\n",
       " 'dev/AL - experiment/df_pickle\\\\top_15_long_contexts.pkl']"
      ]
     },
     "execution_count": 18,
     "metadata": {},
     "output_type": "execute_result"
    }
   ],
   "source": [
    "glob('dev/AL - experiment/df_pickle/*')"
   ]
  }
 ],
 "metadata": {
  "kernelspec": {
   "display_name": "base",
   "language": "python",
   "name": "python3"
  },
  "language_info": {
   "codemirror_mode": {
    "name": "ipython",
    "version": 3
   },
   "file_extension": ".py",
   "mimetype": "text/x-python",
   "name": "python",
   "nbconvert_exporter": "python",
   "pygments_lexer": "ipython3",
   "version": "3.10.8"
  },
  "orig_nbformat": 4
 },
 "nbformat": 4,
 "nbformat_minor": 2
}
